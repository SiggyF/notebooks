{
 "metadata": {
  "name": ""
 },
 "nbformat": 3,
 "nbformat_minor": 0,
 "worksheets": [
  {
   "cells": [
    {
     "cell_type": "raw",
     "metadata": {},
     "source": [
      "I have a  2D cartesian grid, non-equidistant.  \n",
      "The coordinates of each cell are stored in X[M,N] en Y[M,N].  These could be lat/lon (spheric). "
     ]
    },
    {
     "cell_type": "code",
     "collapsed": false,
     "input": [
      "x = np.linspace(0,10, num = 500)\n",
      "y = np.linspace(30,50, num=1000)\n",
      "X, Y = np.meshgrid(x,y)\n",
      "m, n = X.shape\n"
     ],
     "language": "python",
     "metadata": {},
     "outputs": [],
     "prompt_number": 101
    },
    {
     "cell_type": "raw",
     "metadata": {},
     "source": [
      "We have a point p = (x,y) "
     ]
    },
    {
     "cell_type": "code",
     "collapsed": false,
     "input": [
      "p = (5.3, 33.2)"
     ],
     "language": "python",
     "metadata": {},
     "outputs": [],
     "prompt_number": 102
    },
    {
     "cell_type": "raw",
     "metadata": {},
     "source": [
      "How do we find the index tuple (i,j) \n",
      "So that  (X[i,j], Y[i,j]) is closer to p than other points in the grid [X,Y]"
     ]
    },
    {
     "cell_type": "heading",
     "level": 3,
     "metadata": {},
     "source": [
      "Manual distance computation"
     ]
    },
    {
     "cell_type": "code",
     "collapsed": false,
     "input": [
      "%%timeit\n",
      "# compute distances for all points\n",
      "dist = np.sqrt((X-p[0])**2 + (Y-p[1])**2) \n",
      "# lookup the minimum in the distance vector (without ravel works also)\n",
      "idx = np.argmin(dist.ravel())\n",
      "# lookup the i,j indices\n",
      "i, j = np.unravel_index(idx, (m, n))"
     ],
     "language": "python",
     "metadata": {},
     "outputs": [
      {
       "output_type": "stream",
       "stream": "stdout",
       "text": [
        "100 loops, best of 3: 7.82 ms per loop\n"
       ]
      }
     ],
     "prompt_number": 103
    },
    {
     "cell_type": "code",
     "collapsed": false,
     "input": [
      "X[i,j], Y[i,j]"
     ],
     "language": "python",
     "metadata": {},
     "outputs": [
      {
       "metadata": {},
       "output_type": "pyout",
       "prompt_number": 104,
       "text": [
        "(5.2905811623246493, 33.203203203203202)"
       ]
      }
     ],
     "prompt_number": 104
    },
    {
     "cell_type": "heading",
     "level": 2,
     "metadata": {},
     "source": [
      "Rtree"
     ]
    },
    {
     "cell_type": "code",
     "collapsed": false,
     "input": [
      "import rtree"
     ],
     "language": "python",
     "metadata": {},
     "outputs": [],
     "prompt_number": 105
    },
    {
     "cell_type": "code",
     "collapsed": false,
     "input": [
      "index = rtree.Rtree()"
     ],
     "language": "python",
     "metadata": {},
     "outputs": [],
     "prompt_number": 106
    },
    {
     "cell_type": "code",
     "collapsed": false,
     "input": [
      "for idx, (i, j) in enumerate(np.ndindex(m, n)):\n",
      "    index.add(idx, (X[i,j], Y[i,j]))"
     ],
     "language": "python",
     "metadata": {},
     "outputs": [],
     "prompt_number": 107
    },
    {
     "cell_type": "code",
     "collapsed": false,
     "input": [
      "%%timeit\n",
      "idx = index.nearest(p).next()\n",
      "i, j = np.unravel_index(item.id, (m, n))\n"
     ],
     "language": "python",
     "metadata": {},
     "outputs": [
      {
       "output_type": "stream",
       "stream": "stdout",
       "text": [
        "10000 loops, best of 3: 168 \u00b5s per loop\n"
       ]
      }
     ],
     "prompt_number": 108
    },
    {
     "cell_type": "heading",
     "level": 3,
     "metadata": {},
     "source": [
      "KD tree"
     ]
    },
    {
     "cell_type": "code",
     "collapsed": false,
     "input": [
      "import scipy.spatial\n",
      "index = scipy.spatial.cKDTree(data=np.c_[X.ravel(),Y.ravel()])"
     ],
     "language": "python",
     "metadata": {},
     "outputs": [],
     "prompt_number": 109
    },
    {
     "cell_type": "code",
     "collapsed": false,
     "input": [
      "%%timeit\n",
      "d, idx = index.query(p)\n",
      "i, j = np.unravel_index(item.id, (m, n))"
     ],
     "language": "python",
     "metadata": {},
     "outputs": [
      {
       "output_type": "stream",
       "stream": "stdout",
       "text": [
        "10000 loops, best of 3: 47.4 \u00b5s per loop\n"
       ]
      }
     ],
     "prompt_number": 110
    },
    {
     "cell_type": "code",
     "collapsed": false,
     "input": [],
     "language": "python",
     "metadata": {},
     "outputs": [],
     "prompt_number": 110
    }
   ],
   "metadata": {}
  }
 ]
}