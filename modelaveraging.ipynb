{
 "metadata": {
  "name": "",
  "signature": "sha256:aea7cf88ea86db5474235fb9d279f1c27f283f0c67cf56556fa9bb05fde2c1eb"
 },
 "nbformat": 3,
 "nbformat_minor": 0,
 "worksheets": [
  {
   "cells": [
    {
     "cell_type": "code",
     "collapsed": false,
     "input": [
      "%matplotlib inline\n",
      "from mpltools import style\n",
      "print(style.available)\n",
      "style.use('ggplot')\n",
      "import matplotlib.pyplot as plt\n",
      "import sympy\n",
      "\n",
      "from sympy import init_printing, pprint, oo, lambdify \n",
      "from sympy.stats import Normal, density, E\n",
      "init_printing()\n",
      "import numpy as np"
     ],
     "language": "python",
     "metadata": {},
     "outputs": [
      {
       "output_type": "stream",
       "stream": "stdout",
       "text": [
        "['langmuir', 'jfm', 'grayscale', 'ieee.transaction', 'dark_background', 'ggplot', 'pof', 'ieee.transaction.fullpage', 'langmuir.fullpage']\n"
       ]
      }
     ],
     "prompt_number": 1
    },
    {
     "cell_type": "code",
     "collapsed": false,
     "input": [
      "a, b, x, y = sympy.symbols('a b x y')\n",
      "sigma1 = sympy.Symbol('sigma1', positive=True)\n",
      "sigma2 = sympy.Symbol('sigma2', positive=True)\n",
      "mu1 = sympy.Symbol('mu1')\n",
      "mu2 = sympy.Symbol('mu2')\n",
      "\n"
     ],
     "language": "python",
     "metadata": {},
     "outputs": [],
     "prompt_number": 2
    },
    {
     "cell_type": "code",
     "collapsed": false,
     "input": [
      "N1 = Normal(\"model A\", mu1, sigma1)\n",
      "pdf1 = density(N1)(x)\n",
      "N2 = Normal(\"model B\", mu2, sigma2)\n",
      "pdf2 = density(N2)(x)\n"
     ],
     "language": "python",
     "metadata": {},
     "outputs": [],
     "prompt_number": 4
    },
    {
     "cell_type": "code",
     "collapsed": false,
     "input": [
      "from IPython.html.widgets import interact\n",
      "def formula(mu1_, sigma1_):\n",
      "    pdf = pdf1.subs({mu1: mu1_, sigma1: sigma1_})/2 + pdf2.subs({mu2:0, sigma2: 1})/2\n",
      "    pprint(pdf, use_unicode=True)\n",
      "    print('Integral: -oo, oo')\n",
      "    pprint(pdf.integrate((x, -oo, oo)).simplify())\n",
      "interact(formula, mu1_=(0,2), sigma1_=(1,3))"
     ],
     "language": "python",
     "metadata": {},
     "outputs": [
      {
       "output_type": "stream",
       "stream": "stdout",
       "text": [
        "               2             2 \n",
        "       -(x - 2)            -x  \n",
        "       \u2500\u2500\u2500\u2500\u2500\u2500\u2500\u2500\u2500\u2500          \u2500\u2500\u2500\u2500\n",
        "  ___      2          ___   2  \n",
        "\u2572\u2571 2 \u22c5\u212f             \u2572\u2571 2 \u22c5\u212f    \n",
        "\u2500\u2500\u2500\u2500\u2500\u2500\u2500\u2500\u2500\u2500\u2500\u2500\u2500\u2500\u2500\u2500\u2500 + \u2500\u2500\u2500\u2500\u2500\u2500\u2500\u2500\u2500\u2500\u2500\n",
        "         ___              ___  \n",
        "     4\u22c5\u2572\u2571 \u03c0           4\u22c5\u2572\u2571 \u03c0   \n",
        "Integral: -oo, oo\n",
        "1"
       ]
      },
      {
       "output_type": "stream",
       "stream": "stdout",
       "text": [
        "\n"
       ]
      }
     ],
     "prompt_number": 5
    },
    {
     "cell_type": "code",
     "collapsed": false,
     "input": [
      "\n",
      "pdf = pdf1.subs({mu1: 0, sigma1: 1})/2 + pdf2.subs({mu2:2, sigma2: 0.5})/2\n",
      "pdf.integrate((x, -oo, oo)).simplify()\n",
      "X = np.linspace(-3,15, num=100)\n",
      "d = lambdify(x, pdf, np)(X)\n",
      "plt.title('$\\hat{x}$=%.1f' % (np.sum(X*d)/np.sum(d)).item())\n",
      "plt.plot(X,d)"
     ],
     "language": "python",
     "metadata": {},
     "outputs": [
      {
       "metadata": {},
       "output_type": "pyout",
       "prompt_number": 6,
       "text": [
        "[<matplotlib.lines.Line2D at 0x1070f4e10>]"
       ]
      },
      {
       "metadata": {},
       "output_type": "display_data",
       "png": "[encoded data removed]",
       "text": [
        "<matplotlib.figure.Figure at 0x106ffd710>"
       ]
      }
     ],
     "prompt_number": 6
    },
    {
     "cell_type": "markdown",
     "metadata": {},
     "source": [
      "https://en.wikipedia.org/wiki/Maximum_a_posteriori_estimation\n",
      "https://en.wikipedia.org/wiki/Mixture_model\n"
     ]
    },
    {
     "cell_type": "code",
     "collapsed": false,
     "input": [
      "E(N1.subs({mu1:0, sigma1:1})/2 + N1.subs({mu1:3, sigma1:2})/2)"
     ],
     "language": "python",
     "metadata": {},
     "outputs": [
      {
       "latex": [
        "$$\\frac{3}{2}$$"
       ],
       "metadata": {},
       "output_type": "pyout",
       "png": "[encoded data removed]",
       "prompt_number": 7,
       "text": [
        "3/2"
       ]
      }
     ],
     "prompt_number": 7
    },
    {
     "cell_type": "code",
     "collapsed": false,
     "input": [
      "E(N1/2 + N2/2).simplify()"
     ],
     "language": "python",
     "metadata": {},
     "outputs": [
      {
       "latex": [
        "$$\\frac{\\mu_{1}}{2} + \\frac{\\mu_{2}}{2}$$"
       ],
       "metadata": {},
       "output_type": "pyout",
       "png": "[encoded data removed]",
       "prompt_number": 10,
       "text": [
        "\u03bc\u2081   \u03bc\u2082\n",
        "\u2500\u2500 + \u2500\u2500\n",
        "2    2 "
       ]
      }
     ],
     "prompt_number": 10
    },
    {
     "cell_type": "code",
     "collapsed": false,
     "input": [],
     "language": "python",
     "metadata": {},
     "outputs": []
    }
   ],
   "metadata": {}
  }
 ]
}