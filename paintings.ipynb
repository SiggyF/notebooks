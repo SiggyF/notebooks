{
 "cells": [
  {
   "cell_type": "code",
   "execution_count": 1,
   "metadata": {
    "collapsed": false
   },
   "outputs": [
    {
     "name": "stderr",
     "output_type": "stream",
     "text": [
      "/Users/fedor/.virtualenvs/py3/lib/python3.5/site-packages/matplotlib/__init__.py:872: UserWarning: axes.color_cycle is deprecated and replaced with axes.prop_cycle; please use the latter.\n",
      "  warnings.warn(self.msg_depr % (key, alt_key))\n"
     ]
    }
   ],
   "source": [
    "import datetime\n",
    "import logging\n",
    "import os.path\n",
    "import glob\n",
    "import os.path\n",
    "import pathlib\n",
    "import concurrent.futures\n",
    "\n",
    "\n",
    "import numpy as np\n",
    "import scipy.stats\n",
    "import pandas # for tables\n",
    "import pydash # for functional stuff\n",
    "import dateutil.parser # garbage date/times\n",
    "import requests # urls\n",
    "import matplotlib.pyplot as plt # plotting \n",
    "import matplotlib.dates # date axes\n",
    "import mako.template # html formatting\n",
    "import IPython.display # notebook\n",
    "import skimage.io\n",
    "import skimage.transform\n",
    "import ssl\n",
    "import io\n",
    "from PIL import Image\n",
    "import mako.template\n",
    "import IPython.display\n",
    "\n",
    "\n",
    "%matplotlib inline\n",
    "\n",
    "# replace default logging\n",
    "#del logging.root.handlers[0]\n",
    "#logging.basicConfig(level=logging.INFO)"
   ]
  },
  {
   "cell_type": "code",
   "execution_count": 2,
   "metadata": {
    "collapsed": true
   },
   "outputs": [],
   "source": [
    "# Create a sparql query to get all the oil paintings from the wikipedia\n",
    "query = \"\"\"\n",
    "\n",
    "SELECT ?item ?itemLabel ?cid ?_image ?_inception ?_creator ?_creatorLabel WHERE {\n",
    "  # select all paintings\n",
    "  ?item wdt:P31 wd:Q3305213.\n",
    "  # made with oil\n",
    "  ?item wdt:P186 wd:Q296955.\n",
    "  # written in english\n",
    "  SERVICE wikibase:label { bd:serviceParam wikibase:language \"en\". }\n",
    "  # store the image\n",
    "  OPTIONAL { ?item wdt:P18 ?_image. }\n",
    "  # store the creation date\n",
    "  OPTIONAL { ?item wdt:P571 ?_inception. }\n",
    "  # store the creator\n",
    "  OPTIONAL { ?item wdt:P170 ?_creator. }\n",
    "}\n",
    "\"\"\""
   ]
  },
  {
   "cell_type": "code",
   "execution_count": 3,
   "metadata": {
    "collapsed": false
   },
   "outputs": [],
   "source": [
    "url = \"https://query.wikidata.org/bigdata/namespace/wdq/sparql\"\n",
    "resp = requests.get(url, \n",
    "                    params=dict(query=query), \n",
    "                    headers={'Accept': 'application/json'})\n",
    "data = resp.json()"
   ]
  },
  {
   "cell_type": "code",
   "execution_count": 4,
   "metadata": {
    "collapsed": false
   },
   "outputs": [],
   "source": [
    "# take a random sample\n",
    "sample = False\n",
    "if sample:\n",
    "    data['results']['bindings'] = np.random.choice(data['results']['bindings'], replace=False, size=sample)\n",
    "    len(data['results']['bindings'])"
   ]
  },
  {
   "cell_type": "code",
   "execution_count": null,
   "metadata": {
    "collapsed": false
   },
   "outputs": [],
   "source": []
  },
  {
   "cell_type": "code",
   "execution_count": 5,
   "metadata": {
    "collapsed": false
   },
   "outputs": [],
   "source": [
    "# parse the dates\n",
    "for row in data['results']['bindings']:\n",
    "    if '_inception' in row and row['_inception']['type'] == 'literal':\n",
    "        try:\n",
    "            date = row['_inception']['value']\n",
    "            row['date'] = dateutil.parser.parse(date)\n",
    "        except ValueError as e:\n",
    "            logging.info(\"not parsed %s\\n%s\", date, row)\n",
    "    if pydash.has(row, 'item.value'):\n",
    "        entity = row['item']['value'].split(\"/\")[-1]\n",
    "        row['entity'] = entity\n",
    "            "
   ]
  },
  {
   "cell_type": "code",
   "execution_count": 6,
   "metadata": {
    "collapsed": true
   },
   "outputs": [],
   "source": [
    "# analyze all data\n",
    "dates = []\n",
    "for row in data['results']['bindings']:\n",
    "    if 'date' in row:\n",
    "        dates.append(\n",
    "            matplotlib.dates.date2num(row['date'])\n",
    "        )"
   ]
  },
  {
   "cell_type": "code",
   "execution_count": 7,
   "metadata": {
    "collapsed": false
   },
   "outputs": [
    {
     "name": "stderr",
     "output_type": "stream",
     "text": [
      "/Users/fedor/.virtualenvs/py3/lib/python3.5/site-packages/IPython/html.py:14: ShimWarning: The `IPython.html` package has been deprecated. You should import from `notebook` instead. `IPython.html.widgets` has moved to `ipywidgets`.\n",
      "  \"`IPython.html.widgets` has moved to `ipywidgets`.\", ShimWarning)\n"
     ]
    },
    {
     "data": {
      "image/png": "[encoded data removed]",
      "text/plain": [
       "<matplotlib.figure.Figure at 0x11c3cc9b0>"
      ]
     },
     "metadata": {},
     "output_type": "display_data"
    }
   ],
   "source": [
    "import seaborn\n",
    "ax = seaborn.distplot(dates)\n",
    "start_date = matplotlib.dates.date2num(datetime.datetime(1300, 1, 1))\n",
    "end_date = matplotlib.dates.date2num(datetime.datetime(2050, 1, 1))\n",
    "ax.set_xlim(start_date, end_date)\n",
    "ax.xaxis_date()"
   ]
  },
  {
   "cell_type": "code",
   "execution_count": 8,
   "metadata": {
    "collapsed": false
   },
   "outputs": [],
   "source": [
    "rows = []\n",
    "for row in data['results']['bindings']:\n",
    "    creator = pydash.get(row, '_creatorLabel.value')\n",
    "    name = pydash.get(row, 'itemLabel.value')\n",
    "\n",
    "    datestr = pydash.get(row, '_inception.value')\n",
    "    datetype = pydash.get(row, '_inception.type')\n",
    "    img = pydash.get(row, '_image.value')\n",
    "    entity = pydash.get(row, 'entity')\n",
    "    if datestr and datetype == 'literal':\n",
    "        try:\n",
    "            date = dateutil.parser.parse(datestr)\n",
    "        except:\n",
    "            logging.exception(\"error %s\\n%s\", datestr, row)\n",
    "    else:\n",
    "        date = None\n",
    "    rows.append(\n",
    "        dict(\n",
    "            creator=creator,\n",
    "            name=name,\n",
    "            date=date,\n",
    "            img=img,\n",
    "            entity=entity\n",
    "        )\n",
    "    )"
   ]
  },
  {
   "cell_type": "code",
   "execution_count": 9,
   "metadata": {
    "collapsed": false
   },
   "outputs": [
    {
     "data": {
      "text/plain": [
       "17708"
      ]
     },
     "execution_count": 9,
     "metadata": {},
     "output_type": "execute_result"
    }
   ],
   "source": [
    "df = pandas.DataFrame(data=rows)\n",
    "df.ix[df.creator == 'anonymous'] = None\n",
    "# drop missings and duplicates\n",
    "df = df.dropna().drop_duplicates()\n",
    "len(df)"
   ]
  },
  {
   "cell_type": "code",
   "execution_count": 10,
   "metadata": {
    "collapsed": false
   },
   "outputs": [
    {
     "data": {
      "text/html": [
       "<div>\n",
       "<table border=\"1\" class=\"dataframe\">\n",
       "  <thead>\n",
       "    <tr style=\"text-align: right;\">\n",
       "      <th>col_0</th>\n",
       "      <th>creator</th>\n",
       "    </tr>\n",
       "    <tr>\n",
       "      <th>creator</th>\n",
       "      <th></th>\n",
       "    </tr>\n",
       "  </thead>\n",
       "  <tbody>\n",
       "    <tr>\n",
       "      <th>Rembrandt</th>\n",
       "      <td>614</td>\n",
       "    </tr>\n",
       "    <tr>\n",
       "      <th>Camille Pissarro</th>\n",
       "      <td>407</td>\n",
       "    </tr>\n",
       "    <tr>\n",
       "      <th>Vincent van Gogh</th>\n",
       "      <td>330</td>\n",
       "    </tr>\n",
       "    <tr>\n",
       "      <th>Albert Bierstadt</th>\n",
       "      <td>309</td>\n",
       "    </tr>\n",
       "    <tr>\n",
       "      <th>Jacob van Ruisdael</th>\n",
       "      <td>301</td>\n",
       "    </tr>\n",
       "  </tbody>\n",
       "</table>\n",
       "</div>"
      ],
      "text/plain": [
       "col_0               creator\n",
       "creator                    \n",
       "Rembrandt               614\n",
       "Camille Pissarro        407\n",
       "Vincent van Gogh        330\n",
       "Albert Bierstadt        309\n",
       "Jacob van Ruisdael      301"
      ]
     },
     "execution_count": 10,
     "metadata": {},
     "output_type": "execute_result"
    }
   ],
   "source": [
    "table = pandas.crosstab(df.creator, columns=['creator'])\n",
    "table.sort_values(by=\"creator\", ascending=False).head()"
   ]
  },
  {
   "cell_type": "code",
   "execution_count": 11,
   "metadata": {
    "collapsed": false
   },
   "outputs": [],
   "source": [
    "df.set_index('entity').head()\n",
    "df.to_json('paintings.json')"
   ]
  },
  {
   "cell_type": "code",
   "execution_count": null,
   "metadata": {
    "collapsed": false
   },
   "outputs": [
    {
     "name": "stdout",
     "output_type": "stream",
     "text": [
      "."
     ]
    }
   ],
   "source": [
    "def save_img(row):\n",
    "    # get url\n",
    "    url = row['img']\n",
    "    # lookup id\n",
    "    entity = row['entity'] \n",
    "    filename = \"paintings/%s.jpg\" % (entity, )\n",
    "    if os.path.exists(filename):\n",
    "        print('.', end='', flush=True)\n",
    "        return\n",
    "    # download\n",
    "    print(url)\n",
    "    try:\n",
    "        resp = requests.get(url, timeout=5)\n",
    "    except requests.exceptions.Timeout as e:\n",
    "        print('t', end='', flush=True)\n",
    "        return\n",
    "    print(resp, entity)\n",
    "    if not resp.status_code == 200:\n",
    "        print('x', end='', flush=True)\n",
    "        return\n",
    "    # get the bytes\n",
    "    content = io.BytesIO(resp.content)\n",
    "    \n",
    "    # open as image\n",
    "    try:\n",
    "        im = Image.open(content)\n",
    "    except:\n",
    "        print('e', end='', flush=True)\n",
    "        return\n",
    "    # scale down\n",
    "    N = 256\n",
    "    im.thumbnail((N, N))\n",
    "    # save\n",
    "    im.save(filename)\n",
    "    print('V', end='', flush=True)\n",
    "row = df.iloc[0].to_dict()\n",
    "save_img(row)"
   ]
  },
  {
   "cell_type": "code",
   "execution_count": null,
   "metadata": {
    "collapsed": false
   },
   "outputs": [
    {
     "name": "stdout",
     "output_type": "stream",
     "text": [
      ".................................................................................................................................................................................................................................................................................................................................................................................................................................................................................................................................................................http://commons.wikimedia.org/wiki/Special:FilePath/John%20Martin%20-%20Belshazzar%27s%20Feast%20-%20Google%20Art%20Project.jpg\n",
      "<Response [200]> Q4884677\n",
      "Vhttp://commons.wikimedia.org/wiki/Special:FilePath/15-10-27-Els%20Quatre%20Gats-RalfR-WMA%202740a.jpg\n",
      "<Response [200]> Q4889277\n",
      "Vhttp://commons.wikimedia.org/wiki/Special:FilePath/Gustave%20Courbet%20-%20La%20Font%20%281862%29.jpg\n",
      "<Response [200]> Q4891521\n",
      "V"
     ]
    }
   ],
   "source": [
    "\n",
    "# work\n",
    "rows = [row.to_dict() for (i, row) in df.iterrows()]\n",
    "# execute it\n",
    "\n",
    "for row in rows:\n",
    "    try:\n",
    "        save_img(row)\n",
    "    except:\n",
    "        logging.exception(\"saving failed\")\n",
    "#with concurrent.futures.ProcessPoolExecutor(max_workers=4) as executor:\n",
    "#    executor.map(save_img, rows)"
   ]
  },
  {
   "cell_type": "code",
   "execution_count": null,
   "metadata": {
    "collapsed": false
   },
   "outputs": [],
   "source": [
    "row"
   ]
  },
  {
   "cell_type": "code",
   "execution_count": null,
   "metadata": {
    "collapsed": true
   },
   "outputs": [],
   "source": []
  }
 ],
 "metadata": {
  "kernelspec": {
   "display_name": "Python 3",
   "language": "python",
   "name": "python3"
  },
  "language_info": {
   "codemirror_mode": {
    "name": "ipython",
    "version": 3
   },
   "file_extension": ".py",
   "mimetype": "text/x-python",
   "name": "python",
   "nbconvert_exporter": "python",
   "pygments_lexer": "ipython3",
   "version": "3.5.1"
  }
 },
 "nbformat": 4,
 "nbformat_minor": 0
}
