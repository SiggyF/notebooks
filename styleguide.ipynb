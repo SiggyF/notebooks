{
 "metadata": {
  "celltoolbar": "Slideshow",
  "name": "",
  "signature": "sha256:0c406f4cbc31fb8030a38ddcbcb33542f7b9b46e42463c5c5e99577b2fad778b"
 },
 "nbformat": 3,
 "nbformat_minor": 0,
 "worksheets": [
  {
   "cells": [
    {
     "cell_type": "heading",
     "level": 1,
     "metadata": {
      "slideshow": {
       "slide_type": "slide"
      }
     },
     "source": [
      "Styleguide"
     ]
    },
    {
     "cell_type": "code",
     "collapsed": false,
     "input": [
      "import logging\n",
      "import functools\n",
      "import itertools\n",
      "\n",
      "import numpy as np\n",
      "logging.root.setLevel(logging.DEBUG)"
     ],
     "language": "python",
     "metadata": {
      "slideshow": {
       "slide_type": "skip"
      }
     },
     "outputs": [],
     "prompt_number": 34
    },
    {
     "cell_type": "code",
     "collapsed": false,
     "input": [
      "from IPython.core.magic import register_cell_magic\n",
      "\n",
      "@register_cell_magic\n",
      "def pep8(line, cell):\n",
      "    \"\"\"pep8 cell magic\"\"\"\n",
      "    import sys\n",
      "    import tempfile\n",
      "    import pep8\n",
      "    import io\n",
      "    import logging\n",
      "    logger = logging.getLogger('pep8')\n",
      "    logger.setLevel(logging.INFO)\n",
      "    # output is written to stdout\n",
      "    # remember and replace\n",
      "    old_stdout = sys.stdout\n",
      "    # temporary replace\n",
      "    sys.stdout = io.BytesIO()\n",
      "    # store code in a file, todo unicode\n",
      "    with tempfile.NamedTemporaryFile() as f:\n",
      "        # save to file\n",
      "        f.write(cell + \"\\n\")\n",
      "        # make sure it's written\n",
      "        f.flush()\n",
      "        # now we can check the file by name. \n",
      "        # we might be able to use 'stdin', have to check implementation\n",
      "        pep8style = pep8.StyleGuide()\n",
      "        # check the filename\n",
      "        pep8style.check_files(paths=[f.name])\n",
      "        # split lines\n",
      "        stdout = sys.stdout.getvalue().splitlines()\n",
      "    for line in stdout:\n",
      "        logger.info(line)\n",
      "    # restore\n",
      "    sys.stdout = old_stdout\n",
      "    return \n"
     ],
     "language": "python",
     "metadata": {
      "slideshow": {
       "slide_type": "skip"
      }
     },
     "outputs": [],
     "prompt_number": 2
    },
    {
     "cell_type": "code",
     "collapsed": false,
     "input": [
      "!pep8 "
     ],
     "language": "python",
     "metadata": {
      "slideshow": {
       "slide_type": "slide"
      }
     },
     "outputs": [
      {
       "output_type": "stream",
       "stream": "stdout",
       "text": [
        "Usage: pep8 [options] input ...\r\n",
        "\r\n",
        "pep8: error: input not specified\r\n"
       ]
      }
     ],
     "prompt_number": 3
    },
    {
     "cell_type": "code",
     "collapsed": false,
     "input": [
      "%%pep8\n",
      "# BAD\n",
      "if True:\n",
      "   n_spaces = 3"
     ],
     "language": "python",
     "metadata": {
      "slideshow": {
       "slide_type": "subslide"
      }
     },
     "outputs": [
      {
       "output_type": "stream",
       "stream": "stderr",
       "text": [
        "INFO:pep8:/tmp/tmpULFWMS:3:4: E111 indentation is not a multiple of four\n"
       ]
      }
     ],
     "prompt_number": 4
    },
    {
     "cell_type": "code",
     "collapsed": false,
     "input": [
      "%%pep8\n",
      "# GOOD\n",
      "if True:\n",
      "    n_spaces = 4"
     ],
     "language": "python",
     "metadata": {
      "slideshow": {
       "slide_type": "subslide"
      }
     },
     "outputs": [],
     "prompt_number": 5
    },
    {
     "cell_type": "code",
     "collapsed": false,
     "input": [
      "%%pep8\n",
      "# BAD\n",
      "# Aligned with 4 spaces\n",
      "foo = function(var_one, var_two,\n",
      "    var_three, var_four)"
     ],
     "language": "python",
     "metadata": {
      "slideshow": {
       "slide_type": "subslide"
      }
     },
     "outputs": [
      {
       "output_type": "stream",
       "stream": "stderr",
       "text": [
        "INFO:pep8:/tmp/tmpo9Mdsn:4:5: E128 continuation line under-indented for visual indent\n"
       ]
      }
     ],
     "prompt_number": 6
    },
    {
     "cell_type": "code",
     "collapsed": false,
     "input": [
      "%%pep8\n",
      "# GOOD\n",
      "# Aligned with opening parenthesis\n",
      "foo = function(var_one, var_two,\n",
      "               var_three, var_four)"
     ],
     "language": "python",
     "metadata": {
      "slideshow": {
       "slide_type": "subslide"
      }
     },
     "outputs": [],
     "prompt_number": 7
    },
    {
     "cell_type": "code",
     "collapsed": false,
     "input": [
      "%%pep8\n",
      "# BAD\n",
      "# Longer than 79 chars\n",
      "# possible division error\n",
      "import math\n",
      "\n",
      "minkowski_distance_3d_from_origin = lambda x, y, z, p: math.pow(math.pow(x, p) + math.pow(x, p) + math.pow(x, p), 1/p)\n"
     ],
     "language": "python",
     "metadata": {
      "slideshow": {
       "slide_type": "subslide"
      }
     },
     "outputs": [],
     "prompt_number": 35
    },
    {
     "cell_type": "code",
     "collapsed": false,
     "input": [
      "%%pep8\n",
      "# GOOD\n",
      "# Shorter than 79\n",
      "# Use scipy, numpy\n",
      "import scipy.spatial\n",
      "import numpy as np\n",
      "\n",
      "\n",
      "def minkowski_distance_3d_from_origin(x, y, z, p):\n",
      "    \"\"\"Compute the minkowski distance for a point\n",
      "    in 3d space from the origin\"\"\"\n",
      "    u = np.array([x, y, z])\n",
      "    v = np.zeros_like(u)\n",
      "    distance = scipy.spatial.distance.minkowski(u, v, p)"
     ],
     "language": "python",
     "metadata": {
      "slideshow": {
       "slide_type": "subslide"
      }
     },
     "outputs": [],
     "prompt_number": 9
    },
    {
     "cell_type": "code",
     "collapsed": false,
     "input": [
      "%%pep8 \n",
      "# BAD\n",
      "import numpy as np\n",
      "class Calculator:\n",
      "    def Plus(self, x, y):\n",
      "        return np.sum(x, y)\n",
      "    def Minus(self, x, y):\n",
      "        return np.sum(x, -y)\n"
     ],
     "language": "python",
     "metadata": {
      "slideshow": {
       "slide_type": "subslide"
      }
     },
     "outputs": [
      {
       "output_type": "stream",
       "stream": "stderr",
       "text": [
        "INFO:pep8:/tmp/tmpCQD2Sv:3:1: E302 expected 2 blank lines, found 0\n"
       ]
      },
      {
       "output_type": "stream",
       "stream": "stderr",
       "text": [
        "INFO:pep8:/tmp/tmpCQD2Sv:6:5: E301 expected 1 blank line, found 0\n"
       ]
      }
     ],
     "prompt_number": 10
    },
    {
     "cell_type": "code",
     "collapsed": false,
     "input": [
      "%%pep8 \n",
      "# GOOD\n",
      "import numpy as np\n",
      "\n",
      "\n",
      "class Calculator:\n",
      "    def add(self, x, y):\n",
      "        return x + y\n",
      "\n",
      "    def subtract(self, x, y):\n",
      "        return x - y\n"
     ],
     "language": "python",
     "metadata": {
      "slideshow": {
       "slide_type": "subslide"
      }
     },
     "outputs": [],
     "prompt_number": 11
    },
    {
     "cell_type": "code",
     "collapsed": false,
     "input": [
      "%%pep8 \n",
      "# BAD\n",
      "import numpy, scipy, io, os"
     ],
     "language": "python",
     "metadata": {
      "slideshow": {
       "slide_type": "subslide"
      }
     },
     "outputs": [
      {
       "output_type": "stream",
       "stream": "stderr",
       "text": [
        "INFO:pep8:/tmp/tmpIBnELe:2:13: E401 multiple imports on one line\n"
       ]
      }
     ],
     "prompt_number": 12
    },
    {
     "cell_type": "code",
     "collapsed": false,
     "input": [
      "%%pep8 \n",
      "# GOOD\n",
      "# python packages first\n",
      "import os\n",
      "import io\n",
      "\n",
      "# extra packages\n",
      "import numpy\n",
      "import scipy\n",
      "\n",
      "# import own packages"
     ],
     "language": "python",
     "metadata": {
      "slideshow": {
       "slide_type": "subslide"
      }
     },
     "outputs": [],
     "prompt_number": 13
    },
    {
     "cell_type": "code",
     "collapsed": false,
     "input": [
      "%%pep8 \n",
      "# GOOD\n",
      "from ctypes import (c_void_p, c_int,\n",
      "                    c_double, c_char_p,\n",
      "                    cdll, windll)"
     ],
     "language": "python",
     "metadata": {
      "slideshow": {
       "slide_type": "subslide"
      }
     },
     "outputs": [],
     "prompt_number": 14
    },
    {
     "cell_type": "code",
     "collapsed": false,
     "input": [
      "%%pep8 \n",
      "# BAD\n",
      "a=x+1\n",
      "a     = x + 1\n",
      "b     = a\n",
      "name  = c"
     ],
     "language": "python",
     "metadata": {
      "slideshow": {
       "slide_type": "subslide"
      }
     },
     "outputs": [
      {
       "output_type": "stream",
       "stream": "stderr",
       "text": [
        "INFO:pep8:/tmp/tmptUco2h:2:2: E225 missing whitespace around operator\n"
       ]
      },
      {
       "output_type": "stream",
       "stream": "stderr",
       "text": [
        "INFO:pep8:/tmp/tmptUco2h:3:2: E221 multiple spaces before operator\n"
       ]
      },
      {
       "output_type": "stream",
       "stream": "stderr",
       "text": [
        "INFO:pep8:/tmp/tmptUco2h:4:2: E221 multiple spaces before operator\n"
       ]
      },
      {
       "output_type": "stream",
       "stream": "stderr",
       "text": [
        "INFO:pep8:/tmp/tmptUco2h:5:5: E221 multiple spaces before operator\n"
       ]
      }
     ],
     "prompt_number": 16
    },
    {
     "cell_type": "code",
     "collapsed": false,
     "input": [
      "%%pep8 \n",
      "# GOOD\n",
      "a = x + 1\n",
      "a = x + 1\n",
      "b = a\n",
      "name = c"
     ],
     "language": "python",
     "metadata": {
      "slideshow": {
       "slide_type": "subslide"
      }
     },
     "outputs": [],
     "prompt_number": 19
    },
    {
     "cell_type": "code",
     "collapsed": false,
     "input": [
      "%%pep8 \n",
      "# BAD\n",
      "def complex(real, imag = 0.0):\n",
      "    return magic(r = real, i = imag)"
     ],
     "language": "python",
     "metadata": {
      "slideshow": {
       "slide_type": "subslide"
      }
     },
     "outputs": [
      {
       "output_type": "stream",
       "stream": "stderr",
       "text": [
        "INFO:pep8:/tmp/tmpxI0FFt:2:23: E251 unexpected spaces around keyword / parameter equals\n"
       ]
      },
      {
       "output_type": "stream",
       "stream": "stderr",
       "text": [
        "INFO:pep8:/tmp/tmpxI0FFt:2:25: E251 unexpected spaces around keyword / parameter equals\n"
       ]
      },
      {
       "output_type": "stream",
       "stream": "stderr",
       "text": [
        "INFO:pep8:/tmp/tmpxI0FFt:3:19: E251 unexpected spaces around keyword / parameter equals\n"
       ]
      },
      {
       "output_type": "stream",
       "stream": "stderr",
       "text": [
        "INFO:pep8:/tmp/tmpxI0FFt:3:21: E251 unexpected spaces around keyword / parameter equals\n"
       ]
      },
      {
       "output_type": "stream",
       "stream": "stderr",
       "text": [
        "INFO:pep8:/tmp/tmpxI0FFt:3:29: E251 unexpected spaces around keyword / parameter equals\n"
       ]
      },
      {
       "output_type": "stream",
       "stream": "stderr",
       "text": [
        "INFO:pep8:/tmp/tmpxI0FFt:3:31: E251 unexpected spaces around keyword / parameter equals\n"
       ]
      }
     ],
     "prompt_number": 21
    },
    {
     "cell_type": "code",
     "collapsed": false,
     "input": [
      "%%pep8 \n",
      "# GOOD\n",
      "def complex(real, imag=0.0):\n",
      "    return magic(r=real, i=imag)"
     ],
     "language": "python",
     "metadata": {
      "slideshow": {
       "slide_type": "subslide"
      }
     },
     "outputs": [],
     "prompt_number": 23
    },
    {
     "cell_type": "code",
     "collapsed": false,
     "input": [
      "%%pep8 \n",
      "# BAD\n",
      "a, b, c = 0, 0, 0\n",
      "a += 1; b += 2; c += 3"
     ],
     "language": "python",
     "metadata": {
      "slideshow": {
       "slide_type": "subslide"
      }
     },
     "outputs": [
      {
       "output_type": "stream",
       "stream": "stderr",
       "text": [
        "INFO:pep8:/tmp/tmpLtF42r:3:7: E702 multiple statements on one line (semicolon)\n"
       ]
      },
      {
       "output_type": "stream",
       "stream": "stderr",
       "text": [
        "INFO:pep8:/tmp/tmpLtF42r:3:15: E702 multiple statements on one line (semicolon)\n"
       ]
      }
     ],
     "prompt_number": 25
    },
    {
     "cell_type": "code",
     "collapsed": false,
     "input": [
      "%%pep8 \n",
      "# GOOD\n",
      "a = b = c = 0\n",
      "a += 1\n",
      "b += 2\n",
      "c += 3"
     ],
     "language": "python",
     "metadata": {
      "slideshow": {
       "slide_type": "subslide"
      }
     },
     "outputs": [],
     "prompt_number": 26
    },
    {
     "cell_type": "code",
     "collapsed": false,
     "input": [
      "%%pep8 \n",
      "# BAD\n",
      "def jarekenmaar():\n",
      "    # deze functie rekent, je weet toch\n",
      "    1 + 1"
     ],
     "language": "python",
     "metadata": {
      "slideshow": {
       "slide_type": "subslide"
      }
     },
     "outputs": [],
     "prompt_number": 31
    },
    {
     "cell_type": "code",
     "collapsed": false,
     "input": [
      "%%pep8 \n",
      "# GOOD\n",
      "# English only\n",
      "def calculate():\n",
      "    # do an essential calculation\n",
      "    1 + 1"
     ],
     "language": "python",
     "metadata": {
      "slideshow": {
       "slide_type": "subslide"
      }
     },
     "outputs": [],
     "prompt_number": 32
    },
    {
     "cell_type": "markdown",
     "metadata": {
      "slideshow": {
       "slide_type": "slide"
      }
     },
     "source": [
      "# Practice\n",
      "\n",
      "- Find a package in openearthtools\n",
      "- Fix style errors"
     ]
    },
    {
     "cell_type": "code",
     "collapsed": false,
     "input": [],
     "language": "python",
     "metadata": {},
     "outputs": []
    }
   ],
   "metadata": {}
  }
 ]
}