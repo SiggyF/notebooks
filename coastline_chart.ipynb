{
 "cells": [
  {
   "cell_type": "code",
   "execution_count": 7,
   "metadata": {},
   "outputs": [],
   "source": [
    "import json\n",
    "import itertools\n",
    "import pathlib\n",
    "\n",
    "import geojson\n",
    "import scipy.stats\n",
    "import toolz\n",
    "import toolz.curried\n",
    "import pydash\n",
    "import numpy as np\n",
    "import seaborn\n",
    "import matplotlib.pyplot as plt\n",
    "import cartopy\n",
    "import cartopy.crs"
   ]
  },
  {
   "cell_type": "code",
   "execution_count": 3,
   "metadata": {},
   "outputs": [],
   "source": [
    "with open('/Users/baart_f/Downloads/BOX099_transects_rates.json') as f:\n",
    "    features = geojson.load(f)\n",
    "with open('/Users/baart_f/Downloads/BOX187_transects_rates.json') as f:\n",
    "    features = geojson.load(f)"
   ]
  },
  {
   "cell_type": "code",
   "execution_count": 4,
   "metadata": {},
   "outputs": [
    {
     "data": {
      "text/plain": [
       "{\"coordinates\": [[17.966394475619165, 54.8245417781275], [17.96443101967979, 54.834828544733064]], \"type\": \"LineString\"}"
      ]
     },
     "execution_count": 4,
     "metadata": {},
     "output_type": "execute_result"
    }
   ],
   "source": [
    "features['features'][0]['properties'].keys()\n",
    "features['features'][0]['geometry']\n"
   ]
  },
  {
   "cell_type": "code",
   "execution_count": 5,
   "metadata": {
    "collapsed": true
   },
   "outputs": [],
   "source": [
    "sand_features = list(toolz.filter(lambda x: pydash.get(x, 'properties.flag_sandy') == 'True', features['features']))\n",
    "grouped = toolz.groupby(\n",
    "    lambda x: pydash.get(x, 'properties.country_id'),\n",
    "    sand_features\n",
    ")"
   ]
  },
  {
   "cell_type": "code",
   "execution_count": 8,
   "metadata": {},
   "outputs": [],
   "source": [
    "\n",
    "for country, country_features in grouped.items():\n",
    "    path = pathlib.Path(country).with_suffix('.json')\n",
    "    if path.exists():\n",
    "        with path.open() as f:\n",
    "            data = json.load(f)\n",
    "    else:\n",
    "        data = {}\n",
    "    change_rates = [\n",
    "        pydash.get(feature, 'properties.change_rate')\n",
    "        for feature\n",
    "        in country_features\n",
    "    ]\n",
    "    coordinates = [\n",
    "        pydash.get(feature, ['geometry', 'coordinates'])\n",
    "        for feature\n",
    "        in country_features\n",
    "    ]\n",
    "    rates = np.ma.masked_equal(change_rates, -999)\n",
    "    freqs, bins = np.histogram(rates[~rates.mask], bins=np.linspace(-20, 20, num=51))\n",
    "    summed_freqs = data.get('freqs', np.zeros_like(freqs)) + freqs\n",
    "    data['freqs'] = summed_freqs.tolist()\n",
    "    data['coordinates'] = data.get('coordinates', []) + coordinates\n",
    "    # just overwrite verytime\n",
    "    data['bins'] = bins.tolist()\n",
    "    data['country'] = country\n",
    "    with path.open('w') as f:\n",
    "        json.dump(data, f)\n",
    "    \n",
    "    "
   ]
  },
  {
   "cell_type": "code",
   "execution_count": 9,
   "metadata": {},
   "outputs": [
    {
     "data": {
      "text/plain": [
       "False"
      ]
     },
     "execution_count": 9,
     "metadata": {},
     "output_type": "execute_result"
    }
   ],
   "source": [
    "\n",
    "path = pathlib.Path('GAB').with_suffix('.json')\n",
    "path.exists()"
   ]
  },
  {
   "cell_type": "code",
   "execution_count": null,
   "metadata": {},
   "outputs": [],
   "source": []
  },
  {
   "cell_type": "code",
   "execution_count": 10,
   "metadata": {},
   "outputs": [
    {
     "data": {
      "text/plain": [
       "<cartopy.mpl.feature_artist.FeatureArtist at 0x1152b9710>"
      ]
     },
     "execution_count": 10,
     "metadata": {},
     "output_type": "execute_result"
    },
    {
     "data": {
      "image/png": "[encoded data removed]",
      "text/plain": [
       "<matplotlib.figure.Figure at 0x115285da0>"
      ]
     },
     "metadata": {},
     "output_type": "display_data"
    }
   ],
   "source": [
    "fig, ax = plt.subplots(\n",
    "    subplot_kw=dict(\n",
    "        projection=cartopy.crs.PlateCarree()\n",
    "    ), \n",
    "    figsize=(13, 8)\n",
    ")\n",
    "ax.set_extent([2, 8, 50, 55], cartopy.crs.PlateCarree())\n",
    "ax.coastlines('10m')"
   ]
  },
  {
   "cell_type": "code",
   "execution_count": null,
   "metadata": {},
   "outputs": [],
   "source": []
  },
  {
   "cell_type": "code",
   "execution_count": 11,
   "metadata": {},
   "outputs": [
    {
     "data": {
      "text/plain": [
       "array([[  4.61718773,  52.56825875],\n",
       "       [  4.59940751,  52.56982636]])"
      ]
     },
     "execution_count": 11,
     "metadata": {},
     "output_type": "execute_result"
    }
   ],
   "source": [
    "path = pathlib.Path('NLD.json')\n",
    "data = json.load(path.open())\n",
    "# find plot point\n",
    "xy_line = np.array(data['coordinates'])\n",
    "x, y = xy_line[:, 0, 0], xy_line[:, 1, 0]\n",
    "\n",
    "x_gt_y = (x.max() - x.min()) > (y.max() - y.min())\n",
    "if x_gt_y:\n",
    "    1 + 1\n",
    "    \n",
    "median = np.median(x)\n",
    "sort_idx = np.argsort(x)\n",
    "# np.searchsorted(x, median, sorter=np.sort)\n",
    "sorted_idx = np.searchsorted(x[sort_idx], median)\n",
    "idx = sort_idx[sorted_idx]\n",
    "xy_line[idx]"
   ]
  },
  {
   "cell_type": "code",
   "execution_count": 56,
   "metadata": {},
   "outputs": [
    {
     "name": "stdout",
     "output_type": "stream",
     "text": [
      "0.436197954948 0.513651749562\n"
     ]
    },
    {
     "name": "stderr",
     "output_type": "stream",
     "text": [
      "/Users/baart_f/.virtualenvs/main/lib/python3.5/site-packages/matplotlib/figure.py:1743: UserWarning: This figure includes Axes that are not compatible with tight_layout, so its results might be incorrect.\n",
      "  warnings.warn(\"This figure includes Axes that are not \"\n"
     ]
    },
    {
     "data": {
      "image/png": "[encoded data removed]",
      "text/plain": [
       "<matplotlib.figure.Figure at 0x127182208>"
      ]
     },
     "metadata": {},
     "output_type": "display_data"
    }
   ],
   "source": [
    "fig, ax = plt.subplots(\n",
    "    subplot_kw=dict(\n",
    "        projection=cartopy.crs.PlateCarree()\n",
    "    ), \n",
    "    figsize=(13, 8)\n",
    ")\n",
    "extent = [2, 8, 50, 55]\n",
    "ax.set_extent(extent, cartopy.crs.PlateCarree())\n",
    "ax.coastlines('10m')\n",
    "transect = xy_line[idx]\n",
    "lon, lat = transect[0, 0], transect[0, 1]\n",
    "\n",
    "ax.plot(transect[:, 0], transect[:, 1], 'r-')\n",
    "# does not show up\n",
    "# import matplotlib.transforms\n",
    "# import mpl_toolkits.axisartist.floating_axes\n",
    "# helper = mpl_toolkits.axisartist.floating_axes.GridHelperCurveLinear(transform, extremes=(0, 10, 0, 10))\n",
    "# ax1 = mpl_toolkits.axisartist.floating_axes.FloatingSubplot(fig, 111, grid_helper=helper)\n",
    "\n",
    "x = (lon - extent[0])/(extent[1] - extent[0])\n",
    "y = (lat - extent[2])/(extent[3] - extent[2])\n",
    "print(x, y)\n",
    "ax1 = fig.add_axes([x, y, 0.1, 0.1])\n",
    "transform = matplotlib.transforms.Affine2D().rotate(30)\n",
    "ax1.get_transform()\n",
    "ax1.set_transform(transform)\n",
    "ax1.plot(0.0, 0.0, 'k.')\n",
    "ax1.axis('off')\n",
    "\n",
    "x = np.array(data['bins'])[:-1]\n",
    "freqs = np.array(data['freqs'])\n",
    "x_erosion = x[x<=0]\n",
    "y1_erosion = freqs[x<=0]\n",
    "y0_erosion = np.zeros_like(y1_erosion)\n",
    "ax1.fill_between(x_erosion, y0_erosion, y1_erosion, color='red')\n",
    "x_accretion = x[x>=0]\n",
    "y1_accretion = freqs[x>=0]\n",
    "y0_accretion = np.zeros_like(y1_accretion)\n",
    "ax1.fill_between(x_accretion, y0_accretion, y1_accretion, color='blue')\n",
    "\n",
    "# ax1.bar(data['bins'][:-1], data['freqs'])\n",
    "# ax1.bar(data['bins'][:-1], -np.array(data['freqs']))\n",
    "ax.set_xlim()\n",
    "ax.set_ylim()\n",
    "fig.tight_layout()\n",
    "\n"
   ]
  },
  {
   "cell_type": "code",
   "execution_count": null,
   "metadata": {},
   "outputs": [],
   "source": [
    "\n",
    "kde = scipy.stats.gaussian_kde(rates[~rates.mask])\n",
    "x = np.linspace(-20, 20, num=51)\n",
    "plt.plot(x, kde.evaluate(x))\n",
    "\n",
    "x_erosion = x[x<=0]\n",
    "y1_erosion = kde.evaluate(x_erosion)\n",
    "y0_erosion = np.zeros_like(y1_erosion)\n",
    "plt.fill_between(x_erosion, y0_erosion, y1_erosion, color='red')\n",
    "x_accretion = x[x>=0]\n",
    "y1_accretion = kde.evaluate(x_accretion)\n",
    "y0_accretion = np.zeros_like(y1_accretion)\n",
    "plt.fill_between(x_accretion, y0_accretion, y1_accretion, color='blue')"
   ]
  },
  {
   "cell_type": "code",
   "execution_count": null,
   "metadata": {
    "collapsed": true
   },
   "outputs": [],
   "source": [
    "# separated countries\n",
    "# - files per country\n",
    "# - attached countries, update country file per box\n",
    "# - ignore separated islands for first version\n",
    "\n",
    "# missing countries\n",
    "# - first version, put in unknown countries\n",
    "# - second version: extend countries manually \n",
    "\n",
    "\n",
    "# store what per country\n",
    "# - option1: binned frequency + density estimate (min, max)\n",
    "# - chosen: np.histogram update per file, fixed bins (-20, 20)\n",
    "\n",
    "\n",
    "# skewed distributions\n",
    "# - option1: 95 percentile\n",
    "# - chosen: -20, 20 \n",
    "\n",
    "\n",
    "# location for the chart\n",
    "# - 80% automatic (pick a middle transect, biggest range y or x)\n",
    "# - 20% manual \n",
    "\n",
    "# countries with too long coastlines (only VS, Australia, Russia?)\n",
    "# - manual\n"
   ]
  },
  {
   "cell_type": "code",
   "execution_count": null,
   "metadata": {
    "collapsed": true
   },
   "outputs": [],
   "source": []
  }
 ],
 "metadata": {
  "hide_input": false,
  "kernelspec": {
   "display_name": "Python 3",
   "language": "python",
   "name": "python3"
  },
  "language_info": {
   "codemirror_mode": {
    "name": "ipython",
    "version": 3
   },
   "file_extension": ".py",
   "mimetype": "text/x-python",
   "name": "python",
   "nbconvert_exporter": "python",
   "pygments_lexer": "ipython3",
   "version": "3.5.3"
  }
 },
 "nbformat": 4,
 "nbformat_minor": 2
}
