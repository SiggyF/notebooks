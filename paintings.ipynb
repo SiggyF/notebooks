{
 "cells": [
  {
   "cell_type": "code",
   "execution_count": 13,
   "metadata": {
    "collapsed": false
   },
   "outputs": [],
   "source": [
    "# native python\n",
    "import concurrent.futures\n",
    "import datetime\n",
    "import glob\n",
    "import io\n",
    "import logging\n",
    "import os.path\n",
    "import os\n",
    "import shlex\n",
    "import urllib.parse\n",
    "import json\n",
    "\n",
    "\n",
    "# numeric stuff\n",
    "import numpy as np\n",
    "import scipy.stats\n",
    "import pandas # for tables\n",
    "\n",
    "# converting things\n",
    "import pathlib\n",
    "import pydash # for functional stuff\n",
    "import dateutil.parser # garbage date/times\n",
    "\n",
    "# image processing\n",
    "import skimage.io\n",
    "import skimage.transform\n",
    "from PIL import Image\n",
    "\n",
    "# plotting\n",
    "import matplotlib.pyplot as plt # plotting \n",
    "import matplotlib.dates # date axes\n",
    "import seaborn\n",
    "\n",
    "\n",
    "# web requests\n",
    "import ssl\n",
    "import requests # urls\n",
    "import mako.template # html formatting\n",
    "\n",
    "import IPython.display # notebook\n",
    "import tqdm # progress bar\n",
    "\n",
    "%matplotlib inline\n",
    "\n",
    "# replace default logging\n",
    "#del logging.root.handlers[0]\n",
    "#logging.basicConfig(level=logging.INFO)"
   ]
  },
  {
   "cell_type": "code",
   "execution_count": 2,
   "metadata": {
    "collapsed": true
   },
   "outputs": [],
   "source": [
    "# Create a sparql query to get all the oil paintings from the wikipedia\n",
    "query = \"\"\"\n",
    "\n",
    "SELECT ?item ?itemLabel ?cid ?_image ?_inception ?_creator ?_creatorLabel WHERE {\n",
    "  # select all paintings\n",
    "  ?item wdt:P31 wd:Q3305213.\n",
    "  # made with oil\n",
    "  ?item wdt:P186 wd:Q296955.\n",
    "  # written in english\n",
    "  SERVICE wikibase:label { bd:serviceParam wikibase:language \"en\". }\n",
    "  # store the image\n",
    "  OPTIONAL { ?item wdt:P18 ?_image. }\n",
    "  # store the creation date\n",
    "  OPTIONAL { ?item wdt:P571 ?_inception. }\n",
    "  # store the creator\n",
    "  OPTIONAL { ?item wdt:P170 ?_creator. }\n",
    "}\n",
    "\"\"\""
   ]
  },
  {
   "cell_type": "code",
   "execution_count": 3,
   "metadata": {
    "collapsed": false
   },
   "outputs": [],
   "source": [
    "url = \"https://query.wikidata.org/bigdata/namespace/wdq/sparql\"\n",
    "resp = requests.get(url, \n",
    "                    params=dict(query=query), \n",
    "                    headers={'Accept': 'application/json'})\n",
    "data = resp.json()"
   ]
  },
  {
   "cell_type": "code",
   "execution_count": 4,
   "metadata": {
    "collapsed": false
   },
   "outputs": [],
   "source": [
    "# take a random sample\n",
    "sample = False\n",
    "if sample:\n",
    "    data['results']['bindings'] = np.random.choice(data['results']['bindings'], replace=False, size=sample)\n",
    "    len(data['results']['bindings'])"
   ]
  },
  {
   "cell_type": "code",
   "execution_count": 5,
   "metadata": {
    "collapsed": false
   },
   "outputs": [],
   "source": [
    "# parse the dates\n",
    "for row in data['results']['bindings']:\n",
    "    # try and parse the date\n",
    "    if '_inception' in row and row['_inception']['type'] == 'literal':\n",
    "        try:\n",
    "            date = row['_inception']['value']\n",
    "            row['date'] = dateutil.parser.parse(date)\n",
    "        except ValueError as e:\n",
    "            logging.info(\"not parsed %s\\n%s\", date, row)\n",
    "    # drop first part\n",
    "    if pydash.has(row, 'item.value'):\n",
    "        entity = row['item']['value'].split(\"/\")[-1]\n",
    "        row['entity'] = entity\n",
    "            "
   ]
  },
  {
   "cell_type": "code",
   "execution_count": 6,
   "metadata": {
    "collapsed": false
   },
   "outputs": [],
   "source": [
    "rows = []\n",
    "for row in data['results']['bindings']:\n",
    "    creator = pydash.get(row, '_creatorLabel.value')\n",
    "    name = pydash.get(row, 'itemLabel.value')\n",
    "\n",
    "    datestr = pydash.get(row, '_inception.value')\n",
    "    datetype = pydash.get(row, '_inception.type')\n",
    "    img = pydash.get(row, '_image.value')\n",
    "    entity = pydash.get(row, 'entity')\n",
    "    if datestr and datetype == 'literal':\n",
    "        try:\n",
    "            date = dateutil.parser.parse(datestr)\n",
    "        except:\n",
    "            logging.exception(\"error %s\\n%s\", datestr, row)\n",
    "    else:\n",
    "        date = None\n",
    "    rows.append(\n",
    "        dict(\n",
    "            creator=creator,\n",
    "            name=name,\n",
    "            date=date,\n",
    "            img=img,\n",
    "            entity=entity\n",
    "        )\n",
    "    )"
   ]
  },
  {
   "cell_type": "code",
   "execution_count": 7,
   "metadata": {
    "collapsed": false
   },
   "outputs": [
    {
     "data": {
      "text/plain": [
       "18768"
      ]
     },
     "execution_count": 7,
     "metadata": {},
     "output_type": "execute_result"
    }
   ],
   "source": [
    "df = pandas.DataFrame(data=rows)\n",
    "# drop anonymous paintings\n",
    "# df.ix[df.creator == 'anonymous'] = None\n",
    "# drop missings and duplicates\n",
    "df = df.dropna().drop_duplicates()\n",
    "# calculate new index\n",
    "df = df.reset_index()\n",
    "\n",
    "def url2name(url):\n",
    "    \"\"\"convert url to file tag\"\"\"\n",
    "    return urllib.parse.unquote(url.split(':')[-1].replace('FilePath/', 'File:'))\n",
    "df['wiki_tag'] = df['img'].apply(url2name)\n",
    "\n",
    "len(df)"
   ]
  },
  {
   "cell_type": "code",
   "execution_count": 8,
   "metadata": {
    "collapsed": false
   },
   "outputs": [],
   "source": [
    "df.set_index('entity').head()\n",
    "df.to_json('paintings.json')"
   ]
  },
  {
   "cell_type": "code",
   "execution_count": 9,
   "metadata": {
    "collapsed": false
   },
   "outputs": [],
   "source": [
    "imgs = df.img\n",
    "imgs.to_csv('urls.txt', index=False)"
   ]
  },
  {
   "cell_type": "code",
   "execution_count": 84,
   "metadata": {
    "collapsed": false
   },
   "outputs": [],
   "source": [
    "paintings_df = pandas.read_json('paintings.json')\n",
    "paintings_df = paintings_df.reset_index().drop('level_0', axis=1)\n",
    "paintings_df['chunk'] = df.index // 50\n",
    "def special2normal(url):\n",
    "    '''convert special path to path'''\n",
    "    return (\n",
    "        urllib.parse.unquote(url)\n",
    "        .replace('/Special:FilePath/', '/File:')\n",
    "        .replace('http://', 'https://')\n",
    "        .replace(' ', '_')\n",
    "           )\n",
    "paintings_df['descriptionurl'] = paintings_df['img'].apply(special2normal)"
   ]
  },
  {
   "cell_type": "code",
   "execution_count": 19,
   "metadata": {
    "collapsed": false
   },
   "outputs": [
    {
     "name": "stdout",
     "output_type": "stream",
     "text": [
      "\n"
     ]
    }
   ],
   "source": [
    "# get a token from: /w/api.php?action=query&format=json&meta=tokens&type=csrf%7Clogin\n",
    "rows = []\n",
    "groups = df.groupby('chunk')\n",
    "api_urls = []\n",
    "for chunk_id, chunk in tqdm.tqdm_notebook(groups, desc='groups'):\n",
    "\n",
    "    names = \"|\".join(chunk.img.apply(url2name))\n",
    "    url = 'https://commons.wikimedia.org/w/api.php'\n",
    "    params = {\n",
    "        \"action\": \"query\",\n",
    "        \"titles\": names,\n",
    "        \"prop\": \"imageinfo\",\n",
    "        \"iiprop\": \"timestamp|thumbmime|bitdepth|dimensions|sha1|url|mediatype|metadata|extmetadata\",\n",
    "        \"format\": \"json\"\n",
    "\n",
    "    }\n",
    "    headers = {\n",
    "        'Accept': 'application/json',\n",
    "        'user-agent': 'Painting Database'\n",
    "    }\n",
    "    api_urls.append({\n",
    "            \"url\": url,\n",
    "            \"params\": params,\n",
    "            \"headers\": headers\n",
    "        })\n",
    "json.dump(api_urls, open('api_urls.json', 'w'))\n",
    "# run scrapy spider for urls"
   ]
  },
  {
   "cell_type": "code",
   "execution_count": 31,
   "metadata": {
    "collapsed": false
   },
   "outputs": [],
   "source": [
    "batches = json.load(open('./wiki_batches.json'))\n",
    "rows = []\n",
    "for batch in batches:\n",
    "    \n",
    "    for i, (wiki_id, page) in enumerate(batch['query']['pages'].items()):\n",
    "        row = {}\n",
    "        assert len(pydash.get(page, 'imageinfo', [])) == 1\n",
    "        row['wiki_page_id'] = pydash.get(page, 'pageid')\n",
    "        row['ns'] = pydash.get(page, 'ns')\n",
    "        row['title'] = pydash.get(page, 'title')\n",
    "        row['url'] = pydash.get(page, 'imageinfo.0.url')\n",
    "        row['height'] = pydash.get(page, 'imageinfo.0.height')\n",
    "        row['width'] = pydash.get(page, 'imageinfo.0.width')    \n",
    "        row['descriptionurl'] = pydash.get(page, 'imageinfo.0.descriptionurl')\n",
    "        row['descriptionshorturl'] = pydash.get(page, 'imageinfo.0.descriptionshorturl')\n",
    "        row['sha1'] = pydash.get(page, 'imageinfo.0.sha1').upper()\n",
    "        row['metadata'] = pydash.get(page, 'imageinfo.0.metadata')\n",
    "        rows.append(row)"
   ]
  },
  {
   "cell_type": "code",
   "execution_count": 32,
   "metadata": {
    "collapsed": false
   },
   "outputs": [],
   "source": [
    "wikimedia_df = pandas.DataFrame.from_dict(rows)\n",
    "wikimedia_df.to_json('wikimedia.json')"
   ]
  },
  {
   "cell_type": "code",
   "execution_count": 154,
   "metadata": {
    "collapsed": false
   },
   "outputs": [
    {
     "data": {
      "text/plain": [
       "'\\nrows = []\\nfor fname in tqdm.tqdm_notebook(os.listdir(\\'/Users/fedor/data/highres/\\'), desc=\\'files\\'):\\n    fullpath = os.path.join(\\'/Users/fedor/data/highres/\\', fname)\\n    quoted_path = shlex.quote(fullpath)\\n    sha1 = !shasum $quoted_path | cut -f 1 -d \\' \\'\\n    row = {\\n        \"filename\": fname,\\n        \"sha1\": sha1[0].strip().upper(),\\n        \"size\": os.stat(fullpath).st_size\\n        \\n    }\\n    rows.append(row)\\nfiles_df = pandas.DataFrame(rows)\\nfiles_df.to_json(\\'files.json\\')\\n'"
      ]
     },
     "execution_count": 154,
     "metadata": {},
     "output_type": "execute_result"
    }
   ],
   "source": [
    "'''\n",
    "rows = []\n",
    "for fname in tqdm.tqdm_notebook(os.listdir('/Users/fedor/data/highres/'), desc='files'):\n",
    "    fullpath = os.path.join('/Users/fedor/data/highres/', fname)\n",
    "    quoted_path = shlex.quote(fullpath)\n",
    "    sha1 = !shasum $quoted_path | cut -f 1 -d ' '\n",
    "    row = {\n",
    "        \"filename\": fname,\n",
    "        \"sha1\": sha1[0].strip().upper(),\n",
    "        \"size\": os.stat(fullpath).st_size\n",
    "        \n",
    "    }\n",
    "    rows.append(row)\n",
    "files_df = pandas.DataFrame(rows)\n",
    "files_df.to_json('files.json')\n",
    "'''"
   ]
  },
  {
   "cell_type": "code",
   "execution_count": null,
   "metadata": {
    "collapsed": true
   },
   "outputs": [],
   "source": [
    "wikimedia_df = pandas.read_json('wikimedia.json')\n",
    "wikimedia_df = wikimedia_df.reset_index().drop('index', axis=1)"
   ]
  },
  {
   "cell_type": "code",
   "execution_count": 36,
   "metadata": {
    "collapsed": false
   },
   "outputs": [],
   "source": [
    "with open('headers.json') as f:\n",
    "    records = json.load(f)\n",
    "\n",
    "# headers contain lists of 1 or more items\n",
    "for record in records:\n",
    "    for key, item in record.items():\n",
    "        if isinstance(item, list) and len(item) == 1:\n",
    "            item = item[0]\n",
    "            record[key] = item\n",
    "    \n",
    "headers_df = pandas.DataFrame.from_records(records)\n",
    "# convert base36 to base16\n",
    "headers_df['sha1'] = headers_df['X-Object-Meta-Sha1Base36'].apply(\n",
    "    lambda x: np.base_repr(int(x, base=36), 16).zfill(40) \n",
    ")"
   ]
  },
  {
   "cell_type": "code",
   "execution_count": 155,
   "metadata": {
    "collapsed": false
   },
   "outputs": [],
   "source": [
    "\n",
    "files_df = pandas.read_json('files.json')\n",
    "# drop index\n",
    "files_df = files_df.reset_index().drop('index', axis=1)"
   ]
  },
  {
   "cell_type": "code",
   "execution_count": null,
   "metadata": {
    "collapsed": false
   },
   "outputs": [],
   "source": []
  },
  {
   "cell_type": "code",
   "execution_count": 156,
   "metadata": {
    "collapsed": false
   },
   "outputs": [],
   "source": [
    "sha1 = wikimedia_df.iloc[1]['sha1']\n",
    "sha1\n",
    "sha1 = '711F33544E5014D037955009D12B82BBE06C0CEE'"
   ]
  },
  {
   "cell_type": "code",
   "execution_count": 157,
   "metadata": {
    "collapsed": false
   },
   "outputs": [
    {
     "data": {
      "text/plain": [
       "(descriptionshorturl    https://commons.wikimedia.org/w/index.php?curi...\n",
       " descriptionurl         https://commons.wikimedia.org/wiki/File:Scuola...\n",
       " height                                                               682\n",
       " metadata                [{'value': 1, 'name': 'MEDIAWIKI_EXIF_VERSION'}]\n",
       " ns                                                                     6\n",
       " sha1                            711F33544E5014D037955009D12B82BBE06C0CEE\n",
       " title                  File:Scuola di fontainebleau, presunti ritratt...\n",
       " url                    https://upload.wikimedia.org/wikipedia/commons...\n",
       " width                                                               1024\n",
       " wiki_page_id                                                     1910772\n",
       " Name: 5, dtype: object,\n",
       " Accept-Ranges                                                                bytes\n",
       " Access-Control-Allow-Origin                                                      *\n",
       " Access-Control-Expose-Headers    Age, Date, Content-Length, Content-Range, X-Co...\n",
       " Age                                                                          23396\n",
       " Content-Length                                                              256758\n",
       " Content-Type                                                            image/jpeg\n",
       " Date                                                 Wed, 22 Jun 2016 17:34:44 GMT\n",
       " Etag                                              8d37653b69f8bd73bde5616f6e6fc5a8\n",
       " Last-Modified                                        Tue, 17 Feb 2015 20:40:55 GMT\n",
       " Strict-Transport-Security             max-age=31536000; includeSubDomains; preload\n",
       " Timing-Allow-Origin                                                              *\n",
       " Via                                          1.1 varnish, 1.1 varnish, 1.1 varnish\n",
       " X-Analytics                                                                https=1\n",
       " X-Cache                                    cp1062 miss, cp3039 hit/12, cp3038 miss\n",
       " X-Client-Ip                                                          83.162.178.53\n",
       " X-Object-Meta-Sha1Base36                           d7p7kzjswty3mqlbs8a2g2cyneyhxbi\n",
       " X-Timestamp                                                       1424205654.67701\n",
       " X-Trans-Id                                      tx75b681468c624fd28034e-00576a70d0\n",
       " X-Varnish                            1879738870, 3163378924 3089485691, 3380837408\n",
       " response_url                     https://upload.wikimedia.org/wikipedia/commons...\n",
       " status                                                                         200\n",
       " url                              https://upload.wikimedia.org/wikipedia/commons...\n",
       " sha1                                      711F33544E5014D037955009D12B82BBE06C0CEE\n",
       " Name: 166, dtype: object,\n",
       " filename    Scuola_di_fontainebleau,_presunti_ritratti_di_...\n",
       " sha1                 711F33544E5014D037955009D12B82BBE06C0CEE\n",
       " size                                                   256758\n",
       " Name: 6331, dtype: object,\n",
       " Empty DataFrame\n",
       " Columns: [chunk, creator, date, entity, img, index, name, wiki_tag, descriptionurl]\n",
       " Index: [])"
      ]
     },
     "execution_count": 157,
     "metadata": {},
     "output_type": "execute_result"
    }
   ],
   "source": [
    "W = wikimedia_df.ix[wikimedia_df.sha1 == sha1].iloc[0]\n",
    "H = headers_df.ix[headers_df.sha1 == sha1].iloc[0]\n",
    "F = files_df.ix[files_df.sha1 == sha1].iloc[0]\n",
    "P = paintings_df.ix[paintings_df.descriptionurl == W.descriptionurl]\n",
    "W, H, F, P"
   ]
  },
  {
   "cell_type": "code",
   "execution_count": 158,
   "metadata": {
    "collapsed": false
   },
   "outputs": [],
   "source": [
    "wiki_headers = pandas.merge(wikimedia_df, headers_df, how='outer', on='sha1')\n",
    "wiki_headers_files = pandas.merge(wiki_headers, files_df, how='outer', on='sha1')"
   ]
  },
  {
   "cell_type": "code",
   "execution_count": 159,
   "metadata": {
    "collapsed": false
   },
   "outputs": [],
   "source": [
    "merged = pandas.merge(wiki_headers_files, paintings_df, how='outer', on='descriptionurl')"
   ]
  },
  {
   "cell_type": "code",
   "execution_count": 160,
   "metadata": {
    "collapsed": false
   },
   "outputs": [
    {
     "data": {
      "text/plain": [
       "82"
      ]
     },
     "execution_count": 160,
     "metadata": {},
     "output_type": "execute_result"
    }
   ],
   "source": [
    "# paintings that were downloaded but no longer on wiki\n",
    "len(merged.ix[pandas.isnull(merged.descriptionurl)])"
   ]
  },
  {
   "cell_type": "code",
   "execution_count": 164,
   "metadata": {
    "collapsed": false
   },
   "outputs": [
    {
     "data": {
      "text/plain": [
       "'https://commons.wikimedia.org/wiki/File:Georg_Friedrich_Kersting_002.jpg'"
      ]
     },
     "execution_count": 164,
     "metadata": {},
     "output_type": "execute_result"
    }
   ],
   "source": [
    "# missing files\n",
    "merged.ix[pandas.isnull(merged.filename)].iloc[0].descriptionurl"
   ]
  },
  {
   "cell_type": "code",
   "execution_count": null,
   "metadata": {
    "collapsed": true
   },
   "outputs": [],
   "source": []
  }
 ],
 "metadata": {
  "kernelspec": {
   "display_name": "Python 3",
   "language": "python",
   "name": "python3"
  },
  "language_info": {
   "codemirror_mode": {
    "name": "ipython",
    "version": 3
   },
   "file_extension": ".py",
   "mimetype": "text/x-python",
   "name": "python",
   "nbconvert_exporter": "python",
   "pygments_lexer": "ipython3",
   "version": "3.5.1"
  },
  "widgets": {
   "state": {
    "01d4694e4d764f3a8f4d31c8d84d185f": {
     "views": []
    },
    "02e9a9484da140b1b715685fca88647b": {
     "views": []
    },
    "0b41eeb072bb4d82b898f0e29c1a87ae": {
     "views": []
    },
    "0c89b94f6f17443c87fcea86c20e6d73": {
     "views": []
    },
    "0d1103fa4ee24ee4b7aaf597419c6e5a": {
     "views": []
    },
    "0dc86e6a854f49629c854cb3f85e3a30": {
     "views": []
    },
    "0e7fe5d8dab44bd98b2e23475a761c8a": {
     "views": []
    },
    "0f3936203c5145b386bc53a48b2ad095": {
     "views": []
    },
    "150c88e2f92b46dd925dc90ed669c7b0": {
     "views": []
    },
    "15eb1371e7a84018bd5031f3bd9d1553": {
     "views": []
    },
    "160b4c65bb4349d99a3c133f34522c87": {
     "views": []
    },
    "186f0115755e4cffa70f146657a937a0": {
     "views": []
    },
    "21dacebcbfb14d76b302f2f99ef55ba9": {
     "views": []
    },
    "23b78d04ff844c2b8e6c0ae8ae60472f": {
     "views": []
    },
    "2c6fadd68c6847bea8c784e6544cc142": {
     "views": []
    },
    "403b83c548e14d2ea316d25f5ca61d5a": {
     "views": []
    },
    "41d3c0893cdd4f18b86a4102eadc2e24": {
     "views": []
    },
    "44271a59e45b4061aad7e60acb142a8d": {
     "views": []
    },
    "45d222ec599d4685a5b157cb5337efa7": {
     "views": []
    },
    "46d93a9ae8304175b3355b6ffdf49094": {
     "views": []
    },
    "4896d70792e84ec19a3e9f424045da16": {
     "views": []
    },
    "4a6d3d65f5da4045a32e42a8bfb238cc": {
     "views": []
    },
    "54044a84e9da44e0848fd2c27e1072a1": {
     "views": []
    },
    "5c9176249b3347a7b2f2af9a845763d3": {
     "views": []
    },
    "5d6cd04b6341422f87ebd750233bcd43": {
     "views": []
    },
    "64a238f2ae78490dad3fe6121efbbbb7": {
     "views": []
    },
    "6590707b9e024483b6dfc3cb26d4f98d": {
     "views": []
    },
    "6748722a5da44e96b66793699e69ae2b": {
     "views": []
    },
    "6a2f4bfe924f45bb9daa22b3249bd924": {
     "views": []
    },
    "6b568b33e04942f9bcef7e351ebc432e": {
     "views": []
    },
    "6ef874bfbe384989b7756ca923925994": {
     "views": []
    },
    "721d43970e564ffdaf70d8a6b4d7d217": {
     "views": []
    },
    "72bd824e240746bbba9f3615b6c673bb": {
     "views": []
    },
    "79cf25135a7746478c666c70513ee5ef": {
     "views": []
    },
    "7ee4272b7a4b4122b6d4e3392a4f81be": {
     "views": []
    },
    "906ecd4f77394ce192565aaf703d399d": {
     "views": []
    },
    "9353b40e2a294c7eb82433c378679353": {
     "views": []
    },
    "9aab443ef12846e18322b3fa9b7f75d2": {
     "views": []
    },
    "9c4fcd285296415ea76af0b6373233b9": {
     "views": []
    },
    "9cfd75c541464d76881d33b707d839fe": {
     "views": []
    },
    "a00b933be839449e9c25605249f09490": {
     "views": []
    },
    "a011704f675941249cb3281710a1df91": {
     "views": []
    },
    "a0b5089db7f045118faf7575a8b802ac": {
     "views": []
    },
    "a128d88a56d34ace8de51e2322b5b1a7": {
     "views": []
    },
    "a181eed89c0f4ab498029f4a75e0aaa5": {
     "views": []
    },
    "a553753d70b84fb698c40b5129239e14": {
     "views": []
    },
    "ab523f48369f4342805a086d21214aad": {
     "views": []
    },
    "b121134e6fda4dcab621950878f65859": {
     "views": []
    },
    "b3866814a1b54ed29d948fadd280e551": {
     "views": []
    },
    "b4d3bba83b4547b698672473d737ddcf": {
     "views": [
      {
       "cell_index": 10
      }
     ]
    },
    "b5b1b71714134d1cad55a60b096c6d28": {
     "views": []
    },
    "c1400b23c6284f0982b82c807ed27f1f": {
     "views": []
    },
    "cedd8e025445431499da867966b592e2": {
     "views": []
    },
    "d1c8d579fa39416b9af0d8c02658bb46": {
     "views": []
    },
    "d8e3ab72a4984b63ace1b3c34cdbf425": {
     "views": []
    },
    "e35d6da5784a4aaa942e85fd57e07372": {
     "views": []
    },
    "ecf41c331cfb49648b7ec90153f6748d": {
     "views": []
    },
    "f8361e2b85234b6d893bd1d797d710c2": {
     "views": []
    },
    "fb75e1bd01d84b819d735356c566c056": {
     "views": []
    },
    "fed515f286b541949b5b01988d00b399": {
     "views": []
    }
   },
   "version": "1.1.2"
  }
 },
 "nbformat": 4,
 "nbformat_minor": 0
}
