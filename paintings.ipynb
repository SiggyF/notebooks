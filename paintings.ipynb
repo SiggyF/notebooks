{
 "cells": [
  {
   "cell_type": "code",
   "execution_count": 102,
   "metadata": {
    "collapsed": false
   },
   "outputs": [],
   "source": [
    "import datetime\n",
    "import logging\n",
    "\n",
    "import dateutil.parser\n",
    "import requests\n",
    "import matplotlib.pyplot as plt\n",
    "import matplotlib.dates\n",
    "%matplotlib inline\n",
    "\n",
    "# replace default logging\n",
    "del logging.root.handlers[0]\n",
    "logging.basicConfig(level=logging.INFO)"
   ]
  },
  {
   "cell_type": "code",
   "execution_count": 33,
   "metadata": {
    "collapsed": true
   },
   "outputs": [],
   "source": [
    "query = \"\"\"\n",
    "SELECT ?item ?itemLabel ?_image ?_inception ?_creator ?_creatorLabel WHERE {\n",
    "  # select all paintings\n",
    "  ?item wdt:P31 wd:Q3305213.\n",
    "  # made with oil\n",
    "  ?item wdt:P186 wd:Q296955.\n",
    "  # written in english\n",
    "  SERVICE wikibase:label { bd:serviceParam wikibase:language \"en\". }\n",
    "  # store the image\n",
    "  OPTIONAL { ?item wdt:P18 ?_image. }\n",
    "  # store the creation date\n",
    "  OPTIONAL { ?item wdt:P571 ?_inception. }\n",
    "  # store the creator\n",
    "  OPTIONAL { ?item wdt:P170 ?_creator. }\n",
    "}\n",
    "\"\"\""
   ]
  },
  {
   "cell_type": "code",
   "execution_count": 111,
   "metadata": {
    "collapsed": false
   },
   "outputs": [
    {
     "name": "stderr",
     "output_type": "stream",
     "text": [
      "INFO:requests.packages.urllib3.connectionpool:Starting new HTTPS connection (1): query.wikidata.org\n"
     ]
    }
   ],
   "source": [
    "url = \"https://query.wikidata.org/bigdata/namespace/wdq/sparql\"\n",
    "resp = requests.get(url, \n",
    "                    params=dict(query=query), \n",
    "                    headers={'Accept': 'application/json'})"
   ]
  },
  {
   "cell_type": "code",
   "execution_count": 112,
   "metadata": {
    "collapsed": false
   },
   "outputs": [],
   "source": [
    "data = resp.json()"
   ]
  },
  {
   "cell_type": "code",
   "execution_count": 113,
   "metadata": {
    "collapsed": false
   },
   "outputs": [],
   "source": [
    "for row in data['results']['bindings']:\n",
    "    if '_inception' in row and row['_inception']['type'] == 'literal':\n",
    "        try:\n",
    "            date = row['_inception']['value']\n",
    "            row['date'] = dateutil.parser.parse(date)\n",
    "        except ValueError as e:\n",
    "            logging.info(\"not parsed %s\\n%s\", date, row)\n",
    "            "
   ]
  },
  {
   "cell_type": "code",
   "execution_count": 104,
   "metadata": {
    "collapsed": true
   },
   "outputs": [],
   "source": [
    "# analyze all data\n",
    "dates = []\n",
    "for row in data['results']['bindings']:\n",
    "    if 'date' in row:\n",
    "        dates.append(\n",
    "            matplotlib.dates.date2num(row['date'])\n",
    "        )"
   ]
  },
  {
   "cell_type": "code",
   "execution_count": 110,
   "metadata": {
    "collapsed": false
   },
   "outputs": [
    {
     "data": {
      "image/png": "[encoded data removed]",
      "text/plain": [
       "<matplotlib.figure.Figure at 0x1073c5668>"
      ]
     },
     "metadata": {},
     "output_type": "display_data"
    }
   ],
   "source": [
    "fig, ax = plt.subplots()\n",
    "_ = ax.hist(dates, bins=100)\n",
    "ax.set_xlim(matplotlib.dates.date2num(datetime.datetime(1300, 1, 1)),\n",
    "            matplotlib.dates.date2num(datetime.datetime(2050, 1, 1)))\n",
    "ax.xaxis_date(tz=dateutil.tz.tzutc())\n",
    "ax.xaxis.set_major_locator(matplotlib.dates.YearLocator(100))\n"
   ]
  }
 ],
 "metadata": {
  "kernelspec": {
   "display_name": "Python 3",
   "language": "python",
   "name": "python3"
  },
  "language_info": {
   "codemirror_mode": {
    "name": "ipython",
    "version": 3
   },
   "file_extension": ".py",
   "mimetype": "text/x-python",
   "name": "python",
   "nbconvert_exporter": "python",
   "pygments_lexer": "ipython3",
   "version": "3.5.1"
  }
 },
 "nbformat": 4,
 "nbformat_minor": 0
}
