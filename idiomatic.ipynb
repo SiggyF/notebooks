{
 "metadata": {
  "celltoolbar": "Slideshow",
  "name": "",
  "signature": "sha256:f0b8d64158db06487642c6db8df4feb43a64e6691d7a3320b17e20f94481be2a"
 },
 "nbformat": 3,
 "nbformat_minor": 0,
 "worksheets": [
  {
   "cells": [
    {
     "cell_type": "code",
     "collapsed": false,
     "input": [
      "import logging\n",
      "import functools\n",
      "import itertools\n",
      "\n",
      "import numpy as np\n",
      "logging.root.setLevel(logging.DEBUG)"
     ],
     "language": "python",
     "metadata": {
      "slideshow": {
       "slide_type": "slide"
      }
     },
     "outputs": [],
     "prompt_number": 1
    },
    {
     "cell_type": "heading",
     "level": 2,
     "metadata": {
      "slideshow": {
       "slide_type": "slide"
      }
     },
     "source": [
      "Idiomatic"
     ]
    },
    {
     "cell_type": "code",
     "collapsed": false,
     "input": [
      "import this"
     ],
     "language": "python",
     "metadata": {
      "slideshow": {
       "slide_type": "subslide"
      }
     },
     "outputs": [
      {
       "output_type": "stream",
       "stream": "stdout",
       "text": [
        "The Zen of Python, by Tim Peters\n",
        "\n",
        "Beautiful is better than ugly.\n",
        "Explicit is better than implicit.\n",
        "Simple is better than complex.\n",
        "Complex is better than complicated.\n",
        "Flat is better than nested.\n",
        "Sparse is better than dense.\n",
        "Readability counts.\n",
        "Special cases aren't special enough to break the rules.\n",
        "Although practicality beats purity.\n",
        "Errors should never pass silently.\n",
        "Unless explicitly silenced.\n",
        "In the face of ambiguity, refuse the temptation to guess.\n",
        "There should be one-- and preferably only one --obvious way to do it.\n",
        "Although that way may not be obvious at first unless you're Dutch.\n",
        "Now is better than never.\n",
        "Although never is often better than *right* now.\n",
        "If the implementation is hard to explain, it's a bad idea.\n",
        "If the implementation is easy to explain, it may be a good idea.\n",
        "Namespaces are one honking great idea -- let's do more of those!\n"
       ]
      }
     ],
     "prompt_number": 2
    },
    {
     "cell_type": "heading",
     "level": 2,
     "metadata": {
      "slideshow": {
       "slide_type": "slide"
      }
     },
     "source": [
      "ugly"
     ]
    },
    {
     "cell_type": "code",
     "collapsed": false,
     "input": [
      "title = \"title\"\n",
      "print(\"<html>\")\n",
      "print(\"<head>\")\n",
      "print(\"<title>\" + title + \"</title>\")\n",
      "print(\"</head>\")\n",
      "print(\"<body>\")\n",
      "print(\"<h1>\" + title + \"</h1>\")\n",
      "print(\"</body>\")\n",
      "print(\"</html>\")"
     ],
     "language": "python",
     "metadata": {
      "slideshow": {
       "slide_type": "subslide"
      }
     },
     "outputs": [
      {
       "output_type": "stream",
       "stream": "stdout",
       "text": [
        "<html>\n",
        "<head>\n",
        "<title>title</title>\n",
        "</head>\n",
        "<body>\n",
        "<h1>title</h1>\n",
        "</body>\n",
        "</html>\n"
       ]
      }
     ],
     "prompt_number": 3
    },
    {
     "cell_type": "code",
     "collapsed": false,
     "input": [
      "template = \"\"\"<html>\n",
      " <head>\n",
      "  <title>{title:s}</title>\n",
      " </head>\n",
      " <body>\n",
      " <h1>{title:s}</h1>\n",
      " </body>\n",
      "</html>\n",
      "\"\"\"\n",
      "print(template.format(title=title))"
     ],
     "language": "python",
     "metadata": {
      "slideshow": {
       "slide_type": "subslide"
      }
     },
     "outputs": [
      {
       "output_type": "stream",
       "stream": "stdout",
       "text": [
        "<html>\n",
        " <head>\n",
        "  <title>title</title>\n",
        " </head>\n",
        " <body>\n",
        " <h1>title</h1>\n",
        " </body>\n",
        "</html>\n",
        "\n"
       ]
      }
     ],
     "prompt_number": 4
    },
    {
     "cell_type": "code",
     "collapsed": false,
     "input": [
      "a = [2,3,5]\n",
      "sum_of_squares = 0\n",
      "for i in range(len(a)):\n",
      "    sum_of_squares = sum_of_squares + a[i] * a[i]\n",
      "sum_of_squares"
     ],
     "language": "python",
     "metadata": {
      "slideshow": {
       "slide_type": "subslide"
      }
     },
     "outputs": [
      {
       "metadata": {},
       "output_type": "pyout",
       "prompt_number": 5,
       "text": [
        "38"
       ]
      }
     ],
     "prompt_number": 5
    },
    {
     "cell_type": "code",
     "collapsed": false,
     "input": [
      "sum(x**2 for x in a)"
     ],
     "language": "python",
     "metadata": {
      "slideshow": {
       "slide_type": "subslide"
      }
     },
     "outputs": [
      {
       "metadata": {},
       "output_type": "pyout",
       "prompt_number": 6,
       "text": [
        "38"
       ]
      }
     ],
     "prompt_number": 6
    },
    {
     "cell_type": "code",
     "collapsed": false,
     "input": [
      "(letter for letter in 'word')\n",
      "\n",
      "    "
     ],
     "language": "python",
     "metadata": {},
     "outputs": [
      {
       "metadata": {},
       "output_type": "pyout",
       "prompt_number": 11,
       "text": [
        "<generator object <genexpr> at 0x7fcd84087a50>"
       ]
      }
     ],
     "prompt_number": 11
    },
    {
     "cell_type": "code",
     "collapsed": false,
     "input": [
      "arr = np.array(a)\n",
      "(arr**2).sum()"
     ],
     "language": "python",
     "metadata": {
      "slideshow": {
       "slide_type": "subslide"
      }
     },
     "outputs": [
      {
       "metadata": {},
       "output_type": "pyout",
       "prompt_number": 7,
       "text": [
        "38"
       ]
      }
     ],
     "prompt_number": 7
    },
    {
     "cell_type": "code",
     "collapsed": false,
     "input": [
      "colors = [\"red\", \"yellow\", \"blue\", \"purple\"]"
     ],
     "language": "python",
     "metadata": {
      "slideshow": {
       "slide_type": "subslide"
      }
     },
     "outputs": [],
     "prompt_number": 13
    },
    {
     "cell_type": "code",
     "collapsed": false,
     "input": [
      "for i in range(len(colors)):\n",
      "    print(colors[i])"
     ],
     "language": "python",
     "metadata": {
      "slideshow": {
       "slide_type": "subslide"
      }
     },
     "outputs": [
      {
       "output_type": "stream",
       "stream": "stdout",
       "text": [
        "red\n",
        "yellow\n",
        "blue\n",
        "purple\n"
       ]
      }
     ],
     "prompt_number": 14
    },
    {
     "cell_type": "code",
     "collapsed": false,
     "input": [
      "for color in colors:\n",
      "    print(color)"
     ],
     "language": "python",
     "metadata": {
      "slideshow": {
       "slide_type": "subslide"
      }
     },
     "outputs": [
      {
       "output_type": "stream",
       "stream": "stdout",
       "text": [
        "red\n",
        "yellow\n",
        "blue\n",
        "purple\n"
       ]
      }
     ],
     "prompt_number": 15
    },
    {
     "cell_type": "code",
     "collapsed": false,
     "input": [
      "sorted_colors = colors[:]\n",
      "sorted_colors.sort()\n",
      "for color in sorted_colors:\n",
      "    print(color)\n"
     ],
     "language": "python",
     "metadata": {
      "slideshow": {
       "slide_type": "subslide"
      }
     },
     "outputs": [
      {
       "output_type": "stream",
       "stream": "stdout",
       "text": [
        "blue\n",
        "purple\n",
        "red\n",
        "yellow\n"
       ]
      }
     ],
     "prompt_number": 18
    },
    {
     "cell_type": "code",
     "collapsed": false,
     "input": [
      "for color in sorted(colors):\n",
      "    print(color)"
     ],
     "language": "python",
     "metadata": {
      "slideshow": {
       "slide_type": "subslide"
      }
     },
     "outputs": [
      {
       "output_type": "stream",
       "stream": "stdout",
       "text": [
        "blue\n",
        "purple\n",
        "red\n",
        "yellow\n"
       ]
      }
     ],
     "prompt_number": 12
    },
    {
     "cell_type": "code",
     "collapsed": false,
     "input": [
      "for i in range(len(colors)):\n",
      "    print(\"{}: {}\".format(i, colors[i]))"
     ],
     "language": "python",
     "metadata": {
      "slideshow": {
       "slide_type": "subslide"
      }
     },
     "outputs": [
      {
       "output_type": "stream",
       "stream": "stdout",
       "text": [
        "0: blue\n",
        "1: purple\n",
        "2: red\n",
        "3: yellow\n"
       ]
      }
     ],
     "prompt_number": 13
    },
    {
     "cell_type": "code",
     "collapsed": false,
     "input": [
      "for i, color in enumerate(colors):\n",
      "    print(\"{}: {}\".format(i, color))"
     ],
     "language": "python",
     "metadata": {
      "slideshow": {
       "slide_type": "subslide"
      }
     },
     "outputs": [
      {
       "output_type": "stream",
       "stream": "stdout",
       "text": [
        "0: blue\n",
        "1: purple\n",
        "2: red\n",
        "3: yellow\n"
       ]
      }
     ],
     "prompt_number": 14
    },
    {
     "cell_type": "code",
     "collapsed": false,
     "input": [
      "variables = [\"height\", \"length\", \"width\", \"volume\"]\n",
      "for i in range(len(variables)):\n",
      "    variable = variables[i]\n",
      "    color = colors[i]\n",
      "    print(\"{i}: {color}, {variable}\".format(i=i, color=color, variable=variable))"
     ],
     "language": "python",
     "metadata": {
      "slideshow": {
       "slide_type": "subslide"
      }
     },
     "outputs": [
      {
       "output_type": "stream",
       "stream": "stdout",
       "text": [
        "0: blue, height\n",
        "1: purple, length\n",
        "2: red, width\n",
        "3: yellow, volume\n"
       ]
      }
     ],
     "prompt_number": 15
    },
    {
     "cell_type": "code",
     "collapsed": false,
     "input": [
      "zip([1,2,3], ['a', 'b', 'c'])"
     ],
     "language": "python",
     "metadata": {},
     "outputs": [
      {
       "metadata": {},
       "output_type": "pyout",
       "prompt_number": 19,
       "text": [
        "[(1, 'a'), (2, 'b'), (3, 'c')]"
       ]
      }
     ],
     "prompt_number": 19
    },
    {
     "cell_type": "code",
     "collapsed": false,
     "input": [
      "variables = [\"height\", \"length\", \"width\", \"volume\"]\n",
      "for i, (variable, color) in enumerate(zip(variables, colors)):\n",
      "    print(\"{i}: {color}, {variable}\".format(i=i, color=color, variable=variable))"
     ],
     "language": "python",
     "metadata": {
      "slideshow": {
       "slide_type": "subslide"
      }
     },
     "outputs": [
      {
       "output_type": "stream",
       "stream": "stdout",
       "text": [
        "0: blue, height\n",
        "1: purple, length\n",
        "2: red, width\n",
        "3: yellow, volume\n"
       ]
      }
     ],
     "prompt_number": 16
    },
    {
     "cell_type": "code",
     "collapsed": false,
     "input": [
      "letters = [\"C\",\"a\", \"b\"]\n",
      "list(sorted(letters))"
     ],
     "language": "python",
     "metadata": {
      "slideshow": {
       "slide_type": "subslide"
      }
     },
     "outputs": [
      {
       "metadata": {},
       "output_type": "pyout",
       "prompt_number": 17,
       "text": [
        "['C', 'a', 'b']"
       ]
      }
     ],
     "prompt_number": 17
    },
    {
     "cell_type": "code",
     "collapsed": false,
     "input": [
      "def case_independent_cmp(a, b):\n",
      "    return cmp(a.lower(), b.lower())\n",
      "list(sorted(letters, cmp=case_independent_cmp))\n"
     ],
     "language": "python",
     "metadata": {
      "slideshow": {
       "slide_type": "subslide"
      }
     },
     "outputs": [
      {
       "metadata": {},
       "output_type": "pyout",
       "prompt_number": 18,
       "text": [
        "['a', 'b', 'C']"
       ]
      }
     ],
     "prompt_number": 18
    },
    {
     "cell_type": "code",
     "collapsed": false,
     "input": [
      "list(sorted(letters, key=str.lower))"
     ],
     "language": "python",
     "metadata": {
      "slideshow": {
       "slide_type": "subslide"
      }
     },
     "outputs": [
      {
       "metadata": {},
       "output_type": "pyout",
       "prompt_number": 19,
       "text": [
        "['a', 'b', 'C']"
       ]
      }
     ],
     "prompt_number": 19
    },
    {
     "cell_type": "heading",
     "level": 2,
     "metadata": {
      "slideshow": {
       "slide_type": "slide"
      }
     },
     "source": [
      "Explicit is better than implicit"
     ]
    },
    {
     "cell_type": "code",
     "collapsed": false,
     "input": [
      "from math import *\n",
      "from numpy import *\n",
      "import logging\n",
      "\n",
      "log([1,2,3, 2])"
     ],
     "language": "python",
     "metadata": {
      "slideshow": {
       "slide_type": "subslide"
      }
     },
     "outputs": [
      {
       "metadata": {},
       "output_type": "pyout",
       "prompt_number": 22,
       "text": [
        "array([ 0.        ,  0.69314718,  1.09861229,  0.69314718])"
       ]
      }
     ],
     "prompt_number": 22
    },
    {
     "cell_type": "code",
     "collapsed": false,
     "input": [
      "from numpy import *\n",
      "from math import *\n",
      "try:\n",
      "    log([1,2,3, 2])\n",
      "except:\n",
      "    logging.exception(\"that does not compute\")"
     ],
     "language": "python",
     "metadata": {
      "slideshow": {
       "slide_type": "subslide"
      }
     },
     "outputs": [
      {
       "output_type": "stream",
       "stream": "stderr",
       "text": [
        "ERROR:root:that does not compute\n",
        "Traceback (most recent call last):\n",
        "  File \"<ipython-input-23-f2e5e3862da6>\", line 4, in <module>\n",
        "    log([1,2,3, 2])\n",
        "TypeError: a float is required\n"
       ]
      }
     ],
     "prompt_number": 23
    },
    {
     "cell_type": "code",
     "collapsed": false,
     "input": [
      "import numpy as np\n",
      "np.log([1,2,3, 2])"
     ],
     "language": "python",
     "metadata": {
      "slideshow": {
       "slide_type": "subslide"
      }
     },
     "outputs": [
      {
       "metadata": {},
       "output_type": "pyout",
       "prompt_number": 22,
       "text": [
        "array([ 0.        ,  0.69314718,  1.09861229,  0.69314718])"
       ]
      }
     ],
     "prompt_number": 22
    },
    {
     "cell_type": "code",
     "collapsed": false,
     "input": [
      "\"it's %d o'clock\" % (3,)"
     ],
     "language": "python",
     "metadata": {},
     "outputs": [
      {
       "metadata": {},
       "output_type": "pyout",
       "prompt_number": 24,
       "text": [
        "\"it's 3 o'clock\""
       ]
      }
     ],
     "prompt_number": 24
    },
    {
     "cell_type": "code",
     "collapsed": false,
     "input": [
      "try:\n",
      "    \"It is \" +3 + \" o'clock\"\n",
      "except:\n",
      "    logging.exception(\"Strong typing please!\")"
     ],
     "language": "python",
     "metadata": {
      "slideshow": {
       "slide_type": "subslide"
      }
     },
     "outputs": [
      {
       "output_type": "stream",
       "stream": "stderr",
       "text": [
        "ERROR:root:Strong typing please!\n",
        "Traceback (most recent call last):\n",
        "  File \"<ipython-input-23-64cdd9f2df20>\", line 2, in <module>\n",
        "    \"It is \" + 3 + \" o'clock\"\n",
        "TypeError: cannot concatenate 'str' and 'int' objects\n"
       ]
      }
     ],
     "prompt_number": 23
    },
    {
     "cell_type": "code",
     "collapsed": false,
     "input": [
      "\"It is {hours:d} o'clock\".format(hours=3)"
     ],
     "language": "python",
     "metadata": {
      "slideshow": {
       "slide_type": "subslide"
      }
     },
     "outputs": [
      {
       "metadata": {},
       "output_type": "pyout",
       "prompt_number": 24,
       "text": [
        "\"It is 3 o'clock\""
       ]
      }
     ],
     "prompt_number": 24
    },
    {
     "cell_type": "heading",
     "level": 2,
     "metadata": {
      "slideshow": {
       "slide_type": "slide"
      }
     },
     "source": [
      "Simple/Complex/Complicated"
     ]
    },
    {
     "cell_type": "code",
     "collapsed": false,
     "input": [
      "DEBUG = True\n",
      "def calculate():\n",
      "    if DEBUG:\n",
      "        print(\"starting calculate\")\n",
      "    1 + 1\n",
      "    if DEBUG:\n",
      "        print(\"finished calculate\")\n",
      "calculate()    "
     ],
     "language": "python",
     "metadata": {
      "slideshow": {
       "slide_type": "subslide"
      }
     },
     "outputs": [
      {
       "output_type": "stream",
       "stream": "stdout",
       "text": [
        "starting calculate\n",
        "finished calculate\n"
       ]
      }
     ],
     "prompt_number": 25
    },
    {
     "cell_type": "code",
     "collapsed": false,
     "input": [
      "def log_call(func):\n",
      "    logging.debug(\"starting {}\")\n",
      "    func()\n",
      "    logging.debug(\"finished {}\")\n",
      "    \n",
      "@log_call\n",
      "def calculate():\n",
      "    1 + 1\n"
     ],
     "language": "python",
     "metadata": {
      "slideshow": {
       "slide_type": "subslide"
      }
     },
     "outputs": [
      {
       "output_type": "stream",
       "stream": "stderr",
       "text": [
        "DEBUG:root:starting {}\n"
       ]
      },
      {
       "output_type": "stream",
       "stream": "stderr",
       "text": [
        "DEBUG:root:finished {}\n"
       ]
      }
     ],
     "prompt_number": 26
    },
    {
     "cell_type": "heading",
     "level": 2,
     "metadata": {
      "slideshow": {
       "slide_type": "slide"
      }
     },
     "source": [
      "Flat is better than nested"
     ]
    },
    {
     "cell_type": "code",
     "collapsed": false,
     "input": [
      "# in java:\n",
      "# import org.apache.xerces.impl.xpath.regex.EXIRegularExpression;\n",
      "import re\n"
     ],
     "language": "python",
     "metadata": {
      "slideshow": {
       "slide_type": "subslide"
      }
     },
     "outputs": [],
     "prompt_number": 27
    },
    {
     "cell_type": "code",
     "collapsed": false,
     "input": [
      "import requests\n",
      "import xml.etree.ElementTree\n",
      "\n",
      "url = 'http://live.waterbase.nl/metis/cgi-bin/mivd.pl?action=value&code=DOOVBWT&format=xml&lang=nl&order=code&type=loc'\n",
      "doc = xml.etree.ElementTree.fromstring(requests.get(url).content)\n",
      "doc.getchildren()[0].\\\n",
      "    getchildren()[0].\\\n",
      "    getchildren()[0].\\\n",
      "    getchildren()[2].\\\n",
      "    getchildren()[0].\\\n",
      "    getchildren()[0].\\\n",
      "    getchildren()[0].\\\n",
      "    getchildren()[0].\\\n",
      "    text\n"
     ],
     "language": "python",
     "metadata": {
      "slideshow": {
       "slide_type": "subslide"
      }
     },
     "outputs": [
      {
       "output_type": "stream",
       "stream": "stderr",
       "text": [
        "INFO:requests.packages.urllib3.connectionpool:Starting new HTTP connection (1): live.waterbase.nl\n"
       ]
      },
      {
       "output_type": "stream",
       "stream": "stderr",
       "text": [
        "DEBUG:requests.packages.urllib3.connectionpool:\"GET /metis/cgi-bin/mivd.pl?action=value&code=DOOVBWT&format=xml&lang=nl&order=code&type=loc HTTP/1.1\" 200 None\n"
       ]
      },
      {
       "metadata": {},
       "output_type": "pyout",
       "prompt_number": 28,
       "text": [
        "'131200,562950'"
       ]
      }
     ],
     "prompt_number": 28
    },
    {
     "cell_type": "code",
     "collapsed": false,
     "input": [
      "doc.find('.//gml:Coordinates', namespaces={'gml': 'http://www.opengis.net/gml'}).text"
     ],
     "language": "python",
     "metadata": {
      "slideshow": {
       "slide_type": "subslide"
      }
     },
     "outputs": [
      {
       "metadata": {},
       "output_type": "pyout",
       "prompt_number": 29,
       "text": [
        "'131200,562950'"
       ]
      }
     ],
     "prompt_number": 29
    },
    {
     "cell_type": "heading",
     "level": 2,
     "metadata": {
      "slideshow": {
       "slide_type": "slide"
      }
     },
     "source": [
      "Errors should never pass silent"
     ]
    },
    {
     "cell_type": "code",
     "collapsed": false,
     "input": [
      "try:\n",
      "    pay_salary(amount)\n",
      "except:\n",
      "    pass"
     ],
     "language": "python",
     "metadata": {
      "slideshow": {
       "slide_type": "subslide"
      }
     },
     "outputs": [],
     "prompt_number": 30
    },
    {
     "cell_type": "heading",
     "level": 2,
     "metadata": {
      "slideshow": {
       "slide_type": "slide"
      }
     },
     "source": [
      "Unless explicitly silenced"
     ]
    },
    {
     "cell_type": "code",
     "collapsed": false,
     "input": [
      "def transfer(amount, account):\n",
      "    if not isinstance(amount, int):\n",
      "        raise TypeError(\"expected integer, got %s\" % (type(amount), ))\n",
      "    print(\"paying %d to %s\" % (amount, account))\n",
      "    \n",
      "extra = 0\n",
      "amount = 23.43\n",
      "for i in range(5):\n",
      "    try:\n",
      "        # try if we can transfer\n",
      "        transfer(amount, \"bank\")\n",
      "    except TypeError:\n",
      "        # amount is a floating point\n",
      "        transfer(int(amount), \"bank\")\n",
      "        extra += amount - int(amount)\n",
      "        if extra > 1:\n",
      "            transfer(int(extra), \"fedor\")\n",
      "            extra -= int(extra)"
     ],
     "language": "python",
     "metadata": {
      "slideshow": {
       "slide_type": "subslide"
      }
     },
     "outputs": [
      {
       "output_type": "stream",
       "stream": "stdout",
       "text": [
        "paying 23 to bank\n",
        "paying 23 to bank\n",
        "paying 23 to bank\n",
        "paying 1 to fedor\n",
        "paying 23 to bank\n",
        "paying 23 to bank\n",
        "paying 1 to fedor\n"
       ]
      }
     ],
     "prompt_number": 25
    },
    {
     "cell_type": "code",
     "collapsed": false,
     "input": [],
     "language": "python",
     "metadata": {},
     "outputs": []
    }
   ],
   "metadata": {}
  }
 ]
}