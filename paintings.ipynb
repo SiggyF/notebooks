{
 "cells": [
  {
   "cell_type": "code",
   "execution_count": null,
   "metadata": {
    "collapsed": false
   },
   "outputs": [],
   "source": [
    "import datetime\n",
    "import logging\n",
    "import os.path\n",
    "\n",
    "import numpy as np\n",
    "import pandas # for tables\n",
    "import pydash # for functional stuff\n",
    "import dateutil.parser # garbage date/times\n",
    "import requests # urls\n",
    "import matplotlib.pyplot as plt # plotting \n",
    "import matplotlib.dates # date axes\n",
    "import mako.template # html formatting\n",
    "import IPython.display # notebook\n",
    "import skimage.io\n",
    "import skimage.transform\n",
    "import ssl\n",
    "import io\n",
    "from PIL import Image\n",
    "\n",
    "%matplotlib inline\n",
    "\n",
    "# replace default logging\n",
    "del logging.root.handlers[0]\n",
    "logging.basicConfig(level=logging.INFO)"
   ]
  },
  {
   "cell_type": "code",
   "execution_count": null,
   "metadata": {
    "collapsed": true
   },
   "outputs": [],
   "source": [
    "# Create a sparql query to get all the oil paintings from the wikipedia\n",
    "query = \"\"\"\n",
    "\n",
    "SELECT ?item ?itemLabel ?cid ?_image ?_inception ?_creator ?_creatorLabel WHERE {\n",
    "  # select all paintings\n",
    "  ?item wdt:P31 wd:Q3305213.\n",
    "  # made with oil\n",
    "  ?item wdt:P186 wd:Q296955.\n",
    "  # written in english\n",
    "  SERVICE wikibase:label { bd:serviceParam wikibase:language \"en\". }\n",
    "  # store the image\n",
    "  OPTIONAL { ?item wdt:P18 ?_image. }\n",
    "  # store the creation date\n",
    "  OPTIONAL { ?item wdt:P571 ?_inception. }\n",
    "  # store the creator\n",
    "  OPTIONAL { ?item wdt:P170 ?_creator. }\n",
    "}\n",
    "LIMIT 1000\n",
    "\"\"\""
   ]
  },
  {
   "cell_type": "code",
   "execution_count": null,
   "metadata": {
    "collapsed": false
   },
   "outputs": [],
   "source": [
    "url = \"https://query.wikidata.org/bigdata/namespace/wdq/sparql\"\n",
    "resp = requests.get(url, \n",
    "                    params=dict(query=query), \n",
    "                    headers={'Accept': 'application/json'})\n",
    "data = resp.json()"
   ]
  },
  {
   "cell_type": "code",
   "execution_count": null,
   "metadata": {
    "collapsed": false
   },
   "outputs": [],
   "source": [
    "# take a random sample\n",
    "data['results']['bindings'] = np.random.choice(data['results']['bindings'], replace=False, size=500)\n",
    "len(data['results']['bindings'])"
   ]
  },
  {
   "cell_type": "code",
   "execution_count": null,
   "metadata": {
    "collapsed": false
   },
   "outputs": [],
   "source": []
  },
  {
   "cell_type": "code",
   "execution_count": null,
   "metadata": {
    "collapsed": false
   },
   "outputs": [],
   "source": [
    "# parse the dates\n",
    "for row in data['results']['bindings']:\n",
    "    if '_inception' in row and row['_inception']['type'] == 'literal':\n",
    "        try:\n",
    "            date = row['_inception']['value']\n",
    "            row['date'] = dateutil.parser.parse(date)\n",
    "        except ValueError as e:\n",
    "            logging.info(\"not parsed %s\\n%s\", date, row)\n",
    "    if pydash.has(row, 'item.value'):\n",
    "        entity = row['item']['value'].split(\"/\")[-1]\n",
    "        row['entity'] = entity\n",
    "            "
   ]
  },
  {
   "cell_type": "code",
   "execution_count": null,
   "metadata": {
    "collapsed": true
   },
   "outputs": [],
   "source": [
    "# analyze all data\n",
    "dates = []\n",
    "for row in data['results']['bindings']:\n",
    "    if 'date' in row:\n",
    "        dates.append(\n",
    "            matplotlib.dates.date2num(row['date'])\n",
    "        )"
   ]
  },
  {
   "cell_type": "code",
   "execution_count": null,
   "metadata": {
    "collapsed": false
   },
   "outputs": [],
   "source": [
    "# plot it\n",
    "from scipy.stats import gaussian_kde\n",
    "import numpy as np\n",
    "\n",
    "fig, ax = plt.subplots()\n",
    "_ = ax.hist(dates, normed=True, bins=30)\n",
    "start_date = matplotlib.dates.date2num(datetime.datetime(1300, 1, 1))\n",
    "end_date = matplotlib.dates.date2num(datetime.datetime(2050, 1, 1))\n",
    "ax.set_xlim(start_date, end_date)\n",
    "ax.xaxis_date(tz=dateutil.tz.tzutc())\n",
    "ax.xaxis.set_major_locator(matplotlib.dates.YearLocator(100))\n",
    "x_dates = np.linspace(start_date, end_date)\n",
    "density = gaussian_kde(dates)\n",
    "# density.covariance_factor = lambda : .25\n",
    "ax.plot(x_dates, density(x_dates), linewidth=10, alpha=0.5) \n"
   ]
  },
  {
   "cell_type": "code",
   "execution_count": null,
   "metadata": {
    "collapsed": false
   },
   "outputs": [],
   "source": [
    "rows = []\n",
    "for row in data['results']['bindings']:\n",
    "    creator = pydash.get(row, '_creatorLabel.value')\n",
    "    name = pydash.get(row, 'itemLabel.value')\n",
    "\n",
    "    datestr = pydash.get(row, '_inception.value')\n",
    "    datetype = pydash.get(row, '_inception.type')\n",
    "    img = pydash.get(row, '_image.value')\n",
    "    entity = pydash.get(row, 'entity')\n",
    "    if datestr and datetype == 'literal':\n",
    "        try:\n",
    "            date = dateutil.parser.parse(datestr)\n",
    "        except:\n",
    "            logging.exception(\"error %s\\n%s\", datestr, row)\n",
    "    else:\n",
    "        date = None\n",
    "    rows.append(\n",
    "        dict(\n",
    "            creator=creator,\n",
    "            name=name,\n",
    "            date=date,\n",
    "            img=img,\n",
    "            entity=entity\n",
    "        )\n",
    "    )"
   ]
  },
  {
   "cell_type": "code",
   "execution_count": null,
   "metadata": {
    "collapsed": false
   },
   "outputs": [],
   "source": [
    "df = pandas.DataFrame(data=rows)\n",
    "df.ix[df.creator == 'anonymous'] = None\n",
    "# drop missings and duplicates\n",
    "df = df.dropna().drop_duplicates()\n",
    "len(df)"
   ]
  },
  {
   "cell_type": "code",
   "execution_count": null,
   "metadata": {
    "collapsed": false
   },
   "outputs": [],
   "source": [
    "table = pandas.crosstab(df.creator, columns=['creator'])\n",
    "table.sort_index(by=\"creator\", ascending=False).head()"
   ]
  },
  {
   "cell_type": "code",
   "execution_count": null,
   "metadata": {
    "collapsed": false
   },
   "outputs": [],
   "source": [
    "template = \"\"\"\n",
    "<style>\n",
    "\n",
    ".paintings {\n",
    "  display: flex;\n",
    "  flex-flow: row wrap;\n",
    "\n",
    "}\n",
    ".painting img {\n",
    "  width: 50px;\n",
    "  height: 50px;\n",
    "}\n",
    "</style>\n",
    "<div class=\"paintings\">\n",
    "% for i, row in table:\n",
    "<div class=\"painting\">\n",
    "<img src=\"${row.img}\" /> \n",
    "</div>\n",
    "% endfor\n",
    "</div>\n",
    "\"\"\"\n",
    "T = mako.template.Template(template)"
   ]
  },
  {
   "cell_type": "code",
   "execution_count": null,
   "metadata": {
    "collapsed": false
   },
   "outputs": [],
   "source": [
    "IPython.display.HTML(T.render(table=df.head(n=2).iterrows()))"
   ]
  },
  {
   "cell_type": "code",
   "execution_count": null,
   "metadata": {
    "collapsed": false
   },
   "outputs": [],
   "source": [
    "df.head()"
   ]
  },
  {
   "cell_type": "code",
   "execution_count": null,
   "metadata": {
    "collapsed": false
   },
   "outputs": [],
   "source": [
    "row = df.iloc[0]\n",
    "def save_img(row):\n",
    "    # get url\n",
    "    url = row.img\n",
    "    # lookup id\n",
    "    entity = row.entity \n",
    "    filename = \"paintings/%s.jpg\" % (entity, )\n",
    "    if os.path.exists(filename):\n",
    "        return\n",
    "    # download\n",
    "    resp = requests.get(url)\n",
    "    print(resp, entity)\n",
    "    if not resp.status_code == 200:\n",
    "        return\n",
    "    # get the bytes\n",
    "    content = io.BytesIO(resp.content)\n",
    "    # open as image\n",
    "    im = Image.open(content)\n",
    "    # scale down\n",
    "    N = 256\n",
    "    im.thumbnail((N, N))\n",
    "    # save\n",
    "    im.save(filename)\n",
    "save_img(row)"
   ]
  },
  {
   "cell_type": "code",
   "execution_count": null,
   "metadata": {
    "collapsed": false
   },
   "outputs": [],
   "source": [
    "import multiprocessing\n",
    "pool = multiprocessing.Pool(processes=8)"
   ]
  },
  {
   "cell_type": "code",
   "execution_count": null,
   "metadata": {
    "collapsed": false
   },
   "outputs": [],
   "source": [
    "# work\n",
    "rows = [row for (i, row) in df.iterrows()]\n",
    "# execute it\n",
    "pool.map(save_img, rows)"
   ]
  },
  {
   "cell_type": "code",
   "execution_count": null,
   "metadata": {
    "collapsed": true
   },
   "outputs": [],
   "source": [
    "df"
   ]
  },
  {
   "cell_type": "code",
   "execution_count": null,
   "metadata": {
    "collapsed": true
   },
   "outputs": [],
   "source": []
  }
 ],
 "metadata": {
  "kernelspec": {
   "display_name": "Python 2",
   "language": "python",
   "name": "python2"
  },
  "language_info": {
   "codemirror_mode": {
    "name": "ipython",
    "version": 2
   },
   "file_extension": ".py",
   "mimetype": "text/x-python",
   "name": "python",
   "nbconvert_exporter": "python",
   "pygments_lexer": "ipython2",
   "version": "2.7.11"
  }
 },
 "nbformat": 4,
 "nbformat_minor": 0
}
