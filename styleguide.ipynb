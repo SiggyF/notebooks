{
 "metadata": {
  "name": "",
  "signature": "sha256:76ea77f9597dd03b0f5395c4c9141dd05791ac98ec1e3572509cef95923207ea"
 },
 "nbformat": 3,
 "nbformat_minor": 0,
 "worksheets": [
  {
   "cells": [
    {
     "cell_type": "heading",
     "level": 1,
     "metadata": {
      "slideshow": {
       "slide_type": "slide"
      }
     },
     "source": [
      "Styleguide"
     ]
    },
    {
     "cell_type": "code",
     "collapsed": false,
     "input": [
      "import logging\n",
      "import functools\n",
      "import itertools\n",
      "\n",
      "import numpy as np\n",
      "logging.root.setLevel(logging.DEBUG)"
     ],
     "language": "python",
     "metadata": {
      "slideshow": {
       "slide_type": "skip"
      }
     },
     "outputs": [],
     "prompt_number": 3
    },
    {
     "cell_type": "code",
     "collapsed": false,
     "input": [
      "%install_ext https://raw.githubusercontent.com/SiggyF/notebooks/master/pep8_magic.py\n",
      "%load_ext pep8_magic"
     ],
     "language": "python",
     "metadata": {
      "slideshow": {
       "slide_type": "skip"
      }
     },
     "outputs": [
      {
       "output_type": "stream",
       "stream": "stdout",
       "text": [
        "Installed pep8_magic.py. To use it, type:\n",
        "  %load_ext pep8_magic\n",
        "The pep8_magic extension is already loaded. To reload it, use:\n",
        "  %reload_ext pep8_magic\n"
       ]
      }
     ],
     "prompt_number": 4
    },
    {
     "cell_type": "code",
     "collapsed": false,
     "input": [
      "%%pep8\n",
      "a=1"
     ],
     "language": "python",
     "metadata": {
      "slideshow": {
       "slide_type": "slide"
      }
     },
     "outputs": [
      {
       "output_type": "stream",
       "stream": "stderr",
       "text": [
        "INFO:pep8:/tmp/tmpAiX0cL:1:2: E225 missing whitespace around operator\n"
       ]
      }
     ],
     "prompt_number": 5
    },
    {
     "cell_type": "code",
     "collapsed": false,
     "input": [
      "%%pep8\n",
      "# BAD\n",
      "if True:\n",
      "   n_spaces = 3"
     ],
     "language": "python",
     "metadata": {
      "slideshow": {
       "slide_type": "subslide"
      }
     },
     "outputs": [
      {
       "output_type": "stream",
       "stream": "stderr",
       "text": [
        "INFO:pep8:/tmp/tmpMRKvNw:3:4: E111 indentation is not a multiple of four\n"
       ]
      }
     ],
     "prompt_number": 6
    },
    {
     "cell_type": "code",
     "collapsed": false,
     "input": [
      "%%pep8\n",
      "# GOOD\n",
      "if True:\n",
      "    n_spaces = 4"
     ],
     "language": "python",
     "metadata": {
      "slideshow": {
       "slide_type": "subslide"
      }
     },
     "outputs": [],
     "prompt_number": 6
    },
    {
     "cell_type": "code",
     "collapsed": false,
     "input": [
      "%%pep8\n",
      "# BAD\n",
      "# Aligned with 4 spaces\n",
      "foo = function(var_one, var_two,\n",
      "    var_three, var_four)"
     ],
     "language": "python",
     "metadata": {
      "slideshow": {
       "slide_type": "subslide"
      }
     },
     "outputs": [
      {
       "output_type": "stream",
       "stream": "stderr",
       "text": [
        "INFO:pep8:/tmp/tmp1AI7Og:4:5: E128 continuation line under-indented for visual indent\n"
       ]
      }
     ],
     "prompt_number": 8
    },
    {
     "cell_type": "code",
     "collapsed": false,
     "input": [
      "%%pep8\n",
      "# GOOD\n",
      "# Aligned with opening parenthesis\n",
      "foo = function(var_one, var_two,\n",
      "               var_three, var_four)"
     ],
     "language": "python",
     "metadata": {
      "slideshow": {
       "slide_type": "subslide"
      }
     },
     "outputs": [],
     "prompt_number": 12
    },
    {
     "cell_type": "code",
     "collapsed": false,
     "input": [
      "%%pep8\n",
      "# BAD\n",
      "# Longer than 79 chars\n",
      "# possible division error\n",
      "import math\n",
      "\n",
      "minkowski_distance_3d_from_origin = lambda x, y, z, p: math.pow(math.pow(x, p) + math.pow(x, p) + math.pow(x, p), 1/p)\n"
     ],
     "language": "python",
     "metadata": {
      "slideshow": {
       "slide_type": "subslide"
      }
     },
     "outputs": [
      {
       "output_type": "stream",
       "stream": "stderr",
       "text": [
        "INFO:pep8:/tmp/tmpteDqM3:6:80: E501 line too long (118 > 79 characters)\n"
       ]
      }
     ],
     "prompt_number": 13
    },
    {
     "cell_type": "code",
     "collapsed": false,
     "input": [
      "%%pep8\n",
      "# GOOD\n",
      "# Shorter than 79\n",
      "# Use scipy, numpy\n",
      "import scipy.spatial\n",
      "import numpy as np\n",
      "\n",
      "\n",
      "def minkowski_distance_3d_from_origin(x, y, z, p):\n",
      "    \"\"\"Compute the minkowski distance for a point\n",
      "    in 3d space from the origin\"\"\"\n",
      "    u = np.array([x, y, z])\n",
      "    v = np.zeros_like(u)\n",
      "    distance = scipy.spatial.distance.minkowski(u, v, p)"
     ],
     "language": "python",
     "metadata": {
      "slideshow": {
       "slide_type": "subslide"
      }
     },
     "outputs": [],
     "prompt_number": 14
    },
    {
     "cell_type": "code",
     "collapsed": false,
     "input": [
      "%%pep8 \n",
      "# BAD\n",
      "import numpy as np\n",
      "class Calculator:\n",
      "    def Plus(self, x, y):\n",
      "        return np.sum(x, y)\n",
      "    def Minus(self, x, y):\n",
      "        return np.sum(x, -y)\n"
     ],
     "language": "python",
     "metadata": {
      "slideshow": {
       "slide_type": "subslide"
      }
     },
     "outputs": [
      {
       "output_type": "stream",
       "stream": "stderr",
       "text": [
        "INFO:pep8:/tmp/tmpNIdcSG:3:1: E302 expected 2 blank lines, found 0\n"
       ]
      },
      {
       "output_type": "stream",
       "stream": "stderr",
       "text": [
        "INFO:pep8:/tmp/tmpNIdcSG:6:5: E301 expected 1 blank line, found 0\n"
       ]
      }
     ],
     "prompt_number": 16
    },
    {
     "cell_type": "code",
     "collapsed": false,
     "input": [
      "%%pep8 \n",
      "# GOOD\n",
      "import numpy as np\n",
      "\n",
      "\n",
      "class Calculator:\n",
      "    def add(self, x, y):\n",
      "        return x + y\n",
      "\n",
      "    def subtract(self, x, y):\n",
      "        return x - y\n"
     ],
     "language": "python",
     "metadata": {
      "slideshow": {
       "slide_type": "subslide"
      }
     },
     "outputs": [],
     "prompt_number": 17
    },
    {
     "cell_type": "code",
     "collapsed": false,
     "input": [
      "%%pep8 \n",
      "# BAD\n",
      "import numpy, scipy, io, os"
     ],
     "language": "python",
     "metadata": {
      "slideshow": {
       "slide_type": "subslide"
      }
     },
     "outputs": [
      {
       "output_type": "stream",
       "stream": "stderr",
       "text": [
        "INFO:pep8:/tmp/tmpTbvVCW:2:13: E401 multiple imports on one line\n"
       ]
      }
     ],
     "prompt_number": 18
    },
    {
     "cell_type": "code",
     "collapsed": false,
     "input": [
      "%%pep8 \n",
      "# GOOD\n",
      "# python packages first\n",
      "import os\n",
      "import io\n",
      "\n",
      "# extra packages\n",
      "import numpy\n",
      "import scipy\n",
      "\n",
      "# import own packages"
     ],
     "language": "python",
     "metadata": {
      "slideshow": {
       "slide_type": "subslide"
      }
     },
     "outputs": [],
     "prompt_number": 20
    },
    {
     "cell_type": "code",
     "collapsed": false,
     "input": [
      "%%pep8 \n",
      "# GOOD\n",
      "from ctypes import (c_void_p, c_int,\n",
      "                    c_double, c_char_p,\n",
      "                    cdll, windll)"
     ],
     "language": "python",
     "metadata": {
      "slideshow": {
       "slide_type": "subslide"
      }
     },
     "outputs": [],
     "prompt_number": 21
    },
    {
     "cell_type": "code",
     "collapsed": false,
     "input": [
      "%%pep8 \n",
      "# BAD\n",
      "a=x+1\n",
      "   a = x + 1\n",
      "   b = a\n",
      "name = c"
     ],
     "language": "python",
     "metadata": {
      "slideshow": {
       "slide_type": "subslide"
      }
     },
     "outputs": [
      {
       "output_type": "stream",
       "stream": "stderr",
       "text": [
        "INFO:pep8:/tmp/tmp77YYPu:2:2: E225 missing whitespace around operator\n"
       ]
      },
      {
       "output_type": "stream",
       "stream": "stderr",
       "text": [
        "INFO:pep8:/tmp/tmp77YYPu:3:4: E111 indentation is not a multiple of four\n"
       ]
      },
      {
       "output_type": "stream",
       "stream": "stderr",
       "text": [
        "INFO:pep8:/tmp/tmp77YYPu:3:4: E113 unexpected indentation\n"
       ]
      },
      {
       "output_type": "stream",
       "stream": "stderr",
       "text": [
        "INFO:pep8:/tmp/tmp77YYPu:4:4: E111 indentation is not a multiple of four\n"
       ]
      }
     ],
     "prompt_number": 9
    },
    {
     "cell_type": "code",
     "collapsed": false,
     "input": [
      "%%pep8 \n",
      "# GOOD\n",
      "a = x + 1\n",
      "a = x + 1\n",
      "b = a\n",
      "name = c"
     ],
     "language": "python",
     "metadata": {
      "slideshow": {
       "slide_type": "subslide"
      }
     },
     "outputs": [],
     "prompt_number": 27
    },
    {
     "cell_type": "code",
     "collapsed": false,
     "input": [
      "%%pep8 \n",
      "# BAD\n",
      "def complex(real, imag = 0.0):\n",
      "    return magic(r = real, i = imag)"
     ],
     "language": "python",
     "metadata": {
      "slideshow": {
       "slide_type": "subslide"
      }
     },
     "outputs": [
      {
       "output_type": "stream",
       "stream": "stderr",
       "text": [
        "INFO:pep8:/tmp/tmpRFJTmL:2:23: E251 unexpected spaces around keyword / parameter equals\n"
       ]
      },
      {
       "output_type": "stream",
       "stream": "stderr",
       "text": [
        "INFO:pep8:/tmp/tmpRFJTmL:2:25: E251 unexpected spaces around keyword / parameter equals\n"
       ]
      },
      {
       "output_type": "stream",
       "stream": "stderr",
       "text": [
        "INFO:pep8:/tmp/tmpRFJTmL:3:19: E251 unexpected spaces around keyword / parameter equals\n"
       ]
      },
      {
       "output_type": "stream",
       "stream": "stderr",
       "text": [
        "INFO:pep8:/tmp/tmpRFJTmL:3:21: E251 unexpected spaces around keyword / parameter equals\n"
       ]
      },
      {
       "output_type": "stream",
       "stream": "stderr",
       "text": [
        "INFO:pep8:/tmp/tmpRFJTmL:3:29: E251 unexpected spaces around keyword / parameter equals\n"
       ]
      },
      {
       "output_type": "stream",
       "stream": "stderr",
       "text": [
        "INFO:pep8:/tmp/tmpRFJTmL:3:31: E251 unexpected spaces around keyword / parameter equals\n"
       ]
      }
     ],
     "prompt_number": 28
    },
    {
     "cell_type": "code",
     "collapsed": false,
     "input": [
      "%%pep8 \n",
      "# GOOD\n",
      "def complex(real, imag=0.0):\n",
      "    return magic(r=real, i=imag)"
     ],
     "language": "python",
     "metadata": {
      "slideshow": {
       "slide_type": "subslide"
      }
     },
     "outputs": [],
     "prompt_number": 29
    },
    {
     "cell_type": "code",
     "collapsed": false,
     "input": [
      "%%pep8 \n",
      "# BAD\n",
      "a, b, c = 0, 0, 0\n",
      "a += 1; b += 2; c += 3"
     ],
     "language": "python",
     "metadata": {
      "slideshow": {
       "slide_type": "subslide"
      }
     },
     "outputs": [
      {
       "output_type": "stream",
       "stream": "stderr",
       "text": [
        "INFO:pep8:/tmp/tmptpubcj:3:7: E702 multiple statements on one line (semicolon)\n"
       ]
      },
      {
       "output_type": "stream",
       "stream": "stderr",
       "text": [
        "INFO:pep8:/tmp/tmptpubcj:3:15: E702 multiple statements on one line (semicolon)\n"
       ]
      }
     ],
     "prompt_number": 30
    },
    {
     "cell_type": "code",
     "collapsed": false,
     "input": [
      "%%pep8 \n",
      "# GOOD\n",
      "a = b = c = 0\n",
      "a += 1\n",
      "b += 2\n",
      "c += 3"
     ],
     "language": "python",
     "metadata": {
      "slideshow": {
       "slide_type": "subslide"
      }
     },
     "outputs": [],
     "prompt_number": 31
    },
    {
     "cell_type": "code",
     "collapsed": false,
     "input": [
      "%%pep8 \n",
      "# BAD\n",
      "def jarekenmaar():\n",
      "    # This comment is in Dutch\n",
      "    # deze functie rekent, je weet toch\n",
      "    # dus reken maar uit.\n",
      "    1 + 1"
     ],
     "language": "python",
     "metadata": {
      "slideshow": {
       "slide_type": "subslide"
      }
     },
     "outputs": [],
     "prompt_number": 32
    },
    {
     "cell_type": "code",
     "collapsed": false,
     "input": [
      "%%pep8 \n",
      "# GOOD\n",
      "# English only\n",
      "def calculate():\n",
      "    # do an essential calculation\n",
      "    1 + 1\n",
      "    "
     ],
     "language": "python",
     "metadata": {
      "slideshow": {
       "slide_type": "subslide"
      }
     },
     "outputs": [],
     "prompt_number": 32
    }
   ],
   "metadata": {}
  }
 ]
}