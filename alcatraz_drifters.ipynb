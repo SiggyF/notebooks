{
 "cells": [
  {
   "cell_type": "code",
   "execution_count": 1,
   "metadata": {},
   "outputs": [
    {
     "name": "stderr",
     "output_type": "stream",
     "text": [
      "/Users/baart_f/.virtualenvs/main/lib/python3.5/site-packages/matplotlib/__init__.py:913: UserWarning: axes.color_cycle is deprecated and replaced with axes.prop_cycle; please use the latter.\n",
      "  warnings.warn(self.msg_depr % (key, alt_key))\n"
     ]
    }
   ],
   "source": [
    "import requests\n",
    "import toolz\n",
    "import dateutil.parser\n",
    "import datetime\n",
    "import pandas\n",
    "import logging"
   ]
  },
  {
   "cell_type": "code",
   "execution_count": 2,
   "metadata": {
    "collapsed": true
   },
   "outputs": [],
   "source": [
    "resp = requests.get('http://rolfhut.nl/DataFromParticleCloud/getGeoJSONFromMYSQLalt.php')"
   ]
  },
  {
   "cell_type": "code",
   "execution_count": 3,
   "metadata": {},
   "outputs": [],
   "source": [
    "data = resp.json()"
   ]
  },
  {
   "cell_type": "code",
   "execution_count": 4,
   "metadata": {},
   "outputs": [
    {
     "data": {
      "text/plain": [
       "8434"
      ]
     },
     "execution_count": 4,
     "metadata": {},
     "output_type": "execute_result"
    }
   ],
   "source": [
    "len(data['features'])"
   ]
  },
  {
   "cell_type": "code",
   "execution_count": 5,
   "metadata": {},
   "outputs": [],
   "source": [
    "def wtf2date(wtf):\n",
    "    \"\"\"convert a timestamp in a weird format to a date\"\"\"\n",
    "    timestamp = wtf\n",
    "    timepart = timestamp[6:].zfill(6)\n",
    "    datestr = \"{year}-{month}-{day} {hour}:{minute}:{second}\".format(\n",
    "        year='20' + timestamp[4:6],\n",
    "        month=timestamp[2:4],\n",
    "        day=timestamp[:2],\n",
    "        hour=timepart[:2],\n",
    "        minute=timepart[2:4],\n",
    "        second=timepart[4:6]\n",
    "    )  \n",
    "    try:\n",
    "        date = dateutil.parser.parse(datestr)\n",
    "    except:\n",
    "        logging.exception(\"failed: %s\", timestamp)\n",
    "        raise\n",
    "    return date"
   ]
  },
  {
   "cell_type": "code",
   "execution_count": 6,
   "metadata": {},
   "outputs": [],
   "source": [
    "records = []\n",
    "for feature in data['features']:\n",
    "    # skip old dates\n",
    "    if len(feature['properties']['timeStamp']) == 10:\n",
    "        logging.debug(\"skipping: %s\", feature['properties']['timeStamp'])\n",
    "        continue\n",
    "    # skip missing location\n",
    "    if feature['geometry']['coordinates'][1] == -1:\n",
    "        logging.debug(\"skipping: %s\", feature['geometry'])\n",
    "        continue\n",
    "    record = dict(\n",
    "        device=feature['properties']['deviceID'], \n",
    "        group=feature['properties']['group'],\n",
    "        time=wtf2date(feature['properties']['timeStamp']),\n",
    "        lat=feature['geometry']['coordinates'][1],\n",
    "        lon=feature['geometry']['coordinates'][0],\n",
    "        name=feature['properties']['name']\n",
    "    )\n",
    "    records.append(record)\n",
    "    \n"
   ]
  },
  {
   "cell_type": "code",
   "execution_count": 7,
   "metadata": {},
   "outputs": [],
   "source": [
    "df = pandas.DataFrame.from_records(records)\n",
    "df.to_csv('alcatraz_drifters.csv')"
   ]
  },
  {
   "cell_type": "code",
   "execution_count": null,
   "metadata": {
    "collapsed": true
   },
   "outputs": [],
   "source": []
  }
 ],
 "metadata": {
  "kernelspec": {
   "display_name": "Python 3",
   "language": "python",
   "name": "python3"
  },
  "language_info": {
   "codemirror_mode": {
    "name": "ipython",
    "version": 3
   },
   "file_extension": ".py",
   "mimetype": "text/x-python",
   "name": "python",
   "nbconvert_exporter": "python",
   "pygments_lexer": "ipython3",
   "version": "3.5.3"
  }
 },
 "nbformat": 4,
 "nbformat_minor": 2
}
