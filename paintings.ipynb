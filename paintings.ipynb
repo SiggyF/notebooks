{
 "cells": [
  {
   "cell_type": "code",
   "execution_count": 7,
   "metadata": {
    "collapsed": false
   },
   "outputs": [],
   "source": [
    "import datetime\n",
    "import logging\n",
    "import os.path\n",
    "import glob\n",
    "import os.path\n",
    "import pathlib\n",
    "import concurrent.futures\n",
    "\n",
    "\n",
    "import numpy as np\n",
    "import scipy.stats\n",
    "import pandas # for tables\n",
    "import pydash # for functional stuff\n",
    "import dateutil.parser # garbage date/times\n",
    "import requests # urls\n",
    "import matplotlib.pyplot as plt # plotting \n",
    "import matplotlib.dates # date axes\n",
    "import mako.template # html formatting\n",
    "import IPython.display # notebook\n",
    "import skimage.io\n",
    "import skimage.transform\n",
    "import ssl\n",
    "import io\n",
    "from PIL import Image\n",
    "import mako.template\n",
    "import IPython.display\n",
    "\n",
    "\n",
    "%matplotlib inline\n",
    "\n",
    "# replace default logging\n",
    "#del logging.root.handlers[0]\n",
    "#logging.basicConfig(level=logging.INFO)"
   ]
  },
  {
   "cell_type": "code",
   "execution_count": 8,
   "metadata": {
    "collapsed": true
   },
   "outputs": [],
   "source": [
    "# Create a sparql query to get all the oil paintings from the wikipedia\n",
    "query = \"\"\"\n",
    "\n",
    "SELECT ?item ?itemLabel ?cid ?_image ?_inception ?_creator ?_creatorLabel WHERE {\n",
    "  # select all paintings\n",
    "  ?item wdt:P31 wd:Q3305213.\n",
    "  # made with oil\n",
    "  ?item wdt:P186 wd:Q296955.\n",
    "  # written in english\n",
    "  SERVICE wikibase:label { bd:serviceParam wikibase:language \"en\". }\n",
    "  # store the image\n",
    "  OPTIONAL { ?item wdt:P18 ?_image. }\n",
    "  # store the creation date\n",
    "  OPTIONAL { ?item wdt:P571 ?_inception. }\n",
    "  # store the creator\n",
    "  OPTIONAL { ?item wdt:P170 ?_creator. }\n",
    "}\n",
    "\"\"\""
   ]
  },
  {
   "cell_type": "code",
   "execution_count": 9,
   "metadata": {
    "collapsed": false
   },
   "outputs": [],
   "source": [
    "url = \"https://query.wikidata.org/bigdata/namespace/wdq/sparql\"\n",
    "resp = requests.get(url, \n",
    "                    params=dict(query=query), \n",
    "                    headers={'Accept': 'application/json'})\n",
    "data = resp.json()"
   ]
  },
  {
   "cell_type": "code",
   "execution_count": 10,
   "metadata": {
    "collapsed": false
   },
   "outputs": [],
   "source": [
    "# take a random sample\n",
    "sample = False\n",
    "if sample:\n",
    "    data['results']['bindings'] = np.random.choice(data['results']['bindings'], replace=False, size=sample)\n",
    "    len(data['results']['bindings'])"
   ]
  },
  {
   "cell_type": "code",
   "execution_count": null,
   "metadata": {
    "collapsed": false
   },
   "outputs": [],
   "source": []
  },
  {
   "cell_type": "code",
   "execution_count": 11,
   "metadata": {
    "collapsed": false
   },
   "outputs": [],
   "source": [
    "# parse the dates\n",
    "for row in data['results']['bindings']:\n",
    "    if '_inception' in row and row['_inception']['type'] == 'literal':\n",
    "        try:\n",
    "            date = row['_inception']['value']\n",
    "            row['date'] = dateutil.parser.parse(date)\n",
    "        except ValueError as e:\n",
    "            logging.info(\"not parsed %s\\n%s\", date, row)\n",
    "    if pydash.has(row, 'item.value'):\n",
    "        entity = row['item']['value'].split(\"/\")[-1]\n",
    "        row['entity'] = entity\n",
    "            "
   ]
  },
  {
   "cell_type": "code",
   "execution_count": 12,
   "metadata": {
    "collapsed": true
   },
   "outputs": [],
   "source": [
    "# analyze all data\n",
    "dates = []\n",
    "for row in data['results']['bindings']:\n",
    "    if 'date' in row:\n",
    "        dates.append(\n",
    "            matplotlib.dates.date2num(row['date'])\n",
    "        )"
   ]
  },
  {
   "cell_type": "code",
   "execution_count": 15,
   "metadata": {
    "collapsed": false
   },
   "outputs": [
    {
     "data": {
      "image/png": "[encoded data removed]",
      "text/plain": [
       "<matplotlib.figure.Figure at 0x11d5ed438>"
      ]
     },
     "metadata": {},
     "output_type": "display_data"
    }
   ],
   "source": [
    "import seaborn\n",
    "ax = seaborn.distplot(dates)\n",
    "start_date = matplotlib.dates.date2num(datetime.datetime(1300, 1, 1))\n",
    "end_date = matplotlib.dates.date2num(datetime.datetime(2050, 1, 1))\n",
    "ax.set_xlim(start_date, end_date)\n",
    "ax.xaxis_date()"
   ]
  },
  {
   "cell_type": "code",
   "execution_count": 16,
   "metadata": {
    "collapsed": false
   },
   "outputs": [],
   "source": [
    "rows = []\n",
    "for row in data['results']['bindings']:\n",
    "    creator = pydash.get(row, '_creatorLabel.value')\n",
    "    name = pydash.get(row, 'itemLabel.value')\n",
    "\n",
    "    datestr = pydash.get(row, '_inception.value')\n",
    "    datetype = pydash.get(row, '_inception.type')\n",
    "    img = pydash.get(row, '_image.value')\n",
    "    entity = pydash.get(row, 'entity')\n",
    "    if datestr and datetype == 'literal':\n",
    "        try:\n",
    "            date = dateutil.parser.parse(datestr)\n",
    "        except:\n",
    "            logging.exception(\"error %s\\n%s\", datestr, row)\n",
    "    else:\n",
    "        date = None\n",
    "    rows.append(\n",
    "        dict(\n",
    "            creator=creator,\n",
    "            name=name,\n",
    "            date=date,\n",
    "            img=img,\n",
    "            entity=entity\n",
    "        )\n",
    "    )"
   ]
  },
  {
   "cell_type": "code",
   "execution_count": 17,
   "metadata": {
    "collapsed": false
   },
   "outputs": [
    {
     "data": {
      "text/plain": [
       "18035"
      ]
     },
     "execution_count": 17,
     "metadata": {},
     "output_type": "execute_result"
    }
   ],
   "source": [
    "df = pandas.DataFrame(data=rows)\n",
    "df.ix[df.creator == 'anonymous'] = None\n",
    "# drop missings and duplicates\n",
    "df = df.dropna().drop_duplicates()\n",
    "len(df)"
   ]
  },
  {
   "cell_type": "code",
   "execution_count": 18,
   "metadata": {
    "collapsed": false
   },
   "outputs": [
    {
     "data": {
      "text/html": [
       "<div>\n",
       "<table border=\"1\" class=\"dataframe\">\n",
       "  <thead>\n",
       "    <tr style=\"text-align: right;\">\n",
       "      <th>col_0</th>\n",
       "      <th>creator</th>\n",
       "    </tr>\n",
       "    <tr>\n",
       "      <th>creator</th>\n",
       "      <th></th>\n",
       "    </tr>\n",
       "  </thead>\n",
       "  <tbody>\n",
       "    <tr>\n",
       "      <th>Rembrandt</th>\n",
       "      <td>615</td>\n",
       "    </tr>\n",
       "    <tr>\n",
       "      <th>Camille Pissarro</th>\n",
       "      <td>406</td>\n",
       "    </tr>\n",
       "    <tr>\n",
       "      <th>Dalasito</th>\n",
       "      <td>331</td>\n",
       "    </tr>\n",
       "    <tr>\n",
       "      <th>Albert Bierstadt</th>\n",
       "      <td>309</td>\n",
       "    </tr>\n",
       "    <tr>\n",
       "      <th>Jacob van Ruisdael</th>\n",
       "      <td>301</td>\n",
       "    </tr>\n",
       "  </tbody>\n",
       "</table>\n",
       "</div>"
      ],
      "text/plain": [
       "col_0               creator\n",
       "creator                    \n",
       "Rembrandt               615\n",
       "Camille Pissarro        406\n",
       "Dalasito                331\n",
       "Albert Bierstadt        309\n",
       "Jacob van Ruisdael      301"
      ]
     },
     "execution_count": 18,
     "metadata": {},
     "output_type": "execute_result"
    }
   ],
   "source": [
    "table = pandas.crosstab(df.creator, columns=['creator'])\n",
    "table.sort_values(by=\"creator\", ascending=False).head()"
   ]
  },
  {
   "cell_type": "code",
   "execution_count": 19,
   "metadata": {
    "collapsed": false
   },
   "outputs": [],
   "source": [
    "df.set_index('entity').head()\n",
    "df.to_json('paintings.json')"
   ]
  },
  {
   "cell_type": "code",
   "execution_count": 20,
   "metadata": {
    "collapsed": false
   },
   "outputs": [
    {
     "name": "stdout",
     "output_type": "stream",
     "text": [
      "."
     ]
    }
   ],
   "source": [
    "def save_img(row):\n",
    "    # get url\n",
    "    url = row['img']\n",
    "    # lookup id\n",
    "    entity = row['entity'] \n",
    "    filename = \"paintings/%s.jpg\" % (entity, )\n",
    "    if os.path.exists(filename):\n",
    "        print('.', end='', flush=True)\n",
    "        return\n",
    "    # download\n",
    "    print(url)\n",
    "    try:\n",
    "        resp = requests.get(url, timeout=5)\n",
    "    except requests.exceptions.Timeout as e:\n",
    "        print('t', end='', flush=True)\n",
    "        return\n",
    "    print(resp, entity)\n",
    "    if not resp.status_code == 200:\n",
    "        print('x', end='', flush=True)\n",
    "        return\n",
    "    # get the bytes\n",
    "    content = io.BytesIO(resp.content)\n",
    "    \n",
    "    # open as image\n",
    "    try:\n",
    "        im = Image.open(content)\n",
    "    except:\n",
    "        print('e', end='', flush=True)\n",
    "        return\n",
    "    # scale down\n",
    "    N = 256\n",
    "    im.thumbnail((N, N))\n",
    "    # save\n",
    "    im.save(filename)\n",
    "    print('V', end='', flush=True)\n",
    "row = df.iloc[0].to_dict()\n",
    "save_img(row)"
   ]
  },
  {
   "cell_type": "code",
   "execution_count": null,
   "metadata": {
    "collapsed": false
   },
   "outputs": [],
   "source": [
    "\n",
    "# work\n",
    "rows = [row.to_dict() for (i, row) in df.iterrows()]\n",
    "# execute it\n",
    "\n",
    "for row in rows:\n",
    "    try:\n",
    "        save_img(row)\n",
    "    except:\n",
    "        logging.exception(\"saving failed\")\n",
    "#with concurrent.futures.ProcessPoolExecutor(max_workers=4) as executor:\n",
    "#    executor.map(save_img, rows)"
   ]
  },
  {
   "cell_type": "code",
   "execution_count": 21,
   "metadata": {
    "collapsed": false
   },
   "outputs": [
    {
     "ename": "FileNotFoundError",
     "evalue": "[Errno 2] No such file or directory: 'highres/urls.txt'",
     "output_type": "error",
     "traceback": [
      "\u001b[0;31m---------------------------------------------------------------------------\u001b[0m",
      "\u001b[0;31mFileNotFoundError\u001b[0m                         Traceback (most recent call last)",
      "\u001b[0;32m<ipython-input-21-9fdb9ef03d40>\u001b[0m in \u001b[0;36m<module>\u001b[0;34m()\u001b[0m\n\u001b[1;32m      1\u001b[0m \u001b[0mimgs\u001b[0m \u001b[0;34m=\u001b[0m \u001b[0mdf\u001b[0m\u001b[0;34m.\u001b[0m\u001b[0mimg\u001b[0m\u001b[0;34m\u001b[0m\u001b[0m\n\u001b[0;32m----> 2\u001b[0;31m \u001b[0mimgs\u001b[0m\u001b[0;34m.\u001b[0m\u001b[0mto_csv\u001b[0m\u001b[0;34m(\u001b[0m\u001b[0;34m'highres/urls.txt'\u001b[0m\u001b[0;34m,\u001b[0m \u001b[0mindex\u001b[0m\u001b[0;34m=\u001b[0m\u001b[0;32mFalse\u001b[0m\u001b[0;34m)\u001b[0m\u001b[0;34m\u001b[0m\u001b[0m\n\u001b[0m",
      "\u001b[0;32m/Users/fedor/.virtualenvs/py35/lib/python3.5/site-packages/pandas/core/series.py\u001b[0m in \u001b[0;36mto_csv\u001b[0;34m(self, path, index, sep, na_rep, float_format, header, index_label, mode, nanRep, encoding, date_format, decimal)\u001b[0m\n\u001b[1;32m   2545\u001b[0m                            \u001b[0mindex_label\u001b[0m\u001b[0;34m=\u001b[0m\u001b[0mindex_label\u001b[0m\u001b[0;34m,\u001b[0m \u001b[0mmode\u001b[0m\u001b[0;34m=\u001b[0m\u001b[0mmode\u001b[0m\u001b[0;34m,\u001b[0m \u001b[0mnanRep\u001b[0m\u001b[0;34m=\u001b[0m\u001b[0mnanRep\u001b[0m\u001b[0;34m,\u001b[0m\u001b[0;34m\u001b[0m\u001b[0m\n\u001b[1;32m   2546\u001b[0m                            \u001b[0mencoding\u001b[0m\u001b[0;34m=\u001b[0m\u001b[0mencoding\u001b[0m\u001b[0;34m,\u001b[0m \u001b[0mdate_format\u001b[0m\u001b[0;34m=\u001b[0m\u001b[0mdate_format\u001b[0m\u001b[0;34m,\u001b[0m\u001b[0;34m\u001b[0m\u001b[0m\n\u001b[0;32m-> 2547\u001b[0;31m                            decimal=decimal)\n\u001b[0m\u001b[1;32m   2548\u001b[0m         \u001b[0;32mif\u001b[0m \u001b[0mpath\u001b[0m \u001b[0;32mis\u001b[0m \u001b[0;32mNone\u001b[0m\u001b[0;34m:\u001b[0m\u001b[0;34m\u001b[0m\u001b[0m\n\u001b[1;32m   2549\u001b[0m             \u001b[0;32mreturn\u001b[0m \u001b[0mresult\u001b[0m\u001b[0;34m\u001b[0m\u001b[0m\n",
      "\u001b[0;32m/Users/fedor/.virtualenvs/py35/lib/python3.5/site-packages/pandas/core/frame.py\u001b[0m in \u001b[0;36mto_csv\u001b[0;34m(self, path_or_buf, sep, na_rep, float_format, columns, header, index, index_label, mode, encoding, compression, quoting, quotechar, line_terminator, chunksize, tupleize_cols, date_format, doublequote, escapechar, decimal, **kwds)\u001b[0m\n\u001b[1;32m   1342\u001b[0m                                      \u001b[0mdoublequote\u001b[0m\u001b[0;34m=\u001b[0m\u001b[0mdoublequote\u001b[0m\u001b[0;34m,\u001b[0m\u001b[0;34m\u001b[0m\u001b[0m\n\u001b[1;32m   1343\u001b[0m                                      escapechar=escapechar, decimal=decimal)\n\u001b[0;32m-> 1344\u001b[0;31m         \u001b[0mformatter\u001b[0m\u001b[0;34m.\u001b[0m\u001b[0msave\u001b[0m\u001b[0;34m(\u001b[0m\u001b[0;34m)\u001b[0m\u001b[0;34m\u001b[0m\u001b[0m\n\u001b[0m\u001b[1;32m   1345\u001b[0m \u001b[0;34m\u001b[0m\u001b[0m\n\u001b[1;32m   1346\u001b[0m         \u001b[0;32mif\u001b[0m \u001b[0mpath_or_buf\u001b[0m \u001b[0;32mis\u001b[0m \u001b[0;32mNone\u001b[0m\u001b[0;34m:\u001b[0m\u001b[0;34m\u001b[0m\u001b[0m\n",
      "\u001b[0;32m/Users/fedor/.virtualenvs/py35/lib/python3.5/site-packages/pandas/formats/format.py\u001b[0m in \u001b[0;36msave\u001b[0;34m(self)\u001b[0m\n\u001b[1;32m   1524\u001b[0m             f = _get_handle(self.path_or_buf, self.mode,\n\u001b[1;32m   1525\u001b[0m                             \u001b[0mencoding\u001b[0m\u001b[0;34m=\u001b[0m\u001b[0mself\u001b[0m\u001b[0;34m.\u001b[0m\u001b[0mencoding\u001b[0m\u001b[0;34m,\u001b[0m\u001b[0;34m\u001b[0m\u001b[0m\n\u001b[0;32m-> 1526\u001b[0;31m                             compression=self.compression)\n\u001b[0m\u001b[1;32m   1527\u001b[0m             \u001b[0mclose\u001b[0m \u001b[0;34m=\u001b[0m \u001b[0;32mTrue\u001b[0m\u001b[0;34m\u001b[0m\u001b[0m\n\u001b[1;32m   1528\u001b[0m \u001b[0;34m\u001b[0m\u001b[0m\n",
      "\u001b[0;32m/Users/fedor/.virtualenvs/py35/lib/python3.5/site-packages/pandas/io/common.py\u001b[0m in \u001b[0;36m_get_handle\u001b[0;34m(path, mode, encoding, compression)\u001b[0m\n\u001b[1;32m    422\u001b[0m                 \u001b[0mf\u001b[0m \u001b[0;34m=\u001b[0m \u001b[0mopen\u001b[0m\u001b[0;34m(\u001b[0m\u001b[0mpath\u001b[0m\u001b[0;34m,\u001b[0m \u001b[0mmode\u001b[0m\u001b[0;34m,\u001b[0m \u001b[0mencoding\u001b[0m\u001b[0;34m=\u001b[0m\u001b[0mencoding\u001b[0m\u001b[0;34m)\u001b[0m\u001b[0;34m\u001b[0m\u001b[0m\n\u001b[1;32m    423\u001b[0m             \u001b[0;32melse\u001b[0m\u001b[0;34m:\u001b[0m\u001b[0;34m\u001b[0m\u001b[0m\n\u001b[0;32m--> 424\u001b[0;31m                 \u001b[0mf\u001b[0m \u001b[0;34m=\u001b[0m \u001b[0mopen\u001b[0m\u001b[0;34m(\u001b[0m\u001b[0mpath\u001b[0m\u001b[0;34m,\u001b[0m \u001b[0mmode\u001b[0m\u001b[0;34m,\u001b[0m \u001b[0merrors\u001b[0m\u001b[0;34m=\u001b[0m\u001b[0;34m'replace'\u001b[0m\u001b[0;34m)\u001b[0m\u001b[0;34m\u001b[0m\u001b[0m\n\u001b[0m\u001b[1;32m    425\u001b[0m         \u001b[0;32melse\u001b[0m\u001b[0;34m:\u001b[0m\u001b[0;34m\u001b[0m\u001b[0m\n\u001b[1;32m    426\u001b[0m             \u001b[0mf\u001b[0m \u001b[0;34m=\u001b[0m \u001b[0mopen\u001b[0m\u001b[0;34m(\u001b[0m\u001b[0mpath\u001b[0m\u001b[0;34m,\u001b[0m \u001b[0mmode\u001b[0m\u001b[0;34m)\u001b[0m\u001b[0;34m\u001b[0m\u001b[0m\n",
      "\u001b[0;31mFileNotFoundError\u001b[0m: [Errno 2] No such file or directory: 'highres/urls.txt'"
     ]
    }
   ],
   "source": [
    "imgs = df.img\n",
    "imgs.to_csv('highres/urls.txt', index=False)"
   ]
  },
  {
   "cell_type": "code",
   "execution_count": 22,
   "metadata": {
    "collapsed": true
   },
   "outputs": [],
   "source": [
    "import requests"
   ]
  },
  {
   "cell_type": "code",
   "execution_count": 23,
   "metadata": {
    "collapsed": false
   },
   "outputs": [
    {
     "data": {
      "text/plain": [
       "{'Content-Length': '11855275', 'X-Trans-Id': 'tx6f2a3cc108224bd39c903-005762e90d', 'Via': '1.1 varnish, 1.1 varnish, 1.1 varnish', 'X-Object-Meta-Sha1base36': '3abqs3k27qregir208rex1r8bkp9lv6', 'X-Client-IP': '2001:984:3f61:1:5033:ebea:5f8a:6673', 'X-Timestamp': '1380877054.40181', 'Strict-Transport-Security': 'max-age=31536000; includeSubDomains; preload', 'Etag': '56c06706ac03a334b31c2f0ec0d4d9ea', 'Connection': 'keep-alive', 'Age': '6135', 'Access-Control-Expose-Headers': 'Age, Date, Content-Length, Content-Range, X-Content-Duration, X-Cache, X-Varnish', 'Last-Modified': 'Fri, 04 Oct 2013 08:57:35 GMT', 'Accept-Ranges': 'bytes', 'X-Varnish': '311053777 289299053, 563854963, 584338549', 'Access-Control-Allow-Origin': '*', 'Timing-Allow-Origin': '*', 'Content-Type': 'image/jpeg', 'X-Analytics': 'https=1', 'Date': 'Thu, 16 Jun 2016 19:41:55 GMT', 'X-Cache': 'cp1049 hit/1, cp3037 miss, cp3037 miss'}"
      ]
     },
     "execution_count": 23,
     "metadata": {},
     "output_type": "execute_result"
    }
   ],
   "source": [
    "resp = requests.head(imgs.ix[0], allow_redirects=True)\n",
    "resp.headers"
   ]
  },
  {
   "cell_type": "code",
   "execution_count": 66,
   "metadata": {
    "collapsed": false
   },
   "outputs": [],
   "source": [
    "import urllib.parse\n",
    "\n",
    "# get a token from: /w/api.php?action=query&format=json&meta=tokens&type=csrf%7Clogin\n",
    "\n",
    "def url2name(url):\n",
    "    return urllib.parse.unquote(url.split(':')[-1].replace('FilePath/', 'File:'))\n",
    "names = \"|\".join(imgs[:50].apply(url2name))\n",
    "url = 'https://commons.wikimedia.org/w/api.php'\n",
    "params = {\n",
    "    \"action\": \"query\",\n",
    "    \"titles\": names,\n",
    "    \"prop\": \"imageinfo\",\n",
    "    \"iiprop\": \"timestamp|thumbmime|bitdepth|dimensions|sha1|url|mediatype|metadata|extmetadata\",\n",
    "    \"format\": \"json\"\n",
    "    \n",
    "}\n",
    "headers = {'Accept': 'application/json'}\n",
    "data = requests.get(url, params=params, headers=headers, allow_redirects=True).json() #.content.decode('utf-8')"
   ]
  }
 ],
 "metadata": {
  "kernelspec": {
   "display_name": "Python 3",
   "language": "python",
   "name": "python3"
  },
  "language_info": {
   "codemirror_mode": {
    "name": "ipython",
    "version": 3
   },
   "file_extension": ".py",
   "mimetype": "text/x-python",
   "name": "python",
   "nbconvert_exporter": "python",
   "pygments_lexer": "ipython3",
   "version": "3.5.1"
  }
 },
 "nbformat": 4,
 "nbformat_minor": 0
}
