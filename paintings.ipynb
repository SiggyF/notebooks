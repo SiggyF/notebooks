{
 "cells": [
  {
   "cell_type": "code",
   "execution_count": 1,
   "metadata": {
    "collapsed": false
   },
   "outputs": [
    {
     "name": "stderr",
     "output_type": "stream",
     "text": [
      "/Users/fedor/.virtualenvs/py3/lib/python3.5/site-packages/matplotlib/__init__.py:872: UserWarning: axes.color_cycle is deprecated and replaced with axes.prop_cycle; please use the latter.\n",
      "  warnings.warn(self.msg_depr % (key, alt_key))\n"
     ]
    }
   ],
   "source": [
    "import datetime\n",
    "import logging\n",
    "\n",
    "import dateutil.parser\n",
    "import requests\n",
    "import matplotlib.pyplot as plt\n",
    "import matplotlib.dates\n",
    "%matplotlib inline\n",
    "\n",
    "# replace default logging\n",
    "del logging.root.handlers[0]\n",
    "logging.basicConfig(level=logging.INFO)"
   ]
  },
  {
   "cell_type": "code",
   "execution_count": 2,
   "metadata": {
    "collapsed": true
   },
   "outputs": [],
   "source": [
    "query = \"\"\"\n",
    "SELECT ?item ?itemLabel ?_image ?_inception ?_creator ?_creatorLabel WHERE {\n",
    "  # select all paintings\n",
    "  ?item wdt:P31 wd:Q3305213.\n",
    "  # made with oil\n",
    "  ?item wdt:P186 wd:Q296955.\n",
    "  # written in english\n",
    "  SERVICE wikibase:label { bd:serviceParam wikibase:language \"en\". }\n",
    "  # store the image\n",
    "  OPTIONAL { ?item wdt:P18 ?_image. }\n",
    "  # store the creation date\n",
    "  OPTIONAL { ?item wdt:P571 ?_inception. }\n",
    "  # store the creator\n",
    "  OPTIONAL { ?item wdt:P170 ?_creator. }\n",
    "}\n",
    "\"\"\""
   ]
  },
  {
   "cell_type": "code",
   "execution_count": 3,
   "metadata": {
    "collapsed": false
   },
   "outputs": [
    {
     "name": "stderr",
     "output_type": "stream",
     "text": [
      "INFO:requests.packages.urllib3.connectionpool:Starting new HTTPS connection (1): query.wikidata.org\n"
     ]
    }
   ],
   "source": [
    "url = \"https://query.wikidata.org/bigdata/namespace/wdq/sparql\"\n",
    "resp = requests.get(url, \n",
    "                    params=dict(query=query), \n",
    "                    headers={'Accept': 'application/json'})"
   ]
  },
  {
   "cell_type": "code",
   "execution_count": 4,
   "metadata": {
    "collapsed": false
   },
   "outputs": [],
   "source": [
    "data = resp.json()"
   ]
  },
  {
   "cell_type": "code",
   "execution_count": 5,
   "metadata": {
    "collapsed": false
   },
   "outputs": [],
   "source": [
    "for row in data['results']['bindings']:\n",
    "    if '_inception' in row and row['_inception']['type'] == 'literal':\n",
    "        try:\n",
    "            date = row['_inception']['value']\n",
    "            row['date'] = dateutil.parser.parse(date)\n",
    "        except ValueError as e:\n",
    "            logging.info(\"not parsed %s\\n%s\", date, row)\n",
    "            "
   ]
  },
  {
   "cell_type": "code",
   "execution_count": 6,
   "metadata": {
    "collapsed": true
   },
   "outputs": [],
   "source": [
    "# analyze all data\n",
    "dates = []\n",
    "for row in data['results']['bindings']:\n",
    "    if 'date' in row:\n",
    "        dates.append(\n",
    "            matplotlib.dates.date2num(row['date'])\n",
    "        )"
   ]
  },
  {
   "cell_type": "code",
   "execution_count": 7,
   "metadata": {
    "collapsed": false
   },
   "outputs": [
    {
     "data": {
      "image/png": "[encoded data removed]",
      "text/plain": [
       "<matplotlib.figure.Figure at 0x11930c9b0>"
      ]
     },
     "metadata": {},
     "output_type": "display_data"
    }
   ],
   "source": [
    "fig, ax = plt.subplots()\n",
    "_ = ax.hist(dates, bins=100)\n",
    "ax.set_xlim(matplotlib.dates.date2num(datetime.datetime(1300, 1, 1)),\n",
    "            matplotlib.dates.date2num(datetime.datetime(2050, 1, 1)))\n",
    "ax.xaxis_date(tz=dateutil.tz.tzutc())\n",
    "ax.xaxis.set_major_locator(matplotlib.dates.YearLocator(100))\n"
   ]
  },
  {
   "cell_type": "code",
   "execution_count": 8,
   "metadata": {
    "collapsed": false
   },
   "outputs": [
    {
     "data": {
      "text/plain": [
       "{'_creator': {'type': 'uri',\n",
       "  'value': 'http://www.wikidata.org/entity/Q1392811'},\n",
       " '_creatorLabel': {'type': 'literal',\n",
       "  'value': 'Joaquim Sunyer',\n",
       "  'xml:lang': 'en'},\n",
       " '_inception': {'datatype': 'http://www.w3.org/2001/XMLSchema#dateTime',\n",
       "  'type': 'literal',\n",
       "  'value': '1929-01-01T00:00:00Z'},\n",
       " 'date': datetime.datetime(1929, 1, 1, 0, 0, tzinfo=tzutc()),\n",
       " 'item': {'type': 'uri', 'value': 'http://www.wikidata.org/entity/Q24195304'},\n",
       " 'itemLabel': {'type': 'literal', 'value': 'Q24195304'}}"
      ]
     },
     "execution_count": 8,
     "metadata": {},
     "output_type": "execute_result"
    }
   ],
   "source": [
    "row"
   ]
  },
  {
   "cell_type": "code",
   "execution_count": 9,
   "metadata": {
    "collapsed": true
   },
   "outputs": [],
   "source": [
    "import pydash"
   ]
  },
  {
   "cell_type": "code",
   "execution_count": 25,
   "metadata": {
    "collapsed": false
   },
   "outputs": [],
   "source": [
    "rows = []\n",
    "for row in data['results']['bindings']:\n",
    "    creator = pydash.get(row, '_creatorLabel.value')\n",
    "    name = pydash.get(row, 'itemLabel.value')\n",
    "\n",
    "    datestr = pydash.get(row, '_inception.value')\n",
    "    datetype = pydash.get(row, '_inception.type')\n",
    "    img = pydash.get(row, '_image.value')\n",
    "    if datestr and datetype == 'literal':\n",
    "        try:\n",
    "            date = dateutil.parser.parse(datestr)\n",
    "        except:\n",
    "            logging.exception(\"error %s\\n%s\", datestr, row)\n",
    "    else:\n",
    "        date = None\n",
    "    rows.append(\n",
    "        dict(\n",
    "            creator=creator,\n",
    "            name=name,\n",
    "            date=date,\n",
    "            img=img\n",
    "        )\n",
    "    )"
   ]
  },
  {
   "cell_type": "code",
   "execution_count": 78,
   "metadata": {
    "collapsed": false
   },
   "outputs": [
    {
     "data": {
      "text/plain": [
       "17689"
      ]
     },
     "execution_count": 78,
     "metadata": {},
     "output_type": "execute_result"
    }
   ],
   "source": [
    "import pandas\n",
    "df = pandas.DataFrame(data=rows)\n",
    "df.ix[df.creator == 'anonymous'] = None\n",
    "# drop missings and duplicates\n",
    "df = df.dropna().drop_duplicates()\n",
    "len(df)"
   ]
  },
  {
   "cell_type": "code",
   "execution_count": 79,
   "metadata": {
    "collapsed": false
   },
   "outputs": [
    {
     "data": {
      "text/html": [
       "<div>\n",
       "<table border=\"1\" class=\"dataframe\">\n",
       "  <thead>\n",
       "    <tr style=\"text-align: right;\">\n",
       "      <th>col_0</th>\n",
       "      <th>creator</th>\n",
       "    </tr>\n",
       "    <tr>\n",
       "      <th>creator</th>\n",
       "      <th></th>\n",
       "    </tr>\n",
       "  </thead>\n",
       "  <tbody>\n",
       "    <tr>\n",
       "      <th>Rembrandt</th>\n",
       "      <td>613</td>\n",
       "    </tr>\n",
       "    <tr>\n",
       "      <th>Camille Pissarro</th>\n",
       "      <td>407</td>\n",
       "    </tr>\n",
       "    <tr>\n",
       "      <th>Vincent van Gogh</th>\n",
       "      <td>330</td>\n",
       "    </tr>\n",
       "    <tr>\n",
       "      <th>Albert Bierstadt</th>\n",
       "      <td>309</td>\n",
       "    </tr>\n",
       "    <tr>\n",
       "      <th>Jacob van Ruisdael</th>\n",
       "      <td>301</td>\n",
       "    </tr>\n",
       "  </tbody>\n",
       "</table>\n",
       "</div>"
      ],
      "text/plain": [
       "col_0               creator\n",
       "creator                    \n",
       "Rembrandt               613\n",
       "Camille Pissarro        407\n",
       "Vincent van Gogh        330\n",
       "Albert Bierstadt        309\n",
       "Jacob van Ruisdael      301"
      ]
     },
     "execution_count": 79,
     "metadata": {},
     "output_type": "execute_result"
    }
   ],
   "source": [
    "table = pandas.crosstab(df.creator, columns=['creator'])\n",
    "table.sort_values(['creator'], ascending=False).head()"
   ]
  },
  {
   "cell_type": "code",
   "execution_count": 114,
   "metadata": {
    "collapsed": false
   },
   "outputs": [],
   "source": [
    "template = \"\"\"\n",
    "<style>\n",
    "\n",
    ".paintings {\n",
    "  display: flex;\n",
    "  flex-flow: row wrap;\n",
    "\n",
    "}\n",
    ".painting img {\n",
    "  max-width: 50px;\n",
    "  max-height: 50px;\n",
    "}\n",
    "</style>\n",
    "<div class=\"paintings\">\n",
    "% for i, row in table:\n",
    "<div class=\"painting\">\n",
    "<img src=\"${row.img}\" /> \n",
    "</div>\n",
    "% endfor\n",
    "</div>\n",
    "\"\"\"\n",
    "import mako.template\n",
    "T = mako.template.Template(template)"
   ]
  },
  {
   "cell_type": "code",
   "execution_count": 119,
   "metadata": {
    "collapsed": false
   },
   "outputs": [
    {
     "data": {
      "text/html": [
       "\n",
       "<style>\n",
       "\n",
       ".paintings {\n",
       "  display: flex;\n",
       "  flex-flow: row wrap;\n",
       "\n",
       "}\n",
       ".painting img {\n",
       "  max-width: 50px;\n",
       "  max-height: 50px;\n",
       "}\n",
       "</style>\n",
       "<div class=\"paintings\">\n",
       "<div class=\"painting\">\n",
       "<img src=\"http://commons.wikimedia.org/wiki/Special:FilePath/Dante%20Gabriel%20Rossetti%20-%20Proserpine%20-%20Google%20Art%20Project.jpg\" /> \n",
       "</div>\n",
       "<div class=\"painting\">\n",
       "<img src=\"http://commons.wikimedia.org/wiki/Special:FilePath/%C3%89douard%20Manet%20-%20Effet%20de%20neige%20%C3%A0%20Petit%E2%80%93Montrouge.jpg\" /> \n",
       "</div>\n",
       "<div class=\"painting\">\n",
       "<img src=\"http://commons.wikimedia.org/wiki/Special:FilePath/Velazquez-las%20hilanderas.jpg\" /> \n",
       "</div>\n",
       "<div class=\"painting\">\n",
       "<img src=\"http://commons.wikimedia.org/wiki/Special:FilePath/Caspar%20David%20Friedrich%20-%20Schiffe%20im%20Hafen%20am%20Abend.jpg\" /> \n",
       "</div>\n",
       "<div class=\"painting\">\n",
       "<img src=\"http://commons.wikimedia.org/wiki/Special:FilePath/William-Adolphe%20Bouguereau%20%281825-1905%29%20-%20The%20Bohemian%20%281890%29.jpg\" /> \n",
       "</div>\n",
       "<div class=\"painting\">\n",
       "<img src=\"http://commons.wikimedia.org/wiki/Special:FilePath/Edgar%20Germain%20Hilaire%20Degas%20053.jpg\" /> \n",
       "</div>\n",
       "<div class=\"painting\">\n",
       "<img src=\"http://commons.wikimedia.org/wiki/Special:FilePath/Bouguereau-Evening%20Mood%201882.jpg\" /> \n",
       "</div>\n",
       "<div class=\"painting\">\n",
       "<img src=\"http://commons.wikimedia.org/wiki/Special:FilePath/Vincent%20Willem%20van%20Gogh%20-%20Cafe%20Terrace%20at%20Night%20%28Yorck%29.jpg\" /> \n",
       "</div>\n",
       "<div class=\"painting\">\n",
       "<img src=\"http://commons.wikimedia.org/wiki/Special:FilePath/Vincent%20Willem%20van%20Gogh%20-%20Cafe%20Terrace%20at%20Night%20%28Yorck%29.jpg\" /> \n",
       "</div>\n",
       "<div class=\"painting\">\n",
       "<img src=\"http://commons.wikimedia.org/wiki/Special:FilePath/Feuerbach%20Amazonenschlacht%201873.jpg\" /> \n",
       "</div>\n",
       "<div class=\"painting\">\n",
       "<img src=\"http://commons.wikimedia.org/wiki/Special:FilePath/Feuerbach%20Amazonenschlacht%201873.jpg\" /> \n",
       "</div>\n",
       "<div class=\"painting\">\n",
       "<img src=\"http://commons.wikimedia.org/wiki/Special:FilePath/Lovis%20Corinth%20Die%20Geigenspielerin%201900.jpg\" /> \n",
       "</div>\n",
       "<div class=\"painting\">\n",
       "<img src=\"http://commons.wikimedia.org/wiki/Special:FilePath/Lovis%20Corinth%20Carmencita%201924.jpg\" /> \n",
       "</div>\n",
       "<div class=\"painting\">\n",
       "<img src=\"http://commons.wikimedia.org/wiki/Special:FilePath/John%20Everett%20Millais%20-%20Ophelia%20-%20Google%20Art%20Project.jpg\" /> \n",
       "</div>\n",
       "<div class=\"painting\">\n",
       "<img src=\"http://commons.wikimedia.org/wiki/Special:FilePath/Hovhannes%20Aivazovsky%20-%20The%20Ninth%20Wave%20-%20Google%20Art%20Project.jpg\" /> \n",
       "</div>\n",
       "<div class=\"painting\">\n",
       "<img src=\"http://commons.wikimedia.org/wiki/Special:FilePath/Aivazovsky%2C%20Ivan%20-%20The%20Ninth%20Wave.jpg\" /> \n",
       "</div>\n",
       "<div class=\"painting\">\n",
       "<img src=\"http://commons.wikimedia.org/wiki/Special:FilePath/Diego%20Vel%C3%A1zquez%20008.jpg\" /> \n",
       "</div>\n",
       "<div class=\"painting\">\n",
       "<img src=\"http://commons.wikimedia.org/wiki/Special:FilePath/Pieter%20Bruegel%20the%20Elder%20-%20Christ%20and%20the%20Woman%20Taken%20in%20Adultery%20-%20WGA03469.jpg\" /> \n",
       "</div>\n",
       "<div class=\"painting\">\n",
       "<img src=\"http://commons.wikimedia.org/wiki/Special:FilePath/Felipe%20IV%20de%20casta%C3%B1o%20y%20plata%2C%20by%20Diego%20Vel%C3%A1zquez.jpg\" /> \n",
       "</div>\n",
       "<div class=\"painting\">\n",
       "<img src=\"http://commons.wikimedia.org/wiki/Special:FilePath/Baigneurs%20a%20Asnieres.jpg\" /> \n",
       "</div>\n",
       "<div class=\"painting\">\n",
       "<img src=\"http://commons.wikimedia.org/wiki/Special:FilePath/El%20Tres%20de%20Mayo%2C%20by%20Francisco%20de%20Goya%2C%20from%20Prado%20in%20Google%20Earth.jpg\" /> \n",
       "</div>\n",
       "<div class=\"painting\">\n",
       "<img src=\"http://commons.wikimedia.org/wiki/Special:FilePath/Madonna%20di%20Senigallia.jpg\" /> \n",
       "</div>\n",
       "<div class=\"painting\">\n",
       "<img src=\"http://commons.wikimedia.org/wiki/Special:FilePath/Veronese.Lucretia01.jpg\" /> \n",
       "</div>\n",
       "<div class=\"painting\">\n",
       "<img src=\"http://commons.wikimedia.org/wiki/Special:FilePath/Pontormo-Visitazione1.jpg\" /> \n",
       "</div>\n",
       "<div class=\"painting\">\n",
       "<img src=\"http://commons.wikimedia.org/wiki/Special:FilePath/Adorazione%20dei%20pastori%20con%20i%20santi%20Nazaro%20e%20Celso.jpg\" /> \n",
       "</div>\n",
       "<div class=\"painting\">\n",
       "<img src=\"http://commons.wikimedia.org/wiki/Special:FilePath/Durer%2C%20Portrait%20of%20a%20Young%20F%C3%BCrleger%20with%20Loose%20Hair.jpg\" /> \n",
       "</div>\n",
       "<div class=\"painting\">\n",
       "<img src=\"http://commons.wikimedia.org/wiki/Special:FilePath/Titian%20-%20The%20Virgin%20and%20Child%20with%20the%20Infant%20Saint%20John%20and%20a%20Female%20Saint%20or%20Donor%20%28%27The%20Aldobrandini%20Madonna%27%29%20-%20Google%20Art%20Project.jpg\" /> \n",
       "</div>\n",
       "<div class=\"painting\">\n",
       "<img src=\"http://commons.wikimedia.org/wiki/Special:FilePath/Antonio%20Martelli%2C%20Cavaliere%20di%20Malta%20-%20Caravaggio.JPG\" /> \n",
       "</div>\n",
       "<div class=\"painting\">\n",
       "<img src=\"http://commons.wikimedia.org/wiki/Special:FilePath/Vel%C3%A1zquez%20-%20Pablo%20de%20Valladolid%20%28Museo%20del%20Prado%2C%201636-37%29.jpg\" /> \n",
       "</div>\n",
       "<div class=\"painting\">\n",
       "<img src=\"http://commons.wikimedia.org/wiki/Special:FilePath/Vel%C3%A1zquez%20-%20Conde%20Duque%20de%20Olivares%20%28Museo%20del%20Prado%2C%201634-35%29.jpg\" /> \n",
       "</div>\n",
       "<div class=\"painting\">\n",
       "<img src=\"http://commons.wikimedia.org/wiki/Special:FilePath/Velazquez-Oriola.jpg\" /> \n",
       "</div>\n",
       "<div class=\"painting\">\n",
       "<img src=\"http://commons.wikimedia.org/wiki/Special:FilePath/Claude%20Monet%20-%20Champ%20de%20coquelicots%20pr%C3%A8s%20de%20V%C3%A9theuil.jpg\" /> \n",
       "</div>\n",
       "<div class=\"painting\">\n",
       "<img src=\"http://commons.wikimedia.org/wiki/Special:FilePath/Vel%C3%A1zquez%20-%20El%20buf%C3%B3n%20llamado%20Don%20Juan%20de%20Austria%20%28Museo%20del%20Prado%2C%201632%29.jpg\" /> \n",
       "</div>\n",
       "<div class=\"painting\">\n",
       "<img src=\"http://commons.wikimedia.org/wiki/Special:FilePath/Pierre-Auguste%20Renoir%2C%20The%20Umbrellas%2C%20ca.%201881-86.jpg\" /> \n",
       "</div>\n",
       "<div class=\"painting\">\n",
       "<img src=\"http://commons.wikimedia.org/wiki/Special:FilePath/Pierre%20Auguste%20Renoir%20-%20Country%20Dance%20-%20Google%20Art%20Project.jpg\" /> \n",
       "</div>\n",
       "<div class=\"painting\">\n",
       "<img src=\"http://commons.wikimedia.org/wiki/Special:FilePath/Adoracion%20de%20los%20Reyes%20magos1.jpg\" /> \n",
       "</div>\n",
       "<div class=\"painting\">\n",
       "<img src=\"http://commons.wikimedia.org/wiki/Special:FilePath/Retrato%20de%20Felipe%20IV%20en%20armadura%2C%20by%20Diego%20Vel%C3%A1zquez.jpg\" /> \n",
       "</div>\n",
       "<div class=\"painting\">\n",
       "<img src=\"http://commons.wikimedia.org/wiki/Special:FilePath/Giovanni%20bellini%2C%20madonna%20del%20prato%2001.jpg\" /> \n",
       "</div>\n",
       "<div class=\"painting\">\n",
       "<img src=\"http://commons.wikimedia.org/wiki/Special:FilePath/The%20Crowning%20with%20Thorns-Caravaggio%20%281602%29.jpg\" /> \n",
       "</div>\n",
       "<div class=\"painting\">\n",
       "<img src=\"http://commons.wikimedia.org/wiki/Special:FilePath/Vincent%20van%20Gogh%20-%20Portret%20van%20de%20postbode%20Joseph%20Roulin.jpg\" /> \n",
       "</div>\n",
       "<div class=\"painting\">\n",
       "<img src=\"http://commons.wikimedia.org/wiki/Special:FilePath/Vincent%20Willem%20van%20Gogh%20138.jpg\" /> \n",
       "</div>\n",
       "<div class=\"painting\">\n",
       "<img src=\"http://commons.wikimedia.org/wiki/Special:FilePath/Swing-Renoir.jpeg\" /> \n",
       "</div>\n",
       "<div class=\"painting\">\n",
       "<img src=\"http://commons.wikimedia.org/wiki/Special:FilePath/Paul%20Gauguin%20Ia%20Orana%20Maria%20%28Hail%20Mary%29%20The%20Metropolitan%20Museum%20of%20Art1.jpg\" /> \n",
       "</div>\n",
       "<div class=\"painting\">\n",
       "<img src=\"http://commons.wikimedia.org/wiki/Special:FilePath/Lorenzo%20Lotto%20039.jpg\" /> \n",
       "</div>\n",
       "<div class=\"painting\">\n",
       "<img src=\"http://commons.wikimedia.org/wiki/Special:FilePath/Seurat%20Modella%20di%20spalle.jpg\" /> \n",
       "</div>\n",
       "<div class=\"painting\">\n",
       "<img src=\"http://commons.wikimedia.org/wiki/Special:FilePath/Caravaggio%20Jupiter%20Neptune%20Pluto.jpg\" /> \n",
       "</div>\n",
       "<div class=\"painting\">\n",
       "<img src=\"http://commons.wikimedia.org/wiki/Special:FilePath/Die%20Elster%20auf%20dem%20Galgen.jpg\" /> \n",
       "</div>\n",
       "<div class=\"painting\">\n",
       "<img src=\"http://commons.wikimedia.org/wiki/Special:FilePath/Girl%20in%20the%20shirt%20%28Red-haired%20girl%29%20by%20Amedeo%20Modigliani.jpg\" /> \n",
       "</div>\n",
       "<div class=\"painting\">\n",
       "<img src=\"http://commons.wikimedia.org/wiki/Special:FilePath/Bacchiacca%2C%20leggenda%20del%20figlio%20del%20re%20morto.jpg\" /> \n",
       "</div>\n",
       "<div class=\"painting\">\n",
       "<img src=\"http://commons.wikimedia.org/wiki/Special:FilePath/Tintoretto%20Battle%20of%20Asola.jpg\" /> \n",
       "</div>\n",
       "<div class=\"painting\">\n",
       "<img src=\"http://commons.wikimedia.org/wiki/Special:FilePath/Rembrandt%20Harmensz.%20van%20Rijn%20011.jpg\" /> \n",
       "</div>\n",
       "<div class=\"painting\">\n",
       "<img src=\"http://commons.wikimedia.org/wiki/Special:FilePath/Diego%20Vel%C3%A1zquez%20026.jpg\" /> \n",
       "</div>\n",
       "<div class=\"painting\">\n",
       "<img src=\"http://commons.wikimedia.org/wiki/Special:FilePath/Diego%20Vel%C3%A1zquez%20026.jpg\" /> \n",
       "</div>\n",
       "<div class=\"painting\">\n",
       "<img src=\"http://commons.wikimedia.org/wiki/Special:FilePath/CristoRaffaello.jpg\" /> \n",
       "</div>\n",
       "<div class=\"painting\">\n",
       "<img src=\"http://commons.wikimedia.org/wiki/Special:FilePath/Fran%C3%A7ois%20Boucher%2C%20Ruhendes%20M%C3%A4dchen%20%281752%29%20-%2002.jpg\" /> \n",
       "</div>\n",
       "<div class=\"painting\">\n",
       "<img src=\"http://commons.wikimedia.org/wiki/Special:FilePath/D%C3%A9ploration%20sur%20le%20Christ%20mort%20%28Bronzino%29.jpg\" /> \n",
       "</div>\n",
       "<div class=\"painting\">\n",
       "<img src=\"http://commons.wikimedia.org/wiki/Special:FilePath/D%C3%A9ploration%20sur%20le%20Christ%20mort%20%28Bronzino%29.jpg\" /> \n",
       "</div>\n",
       "<div class=\"painting\">\n",
       "<img src=\"http://commons.wikimedia.org/wiki/Special:FilePath/Michelangelo%20Caravaggio%20010.jpg\" /> \n",
       "</div>\n",
       "<div class=\"painting\">\n",
       "<img src=\"http://commons.wikimedia.org/wiki/Special:FilePath/CaravaggioUrsula.jpg\" /> \n",
       "</div>\n",
       "<div class=\"painting\">\n",
       "<img src=\"http://commons.wikimedia.org/wiki/Special:FilePath/V%C3%A9nus%20et%20l%27Amour%20d%C3%A9couverts%20par%20un%20satyre%2C%20Corr%C3%A8ge%20%28Louvre%20INV%2042%29%2002.jpg\" /> \n",
       "</div>\n",
       "<div class=\"painting\">\n",
       "<img src=\"http://commons.wikimedia.org/wiki/Special:FilePath/V%C3%A9nus%20et%20l%27Amour%20d%C3%A9couverts%20par%20un%20satyre%2C%20Corr%C3%A8ge%20%28Louvre%20INV%2042%29%2002.jpg\" /> \n",
       "</div>\n",
       "<div class=\"painting\">\n",
       "<img src=\"http://commons.wikimedia.org/wiki/Special:FilePath/Vel%C3%A1zquez%20-%20de%20Breda%20o%20Las%20Lanzas%20%28Museo%20del%20Prado%2C%201634-35%29.jpg\" /> \n",
       "</div>\n",
       "<div class=\"painting\">\n",
       "<img src=\"http://commons.wikimedia.org/wiki/Special:FilePath/Vel%C3%A1zquez%20-%20Francisco%20Lezcano%2C%20el%20Ni%C3%B1o%20de%20Vallecas%20%28Museo%20del%20Prado%2C%201643-45%29.jpg\" /> \n",
       "</div>\n",
       "<div class=\"painting\">\n",
       "<img src=\"http://commons.wikimedia.org/wiki/Special:FilePath/Delacroix%20-%20La%20Mort%20de%20Sardanapale%20%281827%29.jpg\" /> \n",
       "</div>\n",
       "<div class=\"painting\">\n",
       "<img src=\"http://commons.wikimedia.org/wiki/Special:FilePath/Vista%20del%20jard%C3%ADn%20de%20la%20Villa%20Medici%20en%20Roma%2C%20por%20Diego%20Vel%C3%A1zquez.jpg\" /> \n",
       "</div>\n",
       "<div class=\"painting\">\n",
       "<img src=\"http://commons.wikimedia.org/wiki/Special:FilePath/Vel%C3%A1zquez%20-%20Juan%20Mart%C3%ADnez%20Monta%C3%B1%C3%A9s%20%28Museo%20del%20Prado%2C%201635-36%29.jpg\" /> \n",
       "</div>\n",
       "<div class=\"painting\">\n",
       "<img src=\"http://commons.wikimedia.org/wiki/Special:FilePath/Vel%C3%A1zquez%20-%20Dios%20Marte%20%28Museo%20del%20Prado%2C%201639-41%29.jpg\" /> \n",
       "</div>\n",
       "<div class=\"painting\">\n",
       "<img src=\"http://commons.wikimedia.org/wiki/Special:FilePath/Vel%C3%A1zquez%20-%20Pr%C3%ADncipe%20Baltasar%20Carlos%20%28Museo%20del%20Prado%2C%201634-35%29.jpg\" /> \n",
       "</div>\n",
       "<div class=\"painting\">\n",
       "<img src=\"http://commons.wikimedia.org/wiki/Special:FilePath/BRUEGEL%20the%20Elder%2C%20Pieter%20-%20Massacre%20of%20the%20Innocents%20%281565-7%29.JPG\" /> \n",
       "</div>\n",
       "<div class=\"painting\">\n",
       "<img src=\"http://commons.wikimedia.org/wiki/Special:FilePath/Raffael%20099.jpg\" /> \n",
       "</div>\n",
       "<div class=\"painting\">\n",
       "<img src=\"http://commons.wikimedia.org/wiki/Special:FilePath/Andrea%20Mantegna%20109.jpg\" /> \n",
       "</div>\n",
       "<div class=\"painting\">\n",
       "<img src=\"http://commons.wikimedia.org/wiki/Special:FilePath/Jan%20van%20Eyck%20-%20L%C3%A9al%20Souvenir%20-%20National%20Gallery%2C%20London.jpg\" /> \n",
       "</div>\n",
       "<div class=\"painting\">\n",
       "<img src=\"http://commons.wikimedia.org/wiki/Special:FilePath/Francisco%20de%20Goya%2C%20Saturno%20devorando%20a%20su%20hijo%20%281819-1823%29.jpg\" /> \n",
       "</div>\n",
       "<div class=\"painting\">\n",
       "<img src=\"http://commons.wikimedia.org/wiki/Special:FilePath/%C3%89douard%20manet%20-%20Masked%20Ball%20at%20the%20Opera.jpg\" /> \n",
       "</div>\n",
       "<div class=\"painting\">\n",
       "<img src=\"http://commons.wikimedia.org/wiki/Special:FilePath/Edouard%20Manet%20-%20Masked%20Ball%20at%20the%20Opera%20-%20Google%20Art%20Project.jpg\" /> \n",
       "</div>\n",
       "<div class=\"painting\">\n",
       "<img src=\"http://commons.wikimedia.org/wiki/Special:FilePath/Edouard%20Manet%20093.jpg\" /> \n",
       "</div>\n",
       "<div class=\"painting\">\n",
       "<img src=\"http://commons.wikimedia.org/wiki/Special:FilePath/Card%20Players-Paul%20Cezanne.jpg\" /> \n",
       "</div>\n",
       "<div class=\"painting\">\n",
       "<img src=\"http://commons.wikimedia.org/wiki/Special:FilePath/Courbet%20LAtelier%20du%20peintre.jpg\" /> \n",
       "</div>\n",
       "<div class=\"painting\">\n",
       "<img src=\"http://commons.wikimedia.org/wiki/Special:FilePath/Guercino%20-%20Landscape%20with%20Bathing%20Women%20-%20Google%20Art%20Project.jpg\" /> \n",
       "</div>\n",
       "<div class=\"painting\">\n",
       "<img src=\"http://commons.wikimedia.org/wiki/Special:FilePath/An%20Experiment%20on%20a%20Bird%20in%20an%20Air%20Pump%20by%20Joseph%20Wright%20of%20Derby%2C%201768.jpg\" /> \n",
       "</div>\n",
       "</div>\n"
      ],
      "text/plain": [
       "<IPython.core.display.HTML object>"
      ]
     },
     "execution_count": 119,
     "metadata": {},
     "output_type": "execute_result"
    }
   ],
   "source": [
    "import IPython.display\n",
    "IPython.display.HTML(T.render(table=df.head(n=80).iterrows()))"
   ]
  },
  {
   "cell_type": "code",
   "execution_count": 96,
   "metadata": {
    "collapsed": false
   },
   "outputs": [
    {
     "data": {
      "text/plain": [
       "'name'"
      ]
     },
     "execution_count": 96,
     "metadata": {},
     "output_type": "execute_result"
    }
   ],
   "source": [
    "for row in df.head():\n",
    "    row\n",
    "row"
   ]
  },
  {
   "cell_type": "code",
   "execution_count": 136,
   "metadata": {
    "collapsed": false
   },
   "outputs": [
    {
     "data": {
      "text/plain": [
       "('http://commons.wikimedia.org/wiki/Special:FilePath/Tizian%20018.jpg',\n",
       " 'http://commons.wikimedia.org/wiki/Special:FilePath/Tiziano%2C%20madonna%20del%20coniglio%2C%201525-30%20ca.%2002.JPG')"
      ]
     },
     "execution_count": 136,
     "metadata": {},
     "output_type": "execute_result"
    }
   ],
   "source": [
    "df.ix[317].img,  df.ix[318].img"
   ]
  },
  {
   "cell_type": "code",
   "execution_count": null,
   "metadata": {
    "collapsed": true
   },
   "outputs": [],
   "source": []
  }
 ],
 "metadata": {
  "kernelspec": {
   "display_name": "Python 3",
   "language": "python",
   "name": "python3"
  },
  "language_info": {
   "codemirror_mode": {
    "name": "ipython",
    "version": 3
   },
   "file_extension": ".py",
   "mimetype": "text/x-python",
   "name": "python",
   "nbconvert_exporter": "python",
   "pygments_lexer": "ipython3",
   "version": "3.5.1"
  }
 },
 "nbformat": 4,
 "nbformat_minor": 0
}
