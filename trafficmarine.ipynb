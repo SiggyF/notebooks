{
 "cells": [
  {
   "cell_type": "code",
   "execution_count": null,
   "metadata": {
    "collapsed": false
   },
   "outputs": [],
   "source": [
    "# for dates\n",
    "import datetime\n",
    "\n",
    "# data processing\n",
    "import numpy as np\n",
    "import pandas\n",
    "# plotting\n",
    "import matplotlib.pyplot as plt\n",
    "# downloading\n",
    "import requests\n",
    "\n",
    "# for inline plotting\n",
    "%matplotlib inline"
   ]
  },
  {
   "cell_type": "code",
   "execution_count": null,
   "metadata": {
    "collapsed": true
   },
   "outputs": [],
   "source": [
    "# pass menu and collect a cookie\n",
    "url_menu = 'http://www.marinetraffic.com/en/users/ajax_user_menu/home:1'\n",
    "# if we have a cookie gather data\n",
    "url = 'http://www.marinetraffic.com/map/getDataJson/sw_x:-4.0/sw_y:50.0/ne_x:12.0/ne_y:54.0/zoom:7/station:0'"
   ]
  },
  {
   "cell_type": "code",
   "execution_count": null,
   "metadata": {
    "collapsed": false
   },
   "outputs": [],
   "source": [
    "# We are a browser and we came from the home page. \n",
    "headers = {\n",
    "    \"Referer\": \"http://www.marinetraffic.com\",\n",
    "    \"User-Agent\": \"Mozilla/5.0 (Macintosh; Intel Mac OS X 10_9_5) AppleWebKit/537.36 (KHTML, like Gecko) Chrome/48.0.2564.116 Safari/537.36\"\n",
    "}\n",
    "# now we go to the menu page\n",
    "response = requests.get(url_menu, headers=headers)\n",
    "\n",
    "# and we get the cookie that we need\n",
    "cookies = response.cookies\n",
    "dict(cookies)"
   ]
  },
  {
   "cell_type": "code",
   "execution_count": null,
   "metadata": {
    "collapsed": false
   },
   "outputs": [],
   "source": [
    "# now we can gather data\n",
    "response = requests.get(url, headers=headers, cookies=cookies)\n",
    "# and convert it to json\n",
    "data = response.json()"
   ]
  },
  {
   "cell_type": "code",
   "execution_count": null,
   "metadata": {
    "collapsed": false
   },
   "outputs": [],
   "source": [
    "# this is the relevant part\n",
    "rows = data['data']['rows']\n",
    "# this is the other information, not that relevant\n",
    "data['type'], data['data']['areaShips'], data['data']['totalShips']"
   ]
  },
  {
   "cell_type": "code",
   "execution_count": null,
   "metadata": {
    "collapsed": false
   },
   "outputs": [],
   "source": [
    "# let's make a table\n",
    "# we need certain properties as numbers so convert them as everything is returned as strings\n",
    "ships =  [\n",
    "    {\n",
    "        \"id\": int(row[\"SHIP_ID\"]),\n",
    "        \"lat\": float(row['LAT']), \n",
    "        \"lon\": float(row['LON']), \n",
    "        \"heading\": int(row['HEADING']),\n",
    "        \"speed\": float(row[\"SPEED\"])/10.0,\n",
    "        **row\n",
    "    } for row in rows\n",
    "]\n",
    "# read them into a dataframe\n",
    "df = pandas.DataFrame.from_records(ships)\n",
    "# and use the ship id as an index\n",
    "df = df.set_index('id')"
   ]
  },
  {
   "cell_type": "markdown",
   "metadata": {},
   "source": [
    "# Cleanup"
   ]
  },
  {
   "cell_type": "code",
   "execution_count": null,
   "metadata": {
    "collapsed": false
   },
   "outputs": [],
   "source": [
    "# 511 is missing (still ints, so we can use ==)\n",
    "df.loc[df['heading'] == 511, 'heading'] = None\n",
    "# unfortunately 0 is also missing, so we have to drop all \n",
    "df.loc[df['heading'] == 0, 'heading'] = None\n",
    "\n",
    "# compute direction in rad, also from 0 up clockwise to 0 right, counterclockwise)\n",
    "df['direction'] =  -df['heading'].apply(np.deg2rad)  + 0.5*np.pi\n",
    "\n",
    "# and split in u,v components, for plotting\n",
    "df['u'] = np.cos(df['direction']) \n",
    "df['v'] = np.sin(df['direction']) \n",
    "\n",
    "# suppose we run this every 10 minutes or so, store in a file\n",
    "now = datetime.datetime.utcnow()\n",
    "\n",
    "filename = 'marinetraffic-extract-%f.json' % (now.timestamp(), )\n",
    "df.to_json(filename)\n",
    "# toss out the missings \n",
    "df = df.dropna()\n"
   ]
  },
  {
   "cell_type": "code",
   "execution_count": null,
   "metadata": {
    "collapsed": false
   },
   "outputs": [],
   "source": [
    "fig, axes = plt.subplots(1, 2, figsize=(18, 6))\n",
    "axes[0].set_title('all ships')\n",
    "axes[0].quiver(df['lon'], df['lat'], df['u'], df['v'])\n",
    "selection = df.ix[df['speed'] < 1.0]\n",
    "axes[1].set_title('slow ships')\n",
    "axes[1].quiver(selection['lon'], selection['lat'], selection['u'], selection['v'])"
   ]
  },
  {
   "cell_type": "code",
   "execution_count": null,
   "metadata": {
    "collapsed": false
   },
   "outputs": [],
   "source": [
    "# information that we collected\n",
    "df.iloc[0]"
   ]
  }
 ],
 "metadata": {
  "kernelspec": {
   "display_name": "Python 3",
   "language": "python",
   "name": "python3"
  },
  "language_info": {
   "codemirror_mode": {
    "name": "ipython",
    "version": 3
   },
   "file_extension": ".py",
   "mimetype": "text/x-python",
   "name": "python",
   "nbconvert_exporter": "python",
   "pygments_lexer": "ipython3",
   "version": "3.5.1"
  }
 },
 "nbformat": 4,
 "nbformat_minor": 0
}
