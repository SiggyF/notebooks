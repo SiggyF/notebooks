{
 "metadata": {
  "name": "",
  "signature": "sha256:b7fad7b1addf530baa9cb1abca4446bf0d616d304170a5a6cb62ed37999f3ba8"
 },
 "nbformat": 3,
 "nbformat_minor": 0,
 "worksheets": [
  {
   "cells": [
    {
     "cell_type": "code",
     "collapsed": false,
     "input": [
      "import numpy as np\n",
      "import matplotlib.pyplot as plt\n",
      "import bisect\n",
      "from IPython.html.widgets import interact\n",
      "\n",
      "# example based on http://lorenabarba.com/blog/cfd-python-12-steps-to-navier-stokes/"
     ],
     "language": "python",
     "metadata": {},
     "outputs": [],
     "prompt_number": 1
    },
    {
     "cell_type": "code",
     "collapsed": false,
     "input": [
      "c = 1.0"
     ],
     "language": "python",
     "metadata": {},
     "outputs": [],
     "prompt_number": 2
    },
    {
     "cell_type": "code",
     "collapsed": false,
     "input": [
      "# example showing numerical diffusion and osciliations\n",
      "def plot(nx, dt, nt, bc):\n",
      "    # create the x grid\n",
      "    x = np.arange(0,1,1.0/nx)\n",
      "    # equidistant grid\n",
      "    dx = x[1] - x[0]\n",
      "    # initial waterlevel\n",
      "    s1 = np.zeros(nx) + 0.1\n",
      "    # use current waterlevel as previous waterlevel\n",
      "    s0 = s1.copy()\n",
      "    for n in range(nt):  \n",
      "        # set the boundary condition\n",
      "        s1[0] = bc\n",
      "        # upwind scheme\n",
      "        s1[1:] = s0[1:] - c*dt/dx*(s0[1:] - s0[:-1])\n",
      "        # set previous to current\n",
      "        s0 = s1.copy()\n",
      "    plt.step(x, s1)\n",
      "    plt.ylim(0, 3)\n",
      "_ = interact(plot, nx=(10, 100), dt=(0.005, 0.02,0.001), bc=(0, 2.0), nt=(0,50))"
     ],
     "language": "python",
     "metadata": {},
     "outputs": [
      {
       "metadata": {},
       "output_type": "display_data",
       "png": "[encoded data removed]",
       "text": [
        "<matplotlib.figure.Figure at 0x7f9042783e10>"
       ]
      }
     ],
     "prompt_number": 3
    },
    {
     "cell_type": "code",
     "collapsed": false,
     "input": [],
     "language": "python",
     "metadata": {},
     "outputs": [],
     "prompt_number": 3
    }
   ],
   "metadata": {}
  }
 ]
}