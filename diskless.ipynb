{
 "metadata": {
  "name": ""
 },
 "nbformat": 3,
 "nbformat_minor": 0,
 "worksheets": [
  {
   "cells": [
    {
     "cell_type": "code",
     "collapsed": false,
     "input": [
      "%%file model.c\n",
      "#include <stdio.h>\n",
      "#include \"netcdf.h\"\n",
      "\n",
      "// a simple model, conforming to IRF convention\n",
      "void init() {\n",
      "    /* initialize the model */\n",
      "}\n",
      "\n",
      "void update(double t) {\n",
      "   /* do a timestep */   \n",
      "   int stat;\n",
      "   int ncid;\n",
      "   int varid;\n",
      "   // fixed sizes for example\n",
      "   size_t start[] = {0};\n",
      "   size_t count[] = {10};\n",
      "   double data[10];\n",
      "   \n",
      "   // open an in memory file\n",
      "   stat = nc_open(\"diskless.nc\", NC_DISKLESS, &ncid);\n",
      "   printf(\"opening: %s\\n\", nc_strerror(stat));\n",
      "   // Lookup the rain variable\n",
      "   stat = nc_inq_varid(ncid, \"rain\", &varid);   \n",
      "   printf(\"get variable: %s (%d)\\n\", nc_strerror(stat), varid);\n",
      "   // Read the data\n",
      "   stat = nc_get_vara_double(ncid, varid, start, count, data);\n",
      "   printf(\"get data: %s (%f - %f)\\n\", nc_strerror(stat), data[0], data[9]);\n",
      "   // No need to close the diskless file, responsibilty of creator\n",
      "   \n",
      "}                      \n",
      "\n",
      "void finalize() {\n",
      "   /* clean up the model */\n",
      "}                 "
     ],
     "language": "python",
     "metadata": {},
     "outputs": [
      {
       "output_type": "stream",
       "stream": "stdout",
       "text": [
        "Overwriting model.c\n"
       ]
      }
     ],
     "prompt_number": 1
    },
    {
     "cell_type": "code",
     "collapsed": false,
     "input": [
      "%%bash\n",
      "# compile\n",
      "gcc -c -fPIC -I/home/fedor/.local/include model.c \n",
      "# link\n",
      "gcc model.o -shared  -lnetcdf -L/home/fedor/.local/lib -o libmodel.so"
     ],
     "language": "python",
     "metadata": {},
     "outputs": [],
     "prompt_number": 3
    },
    {
     "cell_type": "code",
     "collapsed": false,
     "input": [
      "%%python\n",
      "# do this in a subprocess so we can get the stdout\n",
      "# wrap the model\n",
      "import ctypes\n",
      "model = ctypes.cdll.LoadLibrary('libmodel.so')\n",
      "model.update.argtypes = [ctypes.c_double]\n",
      "\n",
      "\n",
      "# create a netCDF file\n",
      "import netCDF4\n",
      "ds = netCDF4.Dataset(\"diskless.nc\", mode=\"w\", diskless=True, persist=False)\n",
      "ds.createDimension(\"points\", 10)\n",
      "rain = ds.createVariable(\"rain\", \"double\", (\"points\",))\n",
      "rain[:] = range(10)\n",
      "\n",
      "# run the model\n",
      "model.init()\n",
      "model.update(1.0)\n",
      "model.finalize()\n",
      "\n",
      "ds.close()"
     ],
     "language": "python",
     "metadata": {},
     "outputs": [
      {
       "output_type": "stream",
       "stream": "stdout",
       "text": [
        "opening: No error\n",
        "get variable: No error (0)\n",
        "get data: No error (0.000000 - 9.000000)\n"
       ]
      }
     ],
     "prompt_number": 4
    },
    {
     "cell_type": "code",
     "collapsed": false,
     "input": [
      "!ls diskless.nc\n"
     ],
     "language": "python",
     "metadata": {},
     "outputs": [
      {
       "output_type": "stream",
       "stream": "stdout",
       "text": [
        "ls: cannot access diskless.nc: No such file or directory\r\n"
       ]
      }
     ],
     "prompt_number": 5
    },
    {
     "cell_type": "code",
     "collapsed": false,
     "input": [],
     "language": "python",
     "metadata": {},
     "outputs": []
    }
   ],
   "metadata": {}
  }
 ]
}