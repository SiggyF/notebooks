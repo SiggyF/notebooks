{
 "cells": [
  {
   "cell_type": "code",
   "execution_count": 54,
   "metadata": {
    "collapsed": true
   },
   "outputs": [],
   "source": [
    "import statsmodels.api"
   ]
  },
  {
   "cell_type": "code",
   "execution_count": 48,
   "metadata": {
    "collapsed": false
   },
   "outputs": [],
   "source": [
    "import pathlib\n",
    "import json\n",
    "import geojson\n",
    "import datashader\n",
    "import pandas\n",
    "import toolz\n",
    "import matplotlib.pyplot as plt\n",
    "%matplotlib inline"
   ]
  },
  {
   "cell_type": "code",
   "execution_count": 4,
   "metadata": {
    "collapsed": true
   },
   "outputs": [],
   "source": [
    "f = pathlib.Path('/Users/baart_f/data/BOX061_transects_rates.json')"
   ]
  },
  {
   "cell_type": "code",
   "execution_count": 16,
   "metadata": {
    "collapsed": false
   },
   "outputs": [],
   "source": [
    "data = geojson.load(f.open())"
   ]
  },
  {
   "cell_type": "code",
   "execution_count": null,
   "metadata": {
    "collapsed": true
   },
   "outputs": [],
   "source": [
    "feature = data['features'][0]\n",
    "records = []\n",
    "for feature in data['features']:\n",
    "    # fold\n",
    "    record = toolz.merge(*toolz.get(['properties', 'geometry'], feature))\n",
    "    records.append(record)\n",
    "df = pandas.DataFrame(records)"
   ]
  },
  {
   "cell_type": "code",
   "execution_count": 65,
   "metadata": {
    "collapsed": false
   },
   "outputs": [
    {
     "data": {
      "text/plain": [
       "RMSE                                                                     17.453\n",
       "b_unc                                                                       7.6\n",
       "change_rate                                                                -0.4\n",
       "change_rate_unc                                                             0.4\n",
       "coordinates                   [[115.67817480305608, -34.47973884802565], [11...\n",
       "country_id                                                                  AUS\n",
       "country_name                                                          Australia\n",
       "distances                     [869.3256292927762, 865.4742744561033, 880.876...\n",
       "dt                            [29.002648925, 4.00008213721, 17.0024025134, 2...\n",
       "flag_ok                                                                    True\n",
       "flag_sandy                                                                False\n",
       "intercept                                                                 878.5\n",
       "intersection_10.0015742965          [[115.67302099535196, -34.484506327567665]]\n",
       "intersection_11.0009103541          [[115.67286891816565, -34.484647000946886]]\n",
       "intersection_12.0002464116           [[115.67291832013386, -34.48460130350849]]\n",
       "intersection_13.0023203762           [[115.67314150751872, -34.48439485207438]]\n",
       "intersection_14.0016564337           [[115.6730535495047, -34.484476214521294]]\n",
       "intersection_15.0009924913          [[115.67286232397255, -34.484653100656104]]\n",
       "intersection_16.0003285488           [[115.67297683735318, -34.48454717431647]]\n",
       "intersection_17.0024025134          [[115.67291036582714, -34.484608661343394]]\n",
       "intersection_18.0017385709          [[115.67281976310385, -34.484692469968934]]\n",
       "intersection_19.0010746285           [[115.67290015516656, -34.48461810633333]]\n",
       "intersection_2.00141002211                                                  NaN\n",
       "intersection_20.0004106861           [[115.67316239150423, -34.48437553407125]]\n",
       "intersection_21.0024846506           [[115.67313141390031, -34.48440418882279]]\n",
       "intersection_22.0018207082            [[115.67300110017784, -34.4845247308765]]\n",
       "intersection_23.0011567657           [[115.67284495784891, -34.48466916453051]]\n",
       "intersection_24.0004928233          [[115.67317414059615, -34.484364665981225]]\n",
       "intersection_25.0025667878           [[115.67284361564742, -34.48467040608298]]\n",
       "intersection_26.0019028454           [[115.67286570068137, -34.48464997715922]]\n",
       "intersection_27.0012389029           [[115.67298280586644, -34.48454165336177]]\n",
       "intersection_28.0005749605           [[115.67294482689645, -34.48457678441132]]\n",
       "intersection_29.002648925            [[115.67297940068961, -34.48454480319595]]\n",
       "intersection_3.00074607966          [[115.67274683314729, -34.484759931008256]]\n",
       "intersection_30.0019849826           [[115.67307941828575, -34.48445228552945]]\n",
       "intersection_31.0013210401             [[115.672689459175, -34.48481300254685]]\n",
       "intersection_32.0006570977            [[115.6729366173543, -34.48458437834444]]\n",
       "intersection_4.00008213721           [[115.67300241777018, -34.48452351208563]]\n",
       "intersection_5.00215610177            [[115.6728835125379, -34.48463350097267]]\n",
       "intersection_6.00149215932          [[115.67302772425089, -34.484500103242965]]\n",
       "intersection_7.00082821687           [[115.67292615651316, -34.48459405475734]]\n",
       "intersection_8.00016427442           [[115.67289189808466, -34.48462574423757]]\n",
       "intersection_9.00223823898           [[115.67299916263718, -34.48452652312794]]\n",
       "outliers                                                                   [16]\n",
       "transect_id                                                       BOX_061_011_1\n",
       "transect_origin                        [115.67817480305608, -34.47973884802565]\n",
       "type                                                                 LineString\n",
       "Name: 1, dtype: object"
      ]
     },
     "execution_count": 65,
     "metadata": {},
     "output_type": "execute_result"
    },
    {
     "data": {
      "image/png": "[encoded data removed]",
      "text/plain": [
       "<matplotlib.figure.Figure at 0x1141b95f8>"
      ]
     },
     "metadata": {},
     "output_type": "display_data"
    }
   ],
   "source": [
    "record = df.iloc[1]\n",
    "_ = plt.plot(record['dt'], record['distances'], 'k.')\n",
    "record"
   ]
  },
  {
   "cell_type": "code",
   "execution_count": 62,
   "metadata": {
    "collapsed": false
   },
   "outputs": [
    {
     "data": {
      "text/html": [
       "<table class=\"simpletable\">\n",
       "<caption>OLS Regression Results</caption>\n",
       "<tr>\n",
       "  <th>Dep. Variable:</th>            <td>y</td>        <th>  R-squared:         </th> <td>   0.001</td>\n",
       "</tr>\n",
       "<tr>\n",
       "  <th>Model:</th>                   <td>OLS</td>       <th>  Adj. R-squared:    </th> <td>  -0.035</td>\n",
       "</tr>\n",
       "<tr>\n",
       "  <th>Method:</th>             <td>Least Squares</td>  <th>  F-statistic:       </th> <td> 0.02142</td>\n",
       "</tr>\n",
       "<tr>\n",
       "  <th>Date:</th>             <td>Wed, 19 Apr 2017</td> <th>  Prob (F-statistic):</th>  <td> 0.885</td> \n",
       "</tr>\n",
       "<tr>\n",
       "  <th>Time:</th>                 <td>16:16:59</td>     <th>  Log-Likelihood:    </th> <td> -131.29</td>\n",
       "</tr>\n",
       "<tr>\n",
       "  <th>No. Observations:</th>      <td>    30</td>      <th>  AIC:               </th> <td>   266.6</td>\n",
       "</tr>\n",
       "<tr>\n",
       "  <th>Df Residuals:</th>          <td>    28</td>      <th>  BIC:               </th> <td>   269.4</td>\n",
       "</tr>\n",
       "<tr>\n",
       "  <th>Df Model:</th>              <td>     1</td>      <th>                     </th>     <td> </td>   \n",
       "</tr>\n",
       "<tr>\n",
       "  <th>Covariance Type:</th>      <td>nonrobust</td>    <th>                     </th>     <td> </td>   \n",
       "</tr>\n",
       "</table>\n",
       "<table class=\"simpletable\">\n",
       "<tr>\n",
       "    <td></td>       <th>coef</th>     <th>std err</th>      <th>t</th>      <th>P>|t|</th> <th>[95.0% Conf. Int.]</th> \n",
       "</tr>\n",
       "<tr>\n",
       "  <th>const</th> <td>  874.8402</td> <td>    8.204</td> <td>  106.637</td> <td> 0.000</td> <td>  858.035   891.645</td>\n",
       "</tr>\n",
       "<tr>\n",
       "  <th>x1</th>    <td>   -0.0615</td> <td>    0.420</td> <td>   -0.146</td> <td> 0.885</td> <td>   -0.922     0.799</td>\n",
       "</tr>\n",
       "</table>\n",
       "<table class=\"simpletable\">\n",
       "<tr>\n",
       "  <th>Omnibus:</th>       <td> 0.034</td> <th>  Durbin-Watson:     </th> <td>   1.814</td>\n",
       "</tr>\n",
       "<tr>\n",
       "  <th>Prob(Omnibus):</th> <td> 0.983</td> <th>  Jarque-Bera (JB):  </th> <td>   0.067</td>\n",
       "</tr>\n",
       "<tr>\n",
       "  <th>Skew:</th>          <td>-0.020</td> <th>  Prob(JB):          </th> <td>   0.967</td>\n",
       "</tr>\n",
       "<tr>\n",
       "  <th>Kurtosis:</th>      <td> 2.771</td> <th>  Cond. No.          </th> <td>    44.1</td>\n",
       "</tr>\n",
       "</table>"
      ],
      "text/plain": [
       "<class 'statsmodels.iolib.summary.Summary'>\n",
       "\"\"\"\n",
       "                            OLS Regression Results                            \n",
       "==============================================================================\n",
       "Dep. Variable:                      y   R-squared:                       0.001\n",
       "Model:                            OLS   Adj. R-squared:                 -0.035\n",
       "Method:                 Least Squares   F-statistic:                   0.02142\n",
       "Date:                Wed, 19 Apr 2017   Prob (F-statistic):              0.885\n",
       "Time:                        16:16:59   Log-Likelihood:                -131.29\n",
       "No. Observations:                  30   AIC:                             266.6\n",
       "Df Residuals:                      28   BIC:                             269.4\n",
       "Df Model:                           1                                         \n",
       "Covariance Type:            nonrobust                                         \n",
       "==============================================================================\n",
       "                 coef    std err          t      P>|t|      [95.0% Conf. Int.]\n",
       "------------------------------------------------------------------------------\n",
       "const        874.8402      8.204    106.637      0.000       858.035   891.645\n",
       "x1            -0.0615      0.420     -0.146      0.885        -0.922     0.799\n",
       "==============================================================================\n",
       "Omnibus:                        0.034   Durbin-Watson:                   1.814\n",
       "Prob(Omnibus):                  0.983   Jarque-Bera (JB):                0.067\n",
       "Skew:                          -0.020   Prob(JB):                        0.967\n",
       "Kurtosis:                       2.771   Cond. No.                         44.1\n",
       "==============================================================================\n",
       "\n",
       "Warnings:\n",
       "[1] Standard Errors assume that the covariance matrix of the errors is correctly specified.\n",
       "\"\"\""
      ]
     },
     "execution_count": 62,
     "metadata": {},
     "output_type": "execute_result"
    }
   ],
   "source": [
    "model = statsmodels.api.OLS(record['distances'], statsmodels.api.add_constant(record['dt']))\n",
    "fit = model.fit()\n",
    "fit.summary()"
   ]
  },
  {
   "cell_type": "code",
   "execution_count": null,
   "metadata": {
    "collapsed": true
   },
   "outputs": [],
   "source": []
  }
 ],
 "metadata": {
  "kernelspec": {
   "display_name": "Python 3",
   "language": "python",
   "name": "python3"
  },
  "language_info": {
   "codemirror_mode": {
    "name": "ipython",
    "version": 3
   },
   "file_extension": ".py",
   "mimetype": "text/x-python",
   "name": "python",
   "nbconvert_exporter": "python",
   "pygments_lexer": "ipython3",
   "version": "3.5.3"
  }
 },
 "nbformat": 4,
 "nbformat_minor": 1
}
