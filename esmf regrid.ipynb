{
 "metadata": {
  "name": ""
 },
 "nbformat": 3,
 "nbformat_minor": 0,
 "worksheets": [
  {
   "cells": [
    {
     "cell_type": "code",
     "collapsed": false,
     "input": [
      "import os\n",
      "os.environ['PATH'] = os.environ['PATH'] + ':' + '/home/fedor/Checkouts/esmf/DEFAULTINSTALLDIR/bin/binO/Linux.gfortran.64.mpiuni.default'"
     ],
     "language": "python",
     "metadata": {},
     "outputs": [],
     "prompt_number": 9
    },
    {
     "cell_type": "code",
     "collapsed": false,
     "input": [
      "# This should show a missing source\n",
      "!ESMF_RegridWeightGen"
     ],
     "language": "python",
     "metadata": {},
     "outputs": [
      {
       "output_type": "stream",
       "stream": "stdout",
       "text": [
        "\r\n",
        " ERROR: The required argument [-s|--source] is missing.\r\n"
       ]
      }
     ],
     "prompt_number": 10
    },
    {
     "cell_type": "code",
     "collapsed": false,
     "input": [
      "import netCDF4\n",
      "src = netCDF4.Dataset('src.nc', mode='w', clobber=True)\n",
      "src.createDimension('nodes', 10)\n",
      "src.createDimension('elems', 13)\n",
      "src.createDimension('three', 3)\n",
      "mesh = src.createVariable('mesh', 'int32')\n",
      "mesh.standard_name = 'mesh_topology'\n",
      "mesh.dimension = 2\n",
      "mesh.node_coordinates = \"lon lat\"\n",
      "mesh.face_node_connectivity = \"nv\"\n",
      "\n",
      "nv = src.createVariable(\"nv\", \"int32\", dimensions=(\"elems\", \"three\"))\n",
      "nv.standard_name = \"face_node_connectivity\"\n",
      "nv.start_index = 1\n",
      "\n",
      "lon = src.createVariable(\"lon\", \"float\", dimensions=(\"nodes\",))\n",
      "lon.standard_name = \"longitude\"\n",
      "lon.units = \"degrees_east\" \n",
      "\n",
      "lat = src.createVariable(\"lat\", \"float\", dimensions=(\"nodes\",))\n",
      "lat.standard_name = \"latitude\"\n",
      "lat.units = \"degrees_north\" \n",
      "src.close()\n",
      "\n",
      "dst = netCDF4.Dataset('dst.nc', mode='w', clobber=True)\n",
      "dst.createDimension('nodes', 10)\n",
      "dst.createDimension('elems', 13)\n",
      "dst.createDimension('three', 3)\n",
      "mesh = dst.createVariable('mesh', 'int32')\n",
      "mesh.standard_name = 'mesh_topology'\n",
      "mesh.dimension = 2\n",
      "mesh.node_coordinates = \"lon lat\"\n",
      "mesh.face_node_connectivity = \"nv\"\n",
      "\n",
      "nv = dst.createVariable(\"nv\", \"int32\", dimensions=(\"elems\", \"three\"))\n",
      "nv.standard_name = \"face_node_connectivity\"\n",
      "nv.start_index = 1\n",
      "\n",
      "lon = dst.createVariable(\"lon\", \"float\", dimensions=(\"nodes\",))\n",
      "lon.standard_name = \"longitude\"\n",
      "lon.units = \"degrees_east\" \n",
      "\n",
      "lat = dst.createVariable(\"lat\", \"float\", dimensions=(\"nodes\",))\n",
      "lat.standard_name = \"latitude\"\n",
      "lat.units = \"degrees_north\" \n",
      "dst.close()"
     ],
     "language": "python",
     "metadata": {},
     "outputs": [],
     "prompt_number": 58
    },
    {
     "cell_type": "code",
     "collapsed": false,
     "input": [
      "%%bash\n",
      "ncdump -h src.nc\n",
      "rm PET*.RegridWeightGen.Log\n",
      "ESMF_RegridWeightGen -s src.nc -d dst.nc --src_type UGRID --src_meshname mesh -m conserve --dst_type UGRID --dst_meshname mesh -w w.nc\n",
      "cat PET*.RegridWeightGen.Log\n",
      "\n"
     ],
     "language": "python",
     "metadata": {},
     "outputs": [
      {
       "output_type": "stream",
       "stream": "stdout",
       "text": [
        "netcdf src {\n",
        "dimensions:\n",
        "\tnodes = 10 ;\n",
        "\telems = 13 ;\n",
        "\tthree = 3 ;\n",
        "variables:\n",
        "\tint mesh ;\n",
        "\t\tmesh:standard_name = \"mesh_topology\" ;\n",
        "\t\tmesh:dimension = 2L ;\n",
        "\t\tmesh:node_coordinates = \"lon lat\" ;\n",
        "\t\tmesh:face_node_connectivity = \"nv\" ;\n",
        "\tint nv(elems, three) ;\n",
        "\t\tnv:standard_name = \"face_node_connectivity\" ;\n",
        "\t\tnv:start_index = 1L ;\n",
        "\tdouble lon(nodes) ;\n",
        "\t\tlon:standard_name = \"longitude\" ;\n",
        "\t\tlon:units = \"degrees_east\" ;\n",
        "\tdouble lat(nodes) ;\n",
        "\t\tlat:standard_name = \"latitude\" ;\n",
        "\t\tlat:units = \"degrees_north\" ;\n",
        "}\n",
        " Starting weight generation with these inputs: \n",
        "   Source File: src.nc\n",
        "   Destination File: dst.nc\n",
        "   Weight File: w.nc\n",
        "   Source File is in UGRID format, dummy variable: mesh\n",
        "   Source Grid is a global grid\n",
        "   Source Grid is an unstructured grid\n",
        "   Destination File is in UGRID format, dummy variable: mesh\n",
        "   Destination Grid is a global grid\n",
        "   Destination Grid is an unstructured grid\n",
        "   Regrid Method: conserve\n",
        "   Pole option: NONE\n",
        "\n"
       ]
      },
      {
       "output_type": "stream",
       "stream": "stderr",
       "text": [
        "\n",
        "Program received signal SIGSEGV: Segmentation fault - invalid memory reference.\n",
        "\n",
        "Backtrace for this error:\n",
        "#0  0x7FCD61454117\n",
        "#1  0x7FCD614546F4\n",
        "#2  0x7FCD610A90AF\n",
        "#3  0x7FCD62CA949D\n",
        "#4  0x7FCD62CADE31\n",
        "#5  0x7FCD62CBEB9B\n",
        "#6  0x40766B in esmf_regridweightgenapp at ESMF_RegridWeightGen.F90:623\n",
        "bash: line 3:   875 Segmentation fault      (core dumped) ESMF_RegridWeightGen -s src.nc -d dst.nc --src_type UGRID --src_meshname mesh -m conserve --dst_type UGRID --dst_meshname mesh -w w.nc\n"
       ]
      }
     ],
     "prompt_number": 60
    },
    {
     "cell_type": "code",
     "collapsed": false,
     "input": [],
     "language": "python",
     "metadata": {},
     "outputs": []
    }
   ],
   "metadata": {}
  }
 ]
}