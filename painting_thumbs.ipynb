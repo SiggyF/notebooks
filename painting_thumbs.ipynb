{
 "cells": [
  {
   "cell_type": "code",
   "execution_count": 1,
   "metadata": {
    "collapsed": true
   },
   "outputs": [],
   "source": [
    "import os\n",
    "import re\n",
    "import subprocess\n",
    "import tqdm"
   ]
  },
  {
   "cell_type": "code",
   "execution_count": 2,
   "metadata": {
    "collapsed": true
   },
   "outputs": [],
   "source": [
    "data_dir = os.path.expanduser('~/data/highres/')\n",
    "files = os.listdir(data_dir)"
   ]
  },
  {
   "cell_type": "code",
   "execution_count": 3,
   "metadata": {
    "collapsed": false
   },
   "outputs": [],
   "source": [
    "image_re = re.compile('.*(\\.jpe?g|\\.png|\\.tiff?|\\.gif)$', re.I)\n",
    "images = [f for f in files if image_re.match(f)]"
   ]
  },
  {
   "cell_type": "code",
   "execution_count": 12,
   "metadata": {
    "collapsed": false
   },
   "outputs": [
    {
     "name": "stdout",
     "output_type": "stream",
     "text": [
      "\n"
     ]
    }
   ],
   "source": [
    "for image in tqdm.tqdm_notebook(images):\n",
    "    name, ext = os.path.splitext(image)\n",
    "    p1 = subprocess.Popen([\n",
    "            'convert', os.path.join(data_dir, image),\n",
    "            '-thumbnail', '256x256^', \n",
    "            '-gravity', 'center', \n",
    "            '-extent', '256x256',\n",
    "            os.path.join('thumbs', '256', name + '.thumb' + '.png')\n",
    "        ])\n",
    "    p1.wait()\n",
    "    # create thumbnail of 256 width\n",
    "    p2 = subprocess.Popen([\n",
    "            'convert', os.path.join(data_dir, image),\n",
    "            '-thumbnail', 'x256', \n",
    "            os.path.join('thumbs', '256w', name + '.thumb' + '.jpg')\n",
    "        ])\n",
    "    p2.wait()\n",
    "    "
   ]
  }
 ],
 "metadata": {
  "kernelspec": {
   "display_name": "Python 3",
   "language": "python",
   "name": "python3"
  },
  "language_info": {
   "codemirror_mode": {
    "name": "ipython",
    "version": 3
   },
   "file_extension": ".py",
   "mimetype": "text/x-python",
   "name": "python",
   "nbconvert_exporter": "python",
   "pygments_lexer": "ipython3",
   "version": "3.5.1"
  },
  "widgets": {
   "state": {
    "042531a756844b6fa68c96ddbb935e58": {
     "views": []
    },
    "08081e047c6744a6ac69f00eeec4358d": {
     "views": []
    },
    "0842066474424702943cd130d4635160": {
     "views": []
    },
    "0c8d1995c0b548c380220628f55a7794": {
     "views": []
    },
    "14193dd07bfd431cb6530a0e3fbde000": {
     "views": []
    },
    "14c43b39a5994424922dba6d8a8a61ed": {
     "views": []
    },
    "162491cd70b34adc838c6671f7791aed": {
     "views": []
    },
    "1d4d9a69a0e54bbeaace0e5ae5560352": {
     "views": []
    },
    "20f2c898b02e40beb8ba4cbb648a152b": {
     "views": []
    },
    "2dd1c8cccddf42ac9be4cc607a4cdf07": {
     "views": []
    },
    "2e96fcc65aaa472ba3e23327d264f00d": {
     "views": []
    },
    "410317f41c854fc1afb11ddc214a891a": {
     "views": []
    },
    "4d49232f222b4334bca6ee39d5f51060": {
     "views": []
    },
    "4f1d0fd873f64b56b53adacfc3b0d5df": {
     "views": []
    },
    "5117046e62b54e31948aa8775bf2b761": {
     "views": []
    },
    "5a8909cf8f5b44d7875593124bcaf4b7": {
     "views": []
    },
    "5e12ce90a9584a99a02251cf79c41b5a": {
     "views": []
    },
    "647c1df517cc41a9a341881f5a085369": {
     "views": []
    },
    "67d80a78f7cf4fd38a6c85fdeef5968f": {
     "views": []
    },
    "67fddafad90144cca9b7873a5de3fe10": {
     "views": []
    },
    "6ad584f30ec24679a321021ddac28fea": {
     "views": []
    },
    "6b0da8d5069248e6b7f0036c5b4c07ae": {
     "views": []
    },
    "702360b248ff47ff923876c16c1b17a1": {
     "views": []
    },
    "71df81b7757d4572a21035f2421c75e0": {
     "views": []
    },
    "78c08945d72a4729bc96fc04ea00ca07": {
     "views": []
    },
    "7e7f3d589b9547f8a7dee6ce4033707b": {
     "views": [
      {
       "cell_index": 3
      }
     ]
    },
    "7fee01856d3d4cb4a156a84a9f7da383": {
     "views": []
    },
    "8037744da4ad40b08719b96119aa583a": {
     "views": []
    },
    "85b1c7d434dd4ef9b12cc4994e1093a4": {
     "views": []
    },
    "884cc074bde5447e929d0f41f0567cff": {
     "views": []
    },
    "893b945e67f74365b8948edda6580852": {
     "views": []
    },
    "898fe14c74b543b0833f56ebda78b2c6": {
     "views": []
    },
    "90c5caa12c654af7a9d7204bc07cee05": {
     "views": []
    },
    "9275cfd2b6bb401d95d0433924ffb05e": {
     "views": []
    },
    "977a11b83d5e4064a689840d15cdce6b": {
     "views": []
    },
    "a7799e650b154769984533ce9ce758aa": {
     "views": []
    },
    "ada022e048944ac08423220377c9f1fb": {
     "views": []
    },
    "bb5f8ea7875f49e385ae18cd48589ca7": {
     "views": []
    },
    "bef41216963a4103a33e61d6fd9bdb2e": {
     "views": []
    },
    "c10085e93df94f98ab609ef9a65046b6": {
     "views": []
    },
    "c2960febfbbc4fdc81f595163efc7fcc": {
     "views": []
    },
    "c87cc86bbe244b30893531ebf9555d2f": {
     "views": []
    },
    "defb783561374122b2fb0b7c229c539c": {
     "views": []
    },
    "df44563535d04f6198b4e556fbbd8ffe": {
     "views": []
    },
    "eace8497467345c9bfab824da1105e74": {
     "views": []
    },
    "f42ad3c6be9e4e8c9f7b0ac1a3bcc765": {
     "views": []
    },
    "f4a0b326625f4b91ac69b52b0a737cc1": {
     "views": []
    },
    "ffdd772d746f4a6ab2c0ec2d33c6909b": {
     "views": []
    }
   },
   "version": "1.1.2"
  }
 },
 "nbformat": 4,
 "nbformat_minor": 0
}
