{
 "cells": [
  {
   "cell_type": "code",
   "execution_count": 47,
   "metadata": {
    "collapsed": false
   },
   "outputs": [],
   "source": [
    "url = 'http://opendap-matroos.deltares.nl/thredds/catalog/maps2d/knmi_h11_v72/catalog.xml'\n",
    "import osgeo.osr"
   ]
  },
  {
   "cell_type": "code",
   "execution_count": 48,
   "metadata": {
    "collapsed": true
   },
   "outputs": [],
   "source": [
    "from thredds_crawler.crawl import Crawl\n",
    "import numpy as np\n",
    "import matplotlib.pyplot as plt\n",
    "import cmocean.cm\n",
    "import matplotlib.colors\n",
    "# %matplotlib inline"
   ]
  },
  {
   "cell_type": "code",
   "execution_count": 3,
   "metadata": {
    "collapsed": false
   },
   "outputs": [],
   "source": [
    "c = Crawl(url)"
   ]
  },
  {
   "cell_type": "code",
   "execution_count": 4,
   "metadata": {
    "collapsed": false
   },
   "outputs": [],
   "source": [
    "dataset = c.datasets[0]"
   ]
  },
  {
   "cell_type": "code",
   "execution_count": 5,
   "metadata": {
    "collapsed": false
   },
   "outputs": [],
   "source": [
    "service = [service for service in dataset.services if service['service'] == 'OPENDAP'][0]"
   ]
  },
  {
   "cell_type": "code",
   "execution_count": 49,
   "metadata": {
    "collapsed": false
   },
   "outputs": [],
   "source": [
    "url = service['url']\n",
    "url\n",
    "url = '/Users/baart_f/data/knmi/201509230600.nc'\n"
   ]
  },
  {
   "cell_type": "code",
   "execution_count": 50,
   "metadata": {
    "collapsed": true
   },
   "outputs": [],
   "source": [
    "import netCDF4"
   ]
  },
  {
   "cell_type": "code",
   "execution_count": 51,
   "metadata": {
    "collapsed": false
   },
   "outputs": [],
   "source": [
    "ds = netCDF4.Dataset(url)"
   ]
  },
  {
   "cell_type": "code",
   "execution_count": 52,
   "metadata": {
    "collapsed": false
   },
   "outputs": [],
   "source": [
    "u = ds.variables['northward_wind']\n",
    "v = ds.variables['eastward_wind']"
   ]
  },
  {
   "cell_type": "code",
   "execution_count": null,
   "metadata": {
    "collapsed": false
   },
   "outputs": [],
   "source": []
  },
  {
   "cell_type": "code",
   "execution_count": 53,
   "metadata": {
    "collapsed": false
   },
   "outputs": [],
   "source": [
    "def plot(t):\n",
    "    uv = np.sqrt(u[t]**2 + v[t]**2)\n",
    "    plt.imshow(uv, cmap=cmocean.cm.option_d)\n",
    "    plt.colorbar()\n",
    "from IPython.html.widgets import interactive\n",
    "interactive(plot, t=(0, u.shape[0]))"
   ]
  },
  {
   "cell_type": "code",
   "execution_count": 54,
   "metadata": {
    "collapsed": false
   },
   "outputs": [],
   "source": [
    "X = ds.variables['x'][:,:]\n",
    "Y = ds.variables['y'][:,:]\n"
   ]
  },
  {
   "cell_type": "code",
   "execution_count": 55,
   "metadata": {
    "collapsed": false
   },
   "outputs": [],
   "source": [
    "# for i in range(u.shape[0]):\n",
    "i = 0\n",
    "uv = np.sqrt(u[i]**2 + v[i]**2)\n",
    "plt.figure(figsize=(13,8))\n",
    "# cmocean.cm.make_speed_cmap()\n",
    "plt.pcolormesh(X, Y, uv, cmap=cmocean.cm.option_d, vmin=0, vmax=20, shading='gouraud')\n",
    "plt.axis('off')\n",
    "plt.tight_layout()\n",
    "plt.savefig('knmi_%04d.png' % (i,))"
   ]
  },
  {
   "cell_type": "code",
   "execution_count": 56,
   "metadata": {
    "collapsed": false
   },
   "outputs": [],
   "source": [
    "# let's define the systems\n",
    "src_srs = osgeo.osr.SpatialReference()\n",
    "src_srs.ImportFromEPSG(4326)\n",
    "dst_srs = osgeo.osr.SpatialReference()\n",
    "dst_srs.ImportFromEPSG(900913)\n",
    "wgs84 = osgeo.osr.SpatialReference()\n",
    "wgs84.ImportFromEPSG(4326)\n",
    "utm = osgeo.osr.SpatialReference()\n",
    "utm.ImportFromEPSG(32631)\n",
    "\n",
    "# and the translations between them\n",
    "src2wgs84 = osgeo.osr.CoordinateTransformation(src_srs, wgs84)\n",
    "dst2wgs84 = osgeo.osr.CoordinateTransformation(dst_srs, wgs84)\n",
    "utm2wgs84 = osgeo.osr.CoordinateTransformation(utm, wgs84)\n",
    "wgs842utm = osgeo.osr.CoordinateTransformation(wgs84, utm)\n",
    "utm2dst = osgeo.osr.CoordinateTransformation(utm, dst_srs)\n",
    "src2utm = osgeo.osr.CoordinateTransformation(src_srs, utm)\n",
    "\n",
    "src2dst = osgeo.osr.CoordinateTransformation(src_srs, dst_srs)"
   ]
  },
  {
   "cell_type": "code",
   "execution_count": 57,
   "metadata": {
    "collapsed": true
   },
   "outputs": [],
   "source": [
    "points_gm = np.array(src2dst.TransformPoints(np.c_[X.ravel(), Y.ravel()]))\n"
   ]
  },
  {
   "cell_type": "code",
   "execution_count": 58,
   "metadata": {
    "collapsed": false
   },
   "outputs": [],
   "source": [
    "XYZ_gm = points_gm.reshape(X.shape + (3,))\n",
    "X_gm, Y_gm = XYZ_gm[...,0], XYZ_gm[...,1]"
   ]
  },
  {
   "cell_type": "code",
   "execution_count": 59,
   "metadata": {
    "collapsed": false
   },
   "outputs": [
    {
     "data": {
      "text/plain": [
       "(array([  1229.,   4530.,  11585.,  29333.,  62586.,  28273.,  14284.,\n",
       "         10451.,   4154.,    896.]),\n",
       " array([-10.77807617,  -8.38201971,  -5.98596325,  -3.58990679,\n",
       "         -1.19385033,   1.20220613,   3.5982626 ,   5.99431906,\n",
       "          8.39037552,  10.78643198,  13.18248844]),\n",
       " <a list of 10 Patch objects>)"
      ]
     },
     "execution_count": 59,
     "metadata": {},
     "output_type": "execute_result"
    }
   ],
   "source": [
    "U, V = u[-1], v[-1]\n",
    "plt.hist(U.ravel())\n",
    "plt.hist(V.ravel())"
   ]
  },
  {
   "cell_type": "code",
   "execution_count": 60,
   "metadata": {
    "collapsed": false
   },
   "outputs": [],
   "source": [
    "cmap = cmocean.cm.option_d\n",
    "# normalization function\n",
    "\n",
    "\n",
    "#plt.imshow(C)"
   ]
  },
  {
   "cell_type": "code",
   "execution_count": 61,
   "metadata": {
    "collapsed": false
   },
   "outputs": [],
   "source": [
    "#def uv2rgb(X, Y, uv):\n",
    "def uv2c(U, V):\n",
    "    N = matplotlib.colors.Normalize(vmin=-15, vmax=15, clip=True)\n",
    "    C = np.dstack([\n",
    "            N(U), \n",
    "            N(V), \n",
    "            np.zeros_like(V),\n",
    "            np.ones_like(V)\n",
    "        ]).astype('float64')\n",
    "    #C = cmap(N(U))\n",
    "    C.min(), C.max(), C.shape, C.dtype\n",
    "    return C\n",
    "\n",
    "def fig2rgba_array(fig):\n",
    "    fig.canvas.draw()\n",
    "    buf = fig.canvas.tostring_argb()\n",
    "    ncols, nrows = fig.canvas.get_width_height()\n",
    "    arr = np.fromstring(buf, dtype=np.uint8).reshape(nrows, ncols, 4)\n",
    "    # argb -> rgba (roll back 1)\n",
    "    arr = np.roll(arr, -1, -1)\n",
    "    return arr\n",
    "\n",
    "def uv2rgba(X, Y, U, V, filename, res=1024):\n",
    "    C = uv2c(U, V)\n",
    "    fig, ax = plt.subplots(figsize=(res/72.0, res/72.0))\n",
    "    ax.axis('off')\n",
    "    fig.tight_layout(pad=0)\n",
    "    plt.subplots_adjust(left=0, right=1, top=1, bottom=0)\n",
    "\n",
    "    im = ax.pcolormesh(X_gm, Y_gm, np.zeros_like(X),  shading='gouraud')\n",
    "\n",
    "    im.set_array(None) # remove the array\n",
    "    im.set_edgecolor('none') # no borders\n",
    "    # Pass the image, make sure it is type: float, shape N,M,4 (alpha channel)\n",
    "    im.set_facecolor(C.reshape(C.shape[0]*C.shape[1], C.shape[2]))\n",
    "\n",
    "    xlim = ax.get_xlim()\n",
    "    ylim = ax.get_ylim()\n",
    "    plt.plot(xlim[0], ylim[0], 'k+', markersize=100)\n",
    "    plt.plot(xlim[0], ylim[1], 'k+', markersize=100)\n",
    "    plt.plot(xlim[1], ylim[1], 'k+', markersize=100)\n",
    "    plt.plot(xlim[1], ylim[0], 'k+', markersize=100)\n",
    "    ax.set_xlim(xlim)\n",
    "    #flip axis for webgl\n",
    "    ax.set_ylim(ylim[::-1])\n",
    "    fig.savefig(filename,  facecolor='blue', dpi=72)\n",
    "    plt.close(fig)\n",
    "\n",
    "n = u.shape[0]\n",
    "step = 5\n",
    "for i in range((n - 1)*step -1):\n",
    "    i0, remainder = divmod(i, step)\n",
    "    i1 = i0 + 1\n",
    "    # interpolation factors\n",
    "    f0 = (1-remainder/float(step))\n",
    "    f1 = (remainder/float(step))\n",
    "    # interpolate in time\n",
    "    U = u[i0] * f0 + u[i1] * f1\n",
    "    V = v[i0] * f0 + v[i1] * f1    \n",
    "    uv2rgba(X, Y, U, V, 'knmi_%04d.png' % (i,))\n"
   ]
  },
  {
   "cell_type": "code",
   "execution_count": 27,
   "metadata": {
    "collapsed": false
   },
   "outputs": [],
   "source": [
    "fig = plt.figure()\n",
    "fig.savefig?"
   ]
  },
  {
   "cell_type": "code",
   "execution_count": 32,
   "metadata": {
    "collapsed": false
   },
   "outputs": [
    {
     "data": {
      "text/plain": [
       "49"
      ]
     },
     "execution_count": 32,
     "metadata": {},
     "output_type": "execute_result"
    }
   ],
   "source": [
    "u.shape[0]"
   ]
  },
  {
   "cell_type": "code",
   "execution_count": 37,
   "metadata": {
    "collapsed": false
   },
   "outputs": [
    {
     "data": {
      "text/plain": [
       "array([ 0,  1,  2,  3,  4,  5,  6,  7,  8,  9, 10, 11, 12, 13, 14, 15, 16,\n",
       "       17, 18, 19, 20, 21, 22, 23, 24, 25, 26, 27, 28, 29, 30, 31, 32, 33,\n",
       "       34, 35, 36, 37, 38, 39, 40, 41, 42, 43, 44, 45, 46, 47, 48], dtype=int32)"
      ]
     },
     "execution_count": 37,
     "metadata": {},
     "output_type": "execute_result"
    }
   ],
   "source": [
    "ds.variables['time'][:]"
   ]
  },
  {
   "cell_type": "code",
   "execution_count": 46,
   "metadata": {
    "collapsed": false
   },
   "outputs": [
    {
     "data": {
      "text/plain": [
       "([-30.868795, 26.064999], [64.929413, 80.0])"
      ]
     },
     "execution_count": 46,
     "metadata": {},
     "output_type": "execute_result"
    }
   ],
   "source": [
    "[X.min(), Y.min()], [X.max(), Y.max()]\n"
   ]
  },
  {
   "cell_type": "code",
   "execution_count": 45,
   "metadata": {
    "collapsed": false
   },
   "outputs": [
    {
     "data": {
      "text/plain": [
       "<type 'netCDF4.Dataset'>\n",
       "root group (NETCDF3_CLASSIC data model, file format DAP2):\n",
       "    history: Data retrieved from KNMI (NL); Created by Matroos on Wed Sep 23 10:44:53 CEST 2015\n",
       "    grid_type: IRREGULAR\n",
       "    coordinate_system: WGS84\n",
       "    Conventions: CF-1.0\n",
       "    DODS_EXTRA.Unlimited_Dimension: time\n",
       "    dimensions(sizes): time(49), x(371), y(451)\n",
       "    variables(dimensions): float32 \u001b[4msea_ice_area_fraction_mean_sealevel\u001b[0m(y,x), int32 \u001b[4mtime\u001b[0m(time), float32 \u001b[4msurface_snow_amount\u001b[0m(time,y,x), float32 \u001b[4msurface_net_upward_shortwave_flux\u001b[0m(time,y,x), float32 \u001b[4mx\u001b[0m(y,x), float32 \u001b[4mair_pressure\u001b[0m(time,y,x), float32 \u001b[4mair_temperature_at_cloud_top\u001b[0m(time,y,x), float32 \u001b[4msurface_roughness_length_mean_sealevel\u001b[0m(y,x), float32 \u001b[4mprecipitation_amount\u001b[0m(time,y,x), float32 \u001b[4my\u001b[0m(y,x), float32 \u001b[4matmosphere_boundary_layer_thickness\u001b[0m(time,y,x), float32 \u001b[4mdew_point_temperature\u001b[0m(time,y,x), float32 \u001b[4mland_area_fraction\u001b[0m(y,x), float32 \u001b[4mcloud_area_fraction\u001b[0m(time,y,x), float32 \u001b[4msurface_upward_sensible_heat_flux\u001b[0m(time,y,x), float32 \u001b[4mlow_cloud_area_fraction\u001b[0m(time,y,x), float32 \u001b[4mmedium_cloud_area_fraction\u001b[0m(time,y,x), float32 \u001b[4mg10_rot_3\u001b[0m(y,x), float32 \u001b[4mair_pressure_fixed_height\u001b[0m(time,y,x), float32 \u001b[4msurface_net_upward_longwave_flux\u001b[0m(time,y,x), float32 \u001b[4msurface_snow_thickness\u001b[0m(time,y,x), float32 \u001b[4mhigh_cloud_area_fraction\u001b[0m(time,y,x), float32 \u001b[4mgeopotential\u001b[0m(y,x), float32 \u001b[4msurface_upward_latent_heat_flux\u001b[0m(time,y,x), float32 \u001b[4mconvective_precipitation_amount\u001b[0m(time,y,x), float32 \u001b[4msurface_albedo\u001b[0m(time,y,x), float32 \u001b[4msurface_roughness_length\u001b[0m(y,x), float32 \u001b[4msurface_downwelling_shortwave_flux_in_air\u001b[0m(time,y,x), float32 \u001b[4mair_temperature\u001b[0m(time,y,x), float32 \u001b[4mnorthward_wind\u001b[0m(time,y,x), float32 \u001b[4meastward_wind\u001b[0m(time,y,x)\n",
       "    groups: "
      ]
     },
     "execution_count": 45,
     "metadata": {},
     "output_type": "execute_result"
    }
   ],
   "source": [
    "ds"
   ]
  },
  {
   "cell_type": "code",
   "execution_count": null,
   "metadata": {
    "collapsed": true
   },
   "outputs": [],
   "source": []
  }
 ],
 "metadata": {
  "kernelspec": {
   "display_name": "Python 2",
   "language": "python",
   "name": "python2"
  },
  "language_info": {
   "codemirror_mode": {
    "name": "ipython",
    "version": 2
   },
   "file_extension": ".py",
   "mimetype": "text/x-python",
   "name": "python",
   "nbconvert_exporter": "python",
   "pygments_lexer": "ipython2",
   "version": "2.7.10"
  }
 },
 "nbformat": 4,
 "nbformat_minor": 0
}
