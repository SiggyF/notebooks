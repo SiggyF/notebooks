{
 "metadata": {
  "name": "",
  "signature": "sha256:0595c428adc1fb0857bd9b428f5cf245b033b15e5881ba7444f63333d052438d"
 },
 "nbformat": 3,
 "nbformat_minor": 0,
 "worksheets": [
  {
   "cells": [
    {
     "cell_type": "code",
     "collapsed": false,
     "input": [
      "%%file calc.py\n",
      "import numpy as np\n",
      "def Calculator(x, y, method=\"sum\"):\n",
      "    return getattr(np, method)([x,y])\n",
      "\n",
      "def testCalculator():\n",
      "    assert Calculator(2,3, method=\"sum\") == 5"
     ],
     "language": "python",
     "metadata": {},
     "outputs": [
      {
       "output_type": "stream",
       "stream": "stdout",
       "text": [
        "Overwriting calc.py\n"
       ]
      }
     ],
     "prompt_number": 1
    },
    {
     "cell_type": "code",
     "collapsed": false,
     "input": [
      "import calc\n",
      "calc.testCalculator()"
     ],
     "language": "python",
     "metadata": {},
     "outputs": [],
     "prompt_number": 2
    },
    {
     "cell_type": "code",
     "collapsed": false,
     "input": [
      "!pep8 calc.py"
     ],
     "language": "python",
     "metadata": {},
     "outputs": [
      {
       "output_type": "stream",
       "stream": "stdout",
       "text": [
        "calc.py:2:1: E302 expected 2 blank lines, found 0\r\n",
        "calc.py:3:34: E231 missing whitespace after ','\r\n",
        "calc.py:5:1: E302 expected 2 blank lines, found 1\r\n"
       ]
      }
     ],
     "prompt_number": 3
    },
    {
     "cell_type": "code",
     "collapsed": false,
     "input": [
      "%%file calc.py\n",
      "# -- coding: utf-8 --\n",
      "import numpy as np\n",
      "\n",
      "\n",
      "def Calculator(x, y, method=\"sum\"):\n",
      "    return getattr(np, method)([x, y])\n",
      "\n",
      "\n",
      "def testCalculator():\n",
      "    assert Calculator(2, 3, method=\"sum\") == 5\n",
      "\n"
     ],
     "language": "python",
     "metadata": {},
     "outputs": [
      {
       "output_type": "stream",
       "stream": "stdout",
       "text": [
        "Overwriting calc.py\n"
       ]
      }
     ],
     "prompt_number": 4
    },
    {
     "cell_type": "code",
     "collapsed": false,
     "input": [
      "!pep8 calc.py"
     ],
     "language": "python",
     "metadata": {},
     "outputs": [],
     "prompt_number": 5
    },
    {
     "cell_type": "code",
     "collapsed": false,
     "input": [
      "!pyflakes calc.py"
     ],
     "language": "python",
     "metadata": {},
     "outputs": [],
     "prompt_number": 6
    },
    {
     "cell_type": "code",
     "collapsed": false,
     "input": [
      "!pylint calc.py"
     ],
     "language": "python",
     "metadata": {},
     "outputs": [
      {
       "output_type": "stream",
       "stream": "stdout",
       "text": [
        "No config file found, using default configuration\r\n",
        "************* Module calc\r\n"
       ]
      },
      {
       "output_type": "stream",
       "stream": "stdout",
       "text": [
        "C:  1, 0: Missing module docstring (missing-docstring)\r\n",
        "C:  5, 0: Invalid function name \"Calculator\" (invalid-name)\r\n",
        "C:  5, 0: Invalid argument name \"x\" (invalid-name)\r\n",
        "C:  5, 0: Invalid argument name \"y\" (invalid-name)\r\n",
        "C:  5, 0: Missing function docstring (missing-docstring)\r\n",
        "C:  9, 0: Invalid function name \"testCalculator\" (invalid-name)\r\n",
        "C:  9, 0: Missing function docstring (missing-docstring)\r\n",
        "\r\n",
        "\r\n",
        "Report\r\n",
        "======\r\n",
        "6 statements analysed.\r\n",
        "\r\n",
        "Duplication\r\n",
        "-----------\r\n",
        "\r\n",
        "+-------------------------+------+---------+-----------+\r\n",
        "|                         |now   |previous |difference |\r\n",
        "+=========================+======+=========+===========+\r\n",
        "|nb duplicated lines      |0     |NC       |NC         |\r\n",
        "+-------------------------+------+---------+-----------+\r\n",
        "|percent duplicated lines |0.000 |NC       |NC         |\r\n",
        "+-------------------------+------+---------+-----------+\r\n",
        "\r\n",
        "\r\n",
        "\r\n",
        "Messages by category\r\n",
        "--------------------\r\n",
        "\r\n",
        "+-----------+-------+---------+-----------+\r\n",
        "|type       |number |previous |difference |\r\n",
        "+===========+=======+=========+===========+\r\n",
        "|convention |7      |NC       |NC         |\r\n",
        "+-----------+-------+---------+-----------+\r\n",
        "|refactor   |0      |NC       |NC         |\r\n",
        "+-----------+-------+---------+-----------+\r\n",
        "|warning    |0      |NC       |NC         |\r\n",
        "+-----------+-------+---------+-----------+\r\n",
        "|error      |0      |NC       |NC         |\r\n",
        "+-----------+-------+---------+-----------+\r\n",
        "\r\n",
        "\r\n",
        "\r\n",
        "Messages\r\n",
        "--------\r\n",
        "\r\n",
        "+------------------+------------+\r\n",
        "|message id        |occurrences |\r\n",
        "+==================+============+\r\n",
        "|invalid-name      |4           |\r\n",
        "+------------------+------------+\r\n",
        "|missing-docstring |3           |\r\n",
        "+------------------+------------+\r\n",
        "\r\n",
        "\r\n",
        "\r\n",
        "Global evaluation\r\n",
        "-----------------\r\n",
        "Your code has been rated at -1.67/10\r\n",
        "\r\n",
        "External dependencies\r\n",
        "---------------------\r\n",
        "::\r\n",
        "\r\n",
        "    numpy (calc)\r\n",
        "\r\n",
        "\r\n",
        "\r\n",
        "Raw metrics\r\n",
        "-----------\r\n",
        "\r\n",
        "+----------+-------+------+---------+-----------+\r\n",
        "|type      |number |%     |previous |difference |\r\n",
        "+==========+=======+======+=========+===========+\r\n",
        "|code      |5      |55.56 |NC       |NC         |\r\n",
        "+----------+-------+------+---------+-----------+\r\n",
        "|docstring |0      |0.00  |NC       |NC         |\r\n",
        "+----------+-------+------+---------+-----------+\r\n",
        "|comment   |0      |0.00  |NC       |NC         |\r\n",
        "+----------+-------+------+---------+-----------+\r\n",
        "|empty     |4      |44.44 |NC       |NC         |\r\n",
        "+----------+-------+------+---------+-----------+\r\n",
        "\r\n",
        "\r\n",
        "\r\n",
        "Statistics by type\r\n",
        "------------------\r\n",
        "\r\n",
        "+---------+-------+-----------+-----------+------------+---------+\r\n",
        "|type     |number |old number |difference |%documented |%badname |\r\n",
        "+=========+=======+===========+===========+============+=========+\r\n",
        "|module   |1      |NC         |NC         |0.00        |0.00     |\r\n",
        "+---------+-------+-----------+-----------+------------+---------+\r\n",
        "|class    |0      |NC         |NC         |0           |0        |\r\n",
        "+---------+-------+-----------+-----------+------------+---------+\r\n",
        "|method   |0      |NC         |NC         |0           |0        |\r\n",
        "+---------+-------+-----------+-----------+------------+---------+\r\n",
        "|function |2      |NC         |NC         |0.00        |100.00   |\r\n",
        "+---------+-------+-----------+-----------+------------+---------+\r\n",
        "\r\n",
        "\r\n",
        "\r\n"
       ]
      }
     ],
     "prompt_number": 7
    },
    {
     "cell_type": "code",
     "collapsed": false,
     "input": [],
     "language": "python",
     "metadata": {},
     "outputs": []
    }
   ],
   "metadata": {}
  }
 ]
}