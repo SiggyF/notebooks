{
 "cells": [
  {
   "cell_type": "code",
   "execution_count": 44,
   "metadata": {
    "collapsed": false
   },
   "outputs": [
    {
     "name": "stdout",
     "output_type": "stream",
     "text": [
      "t: 0.40 calling function fast\n",
      "t: 0.80 calling function medium\n",
      "t: 1.20 calling function fast\n",
      "t: 1.60 calling function medium\n",
      "t: 2.00 calling function slow\n",
      "t: 2.80 calling function fast\n",
      "t: 3.20 calling function medium\n",
      "t: 3.60 calling function fast\n",
      "t: 4.00 calling function slow\n",
      "t: 4.80 calling function medium\n",
      "t: 5.20 calling function fast\n",
      "t: 5.60 calling function medium\n",
      "t: 6.00 calling function slow\n",
      "t: 6.80 calling function fast\n",
      "t: 7.20 calling function medium\n",
      "t: 7.60 calling function fast\n",
      "t: 8.00 calling function slow\n",
      "t: 8.80 calling function medium\n",
      "t: 9.20 calling function fast\n",
      "t: 9.60 calling function medium\n"
     ]
    }
   ],
   "source": [
    "import functools\n",
    "import sys\n",
    "\n",
    "tasks = [\n",
    "    {\n",
    "        \"name\": \"fast\",\n",
    "        \"interval\": 0.4,\n",
    "        # do this if nothing else is running\n",
    "        \"priority\": 1,\n",
    "        \"duration\": 0.01,\n",
    "        \"nice\": 0.0\n",
    "    },\n",
    "    {\n",
    "        \"name\": \"medium\",\n",
    "        \"interval\": 0.8,\n",
    "        # do this if slow is not running\n",
    "        \"priority\": 2,\n",
    "        \"duration\": 0.01,\n",
    "        \"nice\": 0.0\n",
    "    },\n",
    "    {\n",
    "        \"name\": \"slow\",\n",
    "        \"interval\": 2,\n",
    "        # always do this \n",
    "        \"priority\": 3,\n",
    "        \"duration\": 0.5,\n",
    "        \"nice\": 0.0\n",
    "    }\n",
    "]\n",
    "\n",
    "T0 = 0\n",
    "t = 0\n",
    "def wait_time(task, elapsed):\n",
    "    \"\"\"how long to wait for the interval to occur again\"\"\"\n",
    "    interval = task['interval']\n",
    "    wait = interval - (elapsed % interval)\n",
    "    # we have to wait a bit longer to avoid floating point issues\n",
    "    wait += sys.float_info.epsilon\n",
    "    return wait\n",
    "def dead_line(task, elapsed):\n",
    "    interval = task['interval']\n",
    "    wait = interval - (elapsed % interval)\n",
    "    wait += sys.float_info.epsilon\n",
    "    dead = wait + task['duration']\n",
    "    return dead\n",
    "    \n",
    "\n",
    "for i in range(20):\n",
    "    elapsed = t - T0\n",
    "    next_wait_time = functools.partial(wait_time, elapsed=elapsed)\n",
    "    \n",
    "    # select the next task based on finish first\n",
    "    first_task = min(\n",
    "        tasks, \n",
    "        key=lambda x: next_wait_time(x) + x['duration']\n",
    "    )\n",
    "    \n",
    "    # how long will this run?\n",
    "    first_stop = next_wait_time(first_task) + first_task['duration']\n",
    "    \n",
    "    # see if this blocks any other tasks\n",
    "    overlapping_tasks = []\n",
    "    for task in tasks:\n",
    "        if next_wait_time(task) <= first_stop:\n",
    "            overlapping_tasks.append(task)\n",
    "    \n",
    "    # select the task with the highest priority\n",
    "    selected_task = max(overlapping_tasks, key=lambda x: x['priority'])\n",
    "    # how long should we wait for it\n",
    "    selected_wait = next_wait_time(selected_task) \n",
    "    \n",
    "    # TODO: give bonus to missed tasks\n",
    "    \n",
    "    # wait for time to be executed\n",
    "    t += selected_wait\n",
    "    print('t: %.2f calling function %s' % (t, selected_task['name']))\n",
    "    # execute it\n",
    "    t += selected_task['duration']\n",
    "    # update duration estimate\n",
    "    "
   ]
  },
  {
   "cell_type": "code",
   "execution_count": 47,
   "metadata": {
    "collapsed": false
   },
   "outputs": [
    {
     "name": "stdout",
     "output_type": "stream",
     "text": [
      "t: 0.40 calling function fast\n",
      "t: 0.80 calling function fast\n",
      "t: 1.20 calling function fast\n",
      "t: 1.60 calling function fast\n",
      "t: 2.00 calling function fast\n",
      "t: 2.40 calling function fast\n",
      "t: 2.80 calling function fast\n",
      "t: 3.20 calling function fast\n",
      "t: 3.60 calling function fast\n",
      "t: 4.00 calling function fast\n",
      "t: 4.40 calling function fast\n",
      "t: 4.80 calling function fast\n",
      "t: 5.20 calling function fast\n",
      "t: 5.60 calling function fast\n",
      "t: 6.00 calling function fast\n",
      "t: 6.40 calling function fast\n",
      "t: 6.80 calling function fast\n",
      "t: 7.20 calling function fast\n",
      "t: 7.60 calling function fast\n",
      "t: 8.00 calling function fast\n"
     ]
    }
   ],
   "source": [
    "t = 0\n",
    "for i in range(20):\n",
    "    elapsed = t - T0\n",
    "    next_wait_time = functools.partial(wait_time, elapsed=elapsed)\n",
    "    \n",
    "    next_dead_line = functools.partial(dead_line, elapsed=elapsed)\n",
    "    \n",
    "    # select the next task based on finish first\n",
    "    first_task = min(\n",
    "        tasks, \n",
    "        key=lambda x: next_dead_line(x)\n",
    "    )\n",
    "    \n",
    "    # how long will this run?\n",
    "    first_stop = next_dead_line(task)\n",
    "    \n",
    "    selected_task = first_task\n",
    "    # TODO: give bonus to missed tasks\n",
    "    \n",
    "    \n",
    "    # wait for time to be executed\n",
    "    t += next_wait_time(selected_task)\n",
    "    print('t: %.2f calling function %s' % (t, selected_task['name']))\n",
    "    # execute it\n",
    "    t += selected_task['duration']\n",
    "    # update duration estimate"
   ]
  },
  {
   "cell_type": "code",
   "execution_count": 46,
   "metadata": {
    "collapsed": false
   },
   "outputs": [
    {
     "data": {
      "text/plain": [
       "True"
      ]
     },
     "execution_count": 46,
     "metadata": {},
     "output_type": "execute_result"
    }
   ],
   "source": [
    "intervals = [task['interval'] for task in tasks]\n",
    "min_interval = min(intervals)\n",
    "fractions = [task['interval'] / min_interval for task in tasks]\n",
    "fractions\n",
    "import numpy as np\n",
    "a = task['interval']/ min_interval\n",
    "all([fraction.is_integer() for fraction in fractions])"
   ]
  },
  {
   "cell_type": "code",
   "execution_count": null,
   "metadata": {
    "collapsed": true
   },
   "outputs": [],
   "source": []
  }
 ],
 "metadata": {
  "kernelspec": {
   "display_name": "Python 3",
   "language": "python",
   "name": "python3"
  },
  "language_info": {
   "codemirror_mode": {
    "name": "ipython",
    "version": 3
   },
   "file_extension": ".py",
   "mimetype": "text/x-python",
   "name": "python",
   "nbconvert_exporter": "python",
   "pygments_lexer": "ipython3",
   "version": "3.5.1"
  }
 },
 "nbformat": 4,
 "nbformat_minor": 0
}
